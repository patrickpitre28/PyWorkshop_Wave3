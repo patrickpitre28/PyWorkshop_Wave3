{
    "cells": [
        {
            "metadata": {},
            "cell_type": "code",
            "source": "import types\nimport pandas as pd\nfrom botocore.client import Config\nimport ibm_boto3\n\ndef __iter__(self): return 0\n\n# @hidden_cell\n# The following code accesses a file in your IBM Cloud Object Storage. It includes your credentials.\n# You might want to remove those credentials before you share the notebook.\nclient_273faebd9bbe4696bb7782fea6804875 = ibm_boto3.client(service_name='s3',\n    ibm_api_key_id='dLiHciXcPkRFeWwPcCu4KFFlv81ODJoVTa8cn6WsjK8s',\n    ibm_auth_endpoint=\"https://iam.ng.bluemix.net/oidc/token\",\n    config=Config(signature_version='oauth'),\n    endpoint_url='https://s3-api.us-geo.objectstorage.service.networklayer.com')\n\nbody = client_273faebd9bbe4696bb7782fea6804875.get_object(Bucket='pyrworkshopwave3-donotdelete-pr-d3nvfbpgzyjmiq',Key='Pokemon.csv')['Body']\n# add missing __iter__ method, so pandas accepts body as file-like object\nif not hasattr(body, \"__iter__\"): body.__iter__ = types.MethodType( __iter__, body )\n\ndf = pd.read_csv(body)\ndf.head()\n",
            "execution_count": 7,
            "outputs": [
                {
                    "output_type": "execute_result",
                    "execution_count": 7,
                    "data": {
                        "text/plain": "   #                   Name Type 1  Type 2  Total  HP  Attack  Defense  \\\n0  1              Bulbasaur  Grass  Poison    318  45      49       49   \n1  2                Ivysaur  Grass  Poison    405  60      62       63   \n2  3               Venusaur  Grass  Poison    525  80      82       83   \n3  3  VenusaurMega Venusaur  Grass  Poison    625  80     100      123   \n4  4             Charmander   Fire     NaN    309  39      52       43   \n\n   Sp. Atk  Sp. Def  Speed Generation  Legendary  \n0       65       65     45      Gen 1      False  \n1       80       80     60      Gen 1      False  \n2      100      100     80      Gen 1      False  \n3      122      120     80      Gen 1      False  \n4       60       50     65      Gen 1      False  ",
                        "text/html": "<div>\n<style scoped>\n    .dataframe tbody tr th:only-of-type {\n        vertical-align: middle;\n    }\n\n    .dataframe tbody tr th {\n        vertical-align: top;\n    }\n\n    .dataframe thead th {\n        text-align: right;\n    }\n</style>\n<table border=\"1\" class=\"dataframe\">\n  <thead>\n    <tr style=\"text-align: right;\">\n      <th></th>\n      <th>#</th>\n      <th>Name</th>\n      <th>Type 1</th>\n      <th>Type 2</th>\n      <th>Total</th>\n      <th>HP</th>\n      <th>Attack</th>\n      <th>Defense</th>\n      <th>Sp. Atk</th>\n      <th>Sp. Def</th>\n      <th>Speed</th>\n      <th>Generation</th>\n      <th>Legendary</th>\n    </tr>\n  </thead>\n  <tbody>\n    <tr>\n      <th>0</th>\n      <td>1</td>\n      <td>Bulbasaur</td>\n      <td>Grass</td>\n      <td>Poison</td>\n      <td>318</td>\n      <td>45</td>\n      <td>49</td>\n      <td>49</td>\n      <td>65</td>\n      <td>65</td>\n      <td>45</td>\n      <td>Gen 1</td>\n      <td>False</td>\n    </tr>\n    <tr>\n      <th>1</th>\n      <td>2</td>\n      <td>Ivysaur</td>\n      <td>Grass</td>\n      <td>Poison</td>\n      <td>405</td>\n      <td>60</td>\n      <td>62</td>\n      <td>63</td>\n      <td>80</td>\n      <td>80</td>\n      <td>60</td>\n      <td>Gen 1</td>\n      <td>False</td>\n    </tr>\n    <tr>\n      <th>2</th>\n      <td>3</td>\n      <td>Venusaur</td>\n      <td>Grass</td>\n      <td>Poison</td>\n      <td>525</td>\n      <td>80</td>\n      <td>82</td>\n      <td>83</td>\n      <td>100</td>\n      <td>100</td>\n      <td>80</td>\n      <td>Gen 1</td>\n      <td>False</td>\n    </tr>\n    <tr>\n      <th>3</th>\n      <td>3</td>\n      <td>VenusaurMega Venusaur</td>\n      <td>Grass</td>\n      <td>Poison</td>\n      <td>625</td>\n      <td>80</td>\n      <td>100</td>\n      <td>123</td>\n      <td>122</td>\n      <td>120</td>\n      <td>80</td>\n      <td>Gen 1</td>\n      <td>False</td>\n    </tr>\n    <tr>\n      <th>4</th>\n      <td>4</td>\n      <td>Charmander</td>\n      <td>Fire</td>\n      <td>NaN</td>\n      <td>309</td>\n      <td>39</td>\n      <td>52</td>\n      <td>43</td>\n      <td>60</td>\n      <td>50</td>\n      <td>65</td>\n      <td>Gen 1</td>\n      <td>False</td>\n    </tr>\n  </tbody>\n</table>\n</div>"
                    },
                    "metadata": {}
                }
            ]
        },
        {
            "metadata": {},
            "cell_type": "code",
            "source": "import numpy as np\nnp.set_printoptions(suppress=True)\npt = np.get_printoptions()['threshold']",
            "execution_count": 8,
            "outputs": []
        },
        {
            "metadata": {},
            "cell_type": "code",
            "source": "import os\ncwd = os.getcwd()\n#[x[0] for x in os.walk('/home/dsxuser/')]",
            "execution_count": 9,
            "outputs": []
        },
        {
            "metadata": {},
            "cell_type": "markdown",
            "source": "# Threshold based methods"
        },
        {
            "metadata": {},
            "cell_type": "markdown",
            "source": "## Limiting features in bag of word based models"
        },
        {
            "metadata": {},
            "cell_type": "code",
            "source": "from sklearn.feature_extraction.text import CountVectorizer\n\ncv = CountVectorizer(min_df=0.1, max_df=0.85, max_features=2000)\ncv",
            "execution_count": 10,
            "outputs": [
                {
                    "output_type": "execute_result",
                    "execution_count": 10,
                    "data": {
                        "text/plain": "CountVectorizer(analyzer='word', binary=False, decode_error='strict',\n        dtype=<class 'numpy.int64'>, encoding='utf-8', input='content',\n        lowercase=True, max_df=0.85, max_features=2000, min_df=0.1,\n        ngram_range=(1, 1), preprocessor=None, stop_words=None,\n        strip_accents=None, token_pattern='(?u)\\\\b\\\\w\\\\w+\\\\b',\n        tokenizer=None, vocabulary=None)"
                    },
                    "metadata": {}
                }
            ]
        },
        {
            "metadata": {},
            "cell_type": "markdown",
            "source": "## Variance based thresholding"
        },
        {
            "metadata": {},
            "cell_type": "code",
            "source": "#df = pd.read_csv('datasets/Pokemon.csv')\npoke_gen = pd.get_dummies(df['Generation'])\npoke_gen.head()",
            "execution_count": 11,
            "outputs": [
                {
                    "output_type": "execute_result",
                    "execution_count": 11,
                    "data": {
                        "text/plain": "   Gen 1  Gen 2  Gen 3  Gen 4  Gen 5  Gen 6\n0      1      0      0      0      0      0\n1      1      0      0      0      0      0\n2      1      0      0      0      0      0\n3      1      0      0      0      0      0\n4      1      0      0      0      0      0",
                        "text/html": "<div>\n<style scoped>\n    .dataframe tbody tr th:only-of-type {\n        vertical-align: middle;\n    }\n\n    .dataframe tbody tr th {\n        vertical-align: top;\n    }\n\n    .dataframe thead th {\n        text-align: right;\n    }\n</style>\n<table border=\"1\" class=\"dataframe\">\n  <thead>\n    <tr style=\"text-align: right;\">\n      <th></th>\n      <th>Gen 1</th>\n      <th>Gen 2</th>\n      <th>Gen 3</th>\n      <th>Gen 4</th>\n      <th>Gen 5</th>\n      <th>Gen 6</th>\n    </tr>\n  </thead>\n  <tbody>\n    <tr>\n      <th>0</th>\n      <td>1</td>\n      <td>0</td>\n      <td>0</td>\n      <td>0</td>\n      <td>0</td>\n      <td>0</td>\n    </tr>\n    <tr>\n      <th>1</th>\n      <td>1</td>\n      <td>0</td>\n      <td>0</td>\n      <td>0</td>\n      <td>0</td>\n      <td>0</td>\n    </tr>\n    <tr>\n      <th>2</th>\n      <td>1</td>\n      <td>0</td>\n      <td>0</td>\n      <td>0</td>\n      <td>0</td>\n      <td>0</td>\n    </tr>\n    <tr>\n      <th>3</th>\n      <td>1</td>\n      <td>0</td>\n      <td>0</td>\n      <td>0</td>\n      <td>0</td>\n      <td>0</td>\n    </tr>\n    <tr>\n      <th>4</th>\n      <td>1</td>\n      <td>0</td>\n      <td>0</td>\n      <td>0</td>\n      <td>0</td>\n      <td>0</td>\n    </tr>\n  </tbody>\n</table>\n</div>"
                    },
                    "metadata": {}
                }
            ]
        },
        {
            "metadata": {},
            "cell_type": "code",
            "source": "from sklearn.feature_selection import VarianceThreshold\n\nvt = VarianceThreshold(threshold=.15)\nvt.fit(poke_gen)",
            "execution_count": 12,
            "outputs": [
                {
                    "output_type": "execute_result",
                    "execution_count": 12,
                    "data": {
                        "text/plain": "VarianceThreshold(threshold=0.15)"
                    },
                    "metadata": {}
                }
            ]
        },
        {
            "metadata": {},
            "cell_type": "code",
            "source": "pd.DataFrame({'variance': vt.variances_,\n              'select_feature': vt.get_support()},\n            index=poke_gen.columns).T",
            "execution_count": 13,
            "outputs": [
                {
                    "output_type": "execute_result",
                    "execution_count": 13,
                    "data": {
                        "text/plain": "                   Gen 1     Gen 2 Gen 3     Gen 4     Gen 5      Gen 6\nvariance        0.164444  0.114944  0.16  0.128373  0.163711  0.0919937\nselect_feature      True     False  True     False      True      False",
                        "text/html": "<div>\n<style scoped>\n    .dataframe tbody tr th:only-of-type {\n        vertical-align: middle;\n    }\n\n    .dataframe tbody tr th {\n        vertical-align: top;\n    }\n\n    .dataframe thead th {\n        text-align: right;\n    }\n</style>\n<table border=\"1\" class=\"dataframe\">\n  <thead>\n    <tr style=\"text-align: right;\">\n      <th></th>\n      <th>Gen 1</th>\n      <th>Gen 2</th>\n      <th>Gen 3</th>\n      <th>Gen 4</th>\n      <th>Gen 5</th>\n      <th>Gen 6</th>\n    </tr>\n  </thead>\n  <tbody>\n    <tr>\n      <th>variance</th>\n      <td>0.164444</td>\n      <td>0.114944</td>\n      <td>0.16</td>\n      <td>0.128373</td>\n      <td>0.163711</td>\n      <td>0.0919937</td>\n    </tr>\n    <tr>\n      <th>select_feature</th>\n      <td>True</td>\n      <td>False</td>\n      <td>True</td>\n      <td>False</td>\n      <td>True</td>\n      <td>False</td>\n    </tr>\n  </tbody>\n</table>\n</div>"
                    },
                    "metadata": {}
                }
            ]
        },
        {
            "metadata": {},
            "cell_type": "code",
            "source": "poke_gen_subset = poke_gen.iloc[:,vt.get_support()].head()\npoke_gen_subset",
            "execution_count": 14,
            "outputs": [
                {
                    "output_type": "execute_result",
                    "execution_count": 14,
                    "data": {
                        "text/plain": "   Gen 1  Gen 3  Gen 5\n0      1      0      0\n1      1      0      0\n2      1      0      0\n3      1      0      0\n4      1      0      0",
                        "text/html": "<div>\n<style scoped>\n    .dataframe tbody tr th:only-of-type {\n        vertical-align: middle;\n    }\n\n    .dataframe tbody tr th {\n        vertical-align: top;\n    }\n\n    .dataframe thead th {\n        text-align: right;\n    }\n</style>\n<table border=\"1\" class=\"dataframe\">\n  <thead>\n    <tr style=\"text-align: right;\">\n      <th></th>\n      <th>Gen 1</th>\n      <th>Gen 3</th>\n      <th>Gen 5</th>\n    </tr>\n  </thead>\n  <tbody>\n    <tr>\n      <th>0</th>\n      <td>1</td>\n      <td>0</td>\n      <td>0</td>\n    </tr>\n    <tr>\n      <th>1</th>\n      <td>1</td>\n      <td>0</td>\n      <td>0</td>\n    </tr>\n    <tr>\n      <th>2</th>\n      <td>1</td>\n      <td>0</td>\n      <td>0</td>\n    </tr>\n    <tr>\n      <th>3</th>\n      <td>1</td>\n      <td>0</td>\n      <td>0</td>\n    </tr>\n    <tr>\n      <th>4</th>\n      <td>1</td>\n      <td>0</td>\n      <td>0</td>\n    </tr>\n  </tbody>\n</table>\n</div>"
                    },
                    "metadata": {}
                }
            ]
        },
        {
            "metadata": {},
            "cell_type": "markdown",
            "source": "# Statistical Methods"
        },
        {
            "metadata": {},
            "cell_type": "code",
            "source": "from sklearn.datasets import load_breast_cancer\n\nbc_data = load_breast_cancer()\nbc_features = pd.DataFrame(bc_data.data, columns=bc_data.feature_names)\nbc_classes = pd.DataFrame(bc_data.target, columns=['IsMalignant'])\n\n# build featureset and response class labels \nbc_X = np.array(bc_features)\nbc_y = np.array(bc_classes).T[0]\nprint('Feature set shape:', bc_X.shape)\nprint('Response class shape:', bc_y.shape)",
            "execution_count": 15,
            "outputs": [
                {
                    "output_type": "stream",
                    "text": "Feature set shape: (569, 30)\nResponse class shape: (569,)\n",
                    "name": "stdout"
                }
            ]
        },
        {
            "metadata": {},
            "cell_type": "code",
            "source": "np.set_printoptions(threshold=30)\nprint('Feature set data [shape: '+str(bc_X.shape)+']')\nprint(np.round(bc_X, 2), '\\n')\nprint('Feature names:')\nprint(np.array(bc_features.columns), '\\n')\nprint('Predictor Class label data [shape: '+str(bc_y.shape)+']')\nprint(bc_y, '\\n')\nprint('Predictor name:', np.array(bc_classes.columns))\nnp.set_printoptions(threshold=pt)",
            "execution_count": 16,
            "outputs": [
                {
                    "output_type": "stream",
                    "text": "Feature set data [shape: (569, 30)]\n[[ 17.99  10.38 122.8  ...   0.27   0.46   0.12]\n [ 20.57  17.77 132.9  ...   0.19   0.28   0.09]\n [ 19.69  21.25 130.   ...   0.24   0.36   0.09]\n ...\n [ 16.6   28.08 108.3  ...   0.14   0.22   0.08]\n [ 20.6   29.33 140.1  ...   0.26   0.41   0.12]\n [  7.76  24.54  47.92 ...   0.     0.29   0.07]] \n\nFeature names:\n['mean radius' 'mean texture' 'mean perimeter' 'mean area'\n 'mean smoothness' 'mean compactness' 'mean concavity'\n 'mean concave points' 'mean symmetry' 'mean fractal dimension'\n 'radius error' 'texture error' 'perimeter error' 'area error'\n 'smoothness error' 'compactness error' 'concavity error'\n 'concave points error' 'symmetry error' 'fractal dimension error'\n 'worst radius' 'worst texture' 'worst perimeter' 'worst area'\n 'worst smoothness' 'worst compactness' 'worst concavity'\n 'worst concave points' 'worst symmetry' 'worst fractal dimension'] \n\nPredictor Class label data [shape: (569,)]\n[0 0 0 ... 0 0 1] \n\nPredictor name: ['IsMalignant']\n",
                    "name": "stdout"
                }
            ]
        },
        {
            "metadata": {},
            "cell_type": "code",
            "source": "from sklearn.feature_selection import chi2, SelectKBest\n\nskb = SelectKBest(score_func=chi2, k=15)\nskb.fit(bc_X, bc_y)",
            "execution_count": 17,
            "outputs": [
                {
                    "output_type": "execute_result",
                    "execution_count": 17,
                    "data": {
                        "text/plain": "SelectKBest(k=15, score_func=<function chi2 at 0x7fbd5af5d1e0>)"
                    },
                    "metadata": {}
                }
            ]
        },
        {
            "metadata": {},
            "cell_type": "code",
            "source": "feature_scores = [(item, score) for item, score in zip(bc_data.feature_names, skb.scores_)]\nsorted(feature_scores, key=lambda x: -x[1])[:10]",
            "execution_count": 18,
            "outputs": [
                {
                    "output_type": "execute_result",
                    "execution_count": 18,
                    "data": {
                        "text/plain": "[('worst area', 112598.43156405371),\n ('mean area', 53991.65592375093),\n ('area error', 8758.504705334482),\n ('worst perimeter', 3665.03541634059),\n ('mean perimeter', 2011.102863767906),\n ('worst radius', 491.6891574333226),\n ('mean radius', 266.1049171951782),\n ('perimeter error', 250.57189635982184),\n ('worst texture', 174.44939960571105),\n ('mean texture', 93.8975080986333)]"
                    },
                    "metadata": {}
                }
            ]
        },
        {
            "metadata": {},
            "cell_type": "code",
            "source": "select_features_kbest = skb.get_support()\nfeature_names_kbest = bc_data.feature_names[select_features_kbest]\nfeature_subset_df = bc_features[feature_names_kbest]\nbc_SX = np.array(feature_subset_df)\nprint(bc_SX.shape)\nprint(feature_names_kbest)",
            "execution_count": 19,
            "outputs": [
                {
                    "output_type": "stream",
                    "text": "(569, 15)\n['mean radius' 'mean texture' 'mean perimeter' 'mean area'\n 'mean concavity' 'radius error' 'perimeter error' 'area error'\n 'worst radius' 'worst texture' 'worst perimeter' 'worst area'\n 'worst compactness' 'worst concavity' 'worst concave points']\n",
                    "name": "stdout"
                }
            ]
        },
        {
            "metadata": {},
            "cell_type": "code",
            "source": "np.round(feature_subset_df.iloc[20:25], 2)",
            "execution_count": 20,
            "outputs": [
                {
                    "output_type": "execute_result",
                    "execution_count": 20,
                    "data": {
                        "text/plain": "    mean radius  mean texture  mean perimeter  mean area  mean concavity  \\\n20        13.08         15.71           85.63      520.0            0.05   \n21         9.50         12.44           60.34      273.9            0.03   \n22        15.34         14.26          102.50      704.4            0.21   \n23        21.16         23.04          137.20     1404.0            0.11   \n24        16.65         21.38          110.00      904.6            0.15   \n\n    radius error  perimeter error  area error  worst radius  worst texture  \\\n20          0.19             1.38       14.67         14.50          20.49   \n21          0.28             1.91       15.70         10.23          15.66   \n22          0.44             3.38       44.91         18.07          19.08   \n23          0.69             4.30       93.99         29.17          35.59   \n24          0.81             5.46      102.60         26.46          31.56   \n\n    worst perimeter  worst area  worst compactness  worst concavity  \\\n20            96.09       630.5               0.28             0.19   \n21            65.13       314.9               0.11             0.09   \n22           125.10       980.9               0.60             0.63   \n23           188.00      2615.0               0.26             0.32   \n24           177.00      2215.0               0.36             0.47   \n\n    worst concave points  \n20                  0.07  \n21                  0.06  \n22                  0.24  \n23                  0.20  \n24                  0.21  ",
                        "text/html": "<div>\n<style scoped>\n    .dataframe tbody tr th:only-of-type {\n        vertical-align: middle;\n    }\n\n    .dataframe tbody tr th {\n        vertical-align: top;\n    }\n\n    .dataframe thead th {\n        text-align: right;\n    }\n</style>\n<table border=\"1\" class=\"dataframe\">\n  <thead>\n    <tr style=\"text-align: right;\">\n      <th></th>\n      <th>mean radius</th>\n      <th>mean texture</th>\n      <th>mean perimeter</th>\n      <th>mean area</th>\n      <th>mean concavity</th>\n      <th>radius error</th>\n      <th>perimeter error</th>\n      <th>area error</th>\n      <th>worst radius</th>\n      <th>worst texture</th>\n      <th>worst perimeter</th>\n      <th>worst area</th>\n      <th>worst compactness</th>\n      <th>worst concavity</th>\n      <th>worst concave points</th>\n    </tr>\n  </thead>\n  <tbody>\n    <tr>\n      <th>20</th>\n      <td>13.08</td>\n      <td>15.71</td>\n      <td>85.63</td>\n      <td>520.0</td>\n      <td>0.05</td>\n      <td>0.19</td>\n      <td>1.38</td>\n      <td>14.67</td>\n      <td>14.50</td>\n      <td>20.49</td>\n      <td>96.09</td>\n      <td>630.5</td>\n      <td>0.28</td>\n      <td>0.19</td>\n      <td>0.07</td>\n    </tr>\n    <tr>\n      <th>21</th>\n      <td>9.50</td>\n      <td>12.44</td>\n      <td>60.34</td>\n      <td>273.9</td>\n      <td>0.03</td>\n      <td>0.28</td>\n      <td>1.91</td>\n      <td>15.70</td>\n      <td>10.23</td>\n      <td>15.66</td>\n      <td>65.13</td>\n      <td>314.9</td>\n      <td>0.11</td>\n      <td>0.09</td>\n      <td>0.06</td>\n    </tr>\n    <tr>\n      <th>22</th>\n      <td>15.34</td>\n      <td>14.26</td>\n      <td>102.50</td>\n      <td>704.4</td>\n      <td>0.21</td>\n      <td>0.44</td>\n      <td>3.38</td>\n      <td>44.91</td>\n      <td>18.07</td>\n      <td>19.08</td>\n      <td>125.10</td>\n      <td>980.9</td>\n      <td>0.60</td>\n      <td>0.63</td>\n      <td>0.24</td>\n    </tr>\n    <tr>\n      <th>23</th>\n      <td>21.16</td>\n      <td>23.04</td>\n      <td>137.20</td>\n      <td>1404.0</td>\n      <td>0.11</td>\n      <td>0.69</td>\n      <td>4.30</td>\n      <td>93.99</td>\n      <td>29.17</td>\n      <td>35.59</td>\n      <td>188.00</td>\n      <td>2615.0</td>\n      <td>0.26</td>\n      <td>0.32</td>\n      <td>0.20</td>\n    </tr>\n    <tr>\n      <th>24</th>\n      <td>16.65</td>\n      <td>21.38</td>\n      <td>110.00</td>\n      <td>904.6</td>\n      <td>0.15</td>\n      <td>0.81</td>\n      <td>5.46</td>\n      <td>102.60</td>\n      <td>26.46</td>\n      <td>31.56</td>\n      <td>177.00</td>\n      <td>2215.0</td>\n      <td>0.36</td>\n      <td>0.47</td>\n      <td>0.21</td>\n    </tr>\n  </tbody>\n</table>\n</div>"
                    },
                    "metadata": {}
                }
            ]
        },
        {
            "metadata": {},
            "cell_type": "code",
            "source": "from sklearn.linear_model import LogisticRegression\nfrom sklearn.model_selection import cross_val_score\n\n# build logistic regression model\nlr = LogisticRegression()\n\n# evaluating accuracy for model built on full featureset\nfull_feat_acc = np.average(cross_val_score(lr, bc_X, bc_y, scoring='accuracy', cv=5))\n# evaluating accuracy for model built on selected featureset\nsel_feat_acc = np.average(cross_val_score(lr, bc_SX, bc_y, scoring='accuracy', cv=5))\n\nprint('Model accuracy statistics with 5-fold cross validation')\nprint('Model accuracy with complete feature set', bc_X.shape, ':', full_feat_acc)\nprint('Model accuracy with selected feature set', bc_SX.shape, ':', sel_feat_acc)",
            "execution_count": 21,
            "outputs": [
                {
                    "output_type": "stream",
                    "text": "Model accuracy statistics with 5-fold cross validation\nModel accuracy with complete feature set (569, 30) : 0.9509041939207385\nModel accuracy with selected feature set (569, 15) : 0.9526433243555215\n",
                    "name": "stdout"
                },
                {
                    "output_type": "stream",
                    "text": "/opt/conda/envs/Python36/lib/python3.6/site-packages/sklearn/linear_model/logistic.py:433: FutureWarning: Default solver will be changed to 'lbfgs' in 0.22. Specify a solver to silence this warning.\n  FutureWarning)\n/opt/conda/envs/Python36/lib/python3.6/site-packages/sklearn/linear_model/logistic.py:433: FutureWarning: Default solver will be changed to 'lbfgs' in 0.22. Specify a solver to silence this warning.\n  FutureWarning)\n/opt/conda/envs/Python36/lib/python3.6/site-packages/sklearn/linear_model/logistic.py:433: FutureWarning: Default solver will be changed to 'lbfgs' in 0.22. Specify a solver to silence this warning.\n  FutureWarning)\n/opt/conda/envs/Python36/lib/python3.6/site-packages/sklearn/linear_model/logistic.py:433: FutureWarning: Default solver will be changed to 'lbfgs' in 0.22. Specify a solver to silence this warning.\n  FutureWarning)\n/opt/conda/envs/Python36/lib/python3.6/site-packages/sklearn/linear_model/logistic.py:433: FutureWarning: Default solver will be changed to 'lbfgs' in 0.22. Specify a solver to silence this warning.\n  FutureWarning)\n/opt/conda/envs/Python36/lib/python3.6/site-packages/sklearn/linear_model/logistic.py:433: FutureWarning: Default solver will be changed to 'lbfgs' in 0.22. Specify a solver to silence this warning.\n  FutureWarning)\n/opt/conda/envs/Python36/lib/python3.6/site-packages/sklearn/linear_model/logistic.py:433: FutureWarning: Default solver will be changed to 'lbfgs' in 0.22. Specify a solver to silence this warning.\n  FutureWarning)\n/opt/conda/envs/Python36/lib/python3.6/site-packages/sklearn/linear_model/logistic.py:433: FutureWarning: Default solver will be changed to 'lbfgs' in 0.22. Specify a solver to silence this warning.\n  FutureWarning)\n/opt/conda/envs/Python36/lib/python3.6/site-packages/sklearn/linear_model/logistic.py:433: FutureWarning: Default solver will be changed to 'lbfgs' in 0.22. Specify a solver to silence this warning.\n  FutureWarning)\n/opt/conda/envs/Python36/lib/python3.6/site-packages/sklearn/linear_model/logistic.py:433: FutureWarning: Default solver will be changed to 'lbfgs' in 0.22. Specify a solver to silence this warning.\n  FutureWarning)\n",
                    "name": "stderr"
                }
            ]
        },
        {
            "metadata": {},
            "cell_type": "markdown",
            "source": "# Recursive Feature Elimination"
        },
        {
            "metadata": {},
            "cell_type": "code",
            "source": "from sklearn.feature_selection import RFE\n\nlr = LogisticRegression()\nrfe = RFE(estimator=lr, n_features_to_select=15, step=1)\nrfe.fit(bc_X, bc_y)",
            "execution_count": 22,
            "outputs": [
                {
                    "output_type": "stream",
                    "text": "/opt/conda/envs/Python36/lib/python3.6/site-packages/sklearn/linear_model/logistic.py:433: FutureWarning: Default solver will be changed to 'lbfgs' in 0.22. Specify a solver to silence this warning.\n  FutureWarning)\n/opt/conda/envs/Python36/lib/python3.6/site-packages/sklearn/linear_model/logistic.py:433: FutureWarning: Default solver will be changed to 'lbfgs' in 0.22. Specify a solver to silence this warning.\n  FutureWarning)\n/opt/conda/envs/Python36/lib/python3.6/site-packages/sklearn/linear_model/logistic.py:433: FutureWarning: Default solver will be changed to 'lbfgs' in 0.22. Specify a solver to silence this warning.\n  FutureWarning)\n/opt/conda/envs/Python36/lib/python3.6/site-packages/sklearn/linear_model/logistic.py:433: FutureWarning: Default solver will be changed to 'lbfgs' in 0.22. Specify a solver to silence this warning.\n  FutureWarning)\n/opt/conda/envs/Python36/lib/python3.6/site-packages/sklearn/linear_model/logistic.py:433: FutureWarning: Default solver will be changed to 'lbfgs' in 0.22. Specify a solver to silence this warning.\n  FutureWarning)\n/opt/conda/envs/Python36/lib/python3.6/site-packages/sklearn/linear_model/logistic.py:433: FutureWarning: Default solver will be changed to 'lbfgs' in 0.22. Specify a solver to silence this warning.\n  FutureWarning)\n/opt/conda/envs/Python36/lib/python3.6/site-packages/sklearn/linear_model/logistic.py:433: FutureWarning: Default solver will be changed to 'lbfgs' in 0.22. Specify a solver to silence this warning.\n  FutureWarning)\n/opt/conda/envs/Python36/lib/python3.6/site-packages/sklearn/linear_model/logistic.py:433: FutureWarning: Default solver will be changed to 'lbfgs' in 0.22. Specify a solver to silence this warning.\n  FutureWarning)\n/opt/conda/envs/Python36/lib/python3.6/site-packages/sklearn/linear_model/logistic.py:433: FutureWarning: Default solver will be changed to 'lbfgs' in 0.22. Specify a solver to silence this warning.\n  FutureWarning)\n/opt/conda/envs/Python36/lib/python3.6/site-packages/sklearn/linear_model/logistic.py:433: FutureWarning: Default solver will be changed to 'lbfgs' in 0.22. Specify a solver to silence this warning.\n  FutureWarning)\n/opt/conda/envs/Python36/lib/python3.6/site-packages/sklearn/linear_model/logistic.py:433: FutureWarning: Default solver will be changed to 'lbfgs' in 0.22. Specify a solver to silence this warning.\n  FutureWarning)\n/opt/conda/envs/Python36/lib/python3.6/site-packages/sklearn/linear_model/logistic.py:433: FutureWarning: Default solver will be changed to 'lbfgs' in 0.22. Specify a solver to silence this warning.\n  FutureWarning)\n/opt/conda/envs/Python36/lib/python3.6/site-packages/sklearn/linear_model/logistic.py:433: FutureWarning: Default solver will be changed to 'lbfgs' in 0.22. Specify a solver to silence this warning.\n  FutureWarning)\n/opt/conda/envs/Python36/lib/python3.6/site-packages/sklearn/linear_model/logistic.py:433: FutureWarning: Default solver will be changed to 'lbfgs' in 0.22. Specify a solver to silence this warning.\n  FutureWarning)\n/opt/conda/envs/Python36/lib/python3.6/site-packages/sklearn/linear_model/logistic.py:433: FutureWarning: Default solver will be changed to 'lbfgs' in 0.22. Specify a solver to silence this warning.\n  FutureWarning)\n/opt/conda/envs/Python36/lib/python3.6/site-packages/sklearn/linear_model/logistic.py:433: FutureWarning: Default solver will be changed to 'lbfgs' in 0.22. Specify a solver to silence this warning.\n  FutureWarning)\n",
                    "name": "stderr"
                },
                {
                    "output_type": "execute_result",
                    "execution_count": 22,
                    "data": {
                        "text/plain": "RFE(estimator=LogisticRegression(C=1.0, class_weight=None, dual=False, fit_intercept=True,\n          intercept_scaling=1, max_iter=100, multi_class='warn',\n          n_jobs=None, penalty='l2', random_state=None, solver='warn',\n          tol=0.0001, verbose=0, warm_start=False),\n  n_features_to_select=15, step=1, verbose=0)"
                    },
                    "metadata": {}
                }
            ]
        },
        {
            "metadata": {},
            "cell_type": "code",
            "source": "select_features_rfe = rfe.get_support()\nfeature_names_rfe = bc_data.feature_names[select_features_rfe]\nprint(feature_names_rfe)",
            "execution_count": 23,
            "outputs": [
                {
                    "output_type": "stream",
                    "text": "['mean radius' 'mean texture' 'mean concavity' 'mean concave points'\n 'mean symmetry' 'texture error' 'perimeter error' 'area error'\n 'worst radius' 'worst texture' 'worst perimeter' 'worst compactness'\n 'worst concavity' 'worst concave points' 'worst fractal dimension']\n",
                    "name": "stdout"
                }
            ]
        },
        {
            "metadata": {},
            "cell_type": "code",
            "source": "set(feature_names_kbest) & set(feature_names_rfe)",
            "execution_count": 24,
            "outputs": [
                {
                    "output_type": "execute_result",
                    "execution_count": 24,
                    "data": {
                        "text/plain": "{'area error',\n 'mean concavity',\n 'mean radius',\n 'mean texture',\n 'perimeter error',\n 'worst compactness',\n 'worst concave points',\n 'worst concavity',\n 'worst perimeter',\n 'worst radius',\n 'worst texture'}"
                    },
                    "metadata": {}
                }
            ]
        },
        {
            "metadata": {},
            "cell_type": "markdown",
            "source": "# Model based selection"
        },
        {
            "metadata": {},
            "cell_type": "code",
            "source": "from sklearn.ensemble import RandomForestClassifier\n\nrfc = RandomForestClassifier()\nrfc.fit(bc_X, bc_y)",
            "execution_count": 25,
            "outputs": [
                {
                    "output_type": "stream",
                    "text": "/opt/conda/envs/Python36/lib/python3.6/site-packages/sklearn/ensemble/forest.py:246: FutureWarning: The default value of n_estimators will change from 10 in version 0.20 to 100 in 0.22.\n  \"10 in version 0.20 to 100 in 0.22.\", FutureWarning)\n",
                    "name": "stderr"
                },
                {
                    "output_type": "execute_result",
                    "execution_count": 25,
                    "data": {
                        "text/plain": "RandomForestClassifier(bootstrap=True, class_weight=None, criterion='gini',\n            max_depth=None, max_features='auto', max_leaf_nodes=None,\n            min_impurity_decrease=0.0, min_impurity_split=None,\n            min_samples_leaf=1, min_samples_split=2,\n            min_weight_fraction_leaf=0.0, n_estimators=10, n_jobs=None,\n            oob_score=False, random_state=None, verbose=0,\n            warm_start=False)"
                    },
                    "metadata": {}
                }
            ]
        },
        {
            "metadata": {},
            "cell_type": "code",
            "source": "importance_scores = rfc.feature_importances_\nfeature_importances = [(feature, score) for feature, score in zip(bc_data.feature_names, importance_scores)]\nsorted(feature_importances, key=lambda x: -x[1])[:10]",
            "execution_count": 26,
            "outputs": [
                {
                    "output_type": "execute_result",
                    "execution_count": 26,
                    "data": {
                        "text/plain": "[('worst concave points', 0.23975181699174555),\n ('worst area', 0.16088465554856884),\n ('worst perimeter', 0.14980889479374954),\n ('mean concave points', 0.14806535931332074),\n ('worst radius', 0.08063498812234529),\n ('worst texture', 0.032167954592924174),\n ('worst smoothness', 0.02523727601677414),\n ('worst concavity', 0.02061781253838963),\n ('mean concavity', 0.014653117114875347),\n ('mean texture', 0.012877515442027341)]"
                    },
                    "metadata": {}
                }
            ]
        },
        {
            "metadata": {},
            "cell_type": "markdown",
            "source": "# Feature extraction using dimensionality reduction"
        },
        {
            "metadata": {},
            "cell_type": "code",
            "source": "# center the feature set\nbc_XC = bc_X - bc_X.mean(axis=0)\n\n# decompose using SVD\nU, S, VT = np.linalg.svd(bc_XC)\n\n# get principal components\nPC = VT.T\n\n# get first 3 principal components\nPC3 = PC[:, 0:3]\nPC3.shape",
            "execution_count": 27,
            "outputs": [
                {
                    "output_type": "execute_result",
                    "execution_count": 27,
                    "data": {
                        "text/plain": "(30, 3)"
                    },
                    "metadata": {}
                }
            ]
        },
        {
            "metadata": {},
            "cell_type": "code",
            "source": "# reduce feature set dimensionality \nnp.round(bc_XC.dot(PC3), 2)",
            "execution_count": 28,
            "outputs": [
                {
                    "output_type": "execute_result",
                    "execution_count": 28,
                    "data": {
                        "text/plain": "array([[-1160.14,  -293.92,   -48.58],\n       [-1269.12,    15.63,    35.39],\n       [ -995.79,    39.16,     1.71],\n       ...,\n       [ -314.5 ,    47.55,    10.44],\n       [-1124.86,    34.13,    19.74],\n       [  771.53,   -88.64,   -23.89]])"
                    },
                    "metadata": {}
                }
            ]
        },
        {
            "metadata": {},
            "cell_type": "code",
            "source": "from sklearn.decomposition import PCA\npca = PCA(n_components=3)\npca.fit(bc_X)",
            "execution_count": 29,
            "outputs": [
                {
                    "output_type": "execute_result",
                    "execution_count": 29,
                    "data": {
                        "text/plain": "PCA(copy=True, iterated_power='auto', n_components=3, random_state=None,\n  svd_solver='auto', tol=0.0, whiten=False)"
                    },
                    "metadata": {}
                }
            ]
        },
        {
            "metadata": {},
            "cell_type": "code",
            "source": "pca.explained_variance_ratio_",
            "execution_count": 30,
            "outputs": [
                {
                    "output_type": "execute_result",
                    "execution_count": 30,
                    "data": {
                        "text/plain": "array([0.98204467, 0.01617649, 0.00155751])"
                    },
                    "metadata": {}
                }
            ]
        },
        {
            "metadata": {},
            "cell_type": "code",
            "source": "bc_pca = pca.transform(bc_X)\nnp.round(bc_pca, 2)",
            "execution_count": 31,
            "outputs": [
                {
                    "output_type": "execute_result",
                    "execution_count": 31,
                    "data": {
                        "text/plain": "array([[1160.14, -293.92,   48.58],\n       [1269.12,   15.63,  -35.39],\n       [ 995.79,   39.16,   -1.71],\n       ...,\n       [ 314.5 ,   47.55,  -10.44],\n       [1124.86,   34.13,  -19.74],\n       [-771.53,  -88.64,   23.89]])"
                    },
                    "metadata": {}
                }
            ]
        },
        {
            "metadata": {},
            "cell_type": "code",
            "source": "np.average(cross_val_score(lr, bc_pca, bc_y, scoring='accuracy', cv=5))",
            "execution_count": 32,
            "outputs": [
                {
                    "output_type": "stream",
                    "text": "/opt/conda/envs/Python36/lib/python3.6/site-packages/sklearn/linear_model/logistic.py:433: FutureWarning: Default solver will be changed to 'lbfgs' in 0.22. Specify a solver to silence this warning.\n  FutureWarning)\n/opt/conda/envs/Python36/lib/python3.6/site-packages/sklearn/linear_model/logistic.py:433: FutureWarning: Default solver will be changed to 'lbfgs' in 0.22. Specify a solver to silence this warning.\n  FutureWarning)\n/opt/conda/envs/Python36/lib/python3.6/site-packages/sklearn/linear_model/logistic.py:433: FutureWarning: Default solver will be changed to 'lbfgs' in 0.22. Specify a solver to silence this warning.\n  FutureWarning)\n/opt/conda/envs/Python36/lib/python3.6/site-packages/sklearn/linear_model/logistic.py:433: FutureWarning: Default solver will be changed to 'lbfgs' in 0.22. Specify a solver to silence this warning.\n  FutureWarning)\n/opt/conda/envs/Python36/lib/python3.6/site-packages/sklearn/linear_model/logistic.py:433: FutureWarning: Default solver will be changed to 'lbfgs' in 0.22. Specify a solver to silence this warning.\n  FutureWarning)\n",
                    "name": "stderr"
                },
                {
                    "output_type": "execute_result",
                    "execution_count": 32,
                    "data": {
                        "text/plain": "0.9280800307810695"
                    },
                    "metadata": {}
                }
            ]
        },
        {
            "metadata": {},
            "cell_type": "code",
            "source": "",
            "execution_count": null,
            "outputs": []
        }
    ],
    "metadata": {
        "anaconda-cloud": {},
        "kernelspec": {
            "name": "python3",
            "display_name": "Python 3.6",
            "language": "python"
        },
        "language_info": {
            "name": "python",
            "version": "3.6.9",
            "mimetype": "text/x-python",
            "codemirror_mode": {
                "name": "ipython",
                "version": 3
            },
            "pygments_lexer": "ipython3",
            "nbconvert_exporter": "python",
            "file_extension": ".py"
        }
    },
    "nbformat": 4,
    "nbformat_minor": 1
}