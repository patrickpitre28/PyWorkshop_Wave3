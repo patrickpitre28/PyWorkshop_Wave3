{
    "cells": [
        {
            "cell_type": "markdown",
            "metadata": {},
            "source": "# Data Wrangling\n\nThis notebook presents different data wrangling techniques used commonly"
        },
        {
            "cell_type": "code",
            "execution_count": 1,
            "metadata": {},
            "outputs": [],
            "source": "# import required libraries\nimport random\nimport datetime \nimport numpy as np\nimport pandas as pd\nfrom random import randrange\nfrom sklearn import preprocessing\n\nfrom IPython.display import display\n\npd.options.mode.chained_assignment = None"
        },
        {
            "cell_type": "markdown",
            "metadata": {},
            "source": "## Utilities"
        },
        {
            "cell_type": "code",
            "execution_count": 2,
            "metadata": {},
            "outputs": [],
            "source": "def _random_date(start,date_count):\n    \"\"\"This function generates a random date based on params\n    Args:\n        start (date object): the base date\n        date_count (int): number of dates to be generated\n    Returns:\n        list of random dates\n\n    \"\"\"\n    current = start\n    while date_count > 0:\n        curr = current + datetime.timedelta(days=randrange(42))\n        yield curr\n        date_count-=1\n\n\ndef generate_sample_data(row_count=100):\n    \"\"\"This function generates a random transaction dataset\n    Args:\n        row_count (int): number of rows for the dataframe\n    Returns:\n        a pandas dataframe\n\n    \"\"\"\n    \n    # sentinels\n    startDate = datetime.datetime(2016, 1, 1,13)\n    serial_number_sentinel = 1000\n    user_id_sentinel = 5001\n    product_id_sentinel = 101\n    price_sentinel = 2000\n    \n    \n    # base list of attributes\n    data_dict = {\n    'Serial No': np.arange(row_count)+serial_number_sentinel,\n    'Date': np.random.permutation(pd.to_datetime([x.strftime(\"%d-%m-%Y\") \n                                                    for x in _random_date(startDate,\n                                                                          row_count)]).date\n                                  ),\n    'User ID': np.random.permutation(np.random.randint(0,\n                                                       row_count,\n                                                       size=int(row_count/10)) + user_id_sentinel).tolist()*10,\n    'Product ID': np.random.permutation(np.random.randint(0,\n                                                          row_count,\n                                                          size=int(row_count/10))+ product_id_sentinel).tolist()*10 ,\n    'Quantity Purchased': np.random.permutation(np.random.randint(1,\n                                                                  42,\n                                                                  size=row_count)),\n    'Price': np.round(np.abs(np.random.randn(row_count)+1)*price_sentinel,\n                      decimals=2),\n    'User Type':np.random.permutation([chr(random.randrange(97, 97 + 3 + 1)) \n                                            for i in range(row_count)])\n    }\n    \n    # introduce missing values\n    for index in range(int(np.sqrt(row_count))): \n        data_dict['Price'][np.argmax(data_dict['Price'] == random.choice(data_dict['Price']))] = np.nan\n        data_dict['User Type'][np.argmax(data_dict['User Type'] == random.choice(data_dict['User Type']))] = np.nan\n        data_dict['Date'][np.argmax(data_dict['Date'] == random.choice(data_dict['Date']))] = np.nan\n        data_dict['Product ID'][np.argmax(data_dict['Product ID'] == random.choice(data_dict['Product ID']))] = 0\n        data_dict['Serial No'][np.argmax(data_dict['Serial No'] == random.choice(data_dict['Serial No']))] = -1\n        data_dict['User ID'][np.argmax(data_dict['User ID'] == random.choice(data_dict['User ID']))] = -101\n        \n    \n    # create data frame\n    df = pd.DataFrame(data_dict)\n    \n    return df\n    \n\ndef describe_dataframe(df=pd.DataFrame()):\n    \"\"\"This function generates descriptive stats of a dataframe\n    Args:\n        df (dataframe): the dataframe to be analyzed\n    Returns:\n        None\n\n    \"\"\"\n    print(\"\\n\\n\")\n    print(\"*\"*30)\n    print(\"About the Data\")\n    print(\"*\"*30)\n    \n    print(\"Number of rows::\",df.shape[0])\n    print(\"Number of columns::\",df.shape[1])\n    print(\"\\n\")\n    \n    print(\"Column Names::\",df.columns.values.tolist())\n    print(\"\\n\")\n    \n    print(\"Column Data Types::\\n\",df.dtypes)\n    print(\"\\n\")\n    \n    print(\"Columns with Missing Values::\",df.columns[df.isnull().any()].tolist())\n    print(\"\\n\")\n    \n    print(\"Number of rows with Missing Values::\",len(pd.isnull(df).any(1).nonzero()[0].tolist()))\n    print(\"\\n\")\n    \n    print(\"Sample Indices with missing data::\",pd.isnull(df).any(1).nonzero()[0].tolist()[0:5])\n    print(\"\\n\")\n    \n    print(\"General Stats::\")\n    print(df.info())\n    print(\"\\n\")\n    \n    print(\"Summary Stats::\")\n    print(df.describe())\n    print(\"\\n\")\n    \n    print(\"Dataframe Sample Rows::\")\n    display(df.head(5))\n    \ndef cleanup_column_names(df,rename_dict={},do_inplace=True):\n    \"\"\"This function renames columns of a pandas dataframe\n       It converts column names to snake case if rename_dict is not passed. \n    Args:\n        rename_dict (dict): keys represent old column names and values point to \n                            newer ones\n        do_inplace (bool): flag to update existing dataframe or return a new one\n    Returns:\n        pandas dataframe if do_inplace is set to False, None otherwise\n\n    \"\"\"\n    if not rename_dict:\n        return df.rename(columns={col: col.lower().replace(' ','_') \n                    for col in df.columns.values.tolist()}, \n                  inplace=do_inplace)\n    else:\n        return df.rename(columns=rename_dict,inplace=do_inplace)\n\ndef expand_user_type(u_type):\n    \"\"\"This function maps user types to user classes\n    Args:\n        u_type (str): user type value\n    Returns:\n        (str) user_class value\n\n    \"\"\"\n    if u_type in ['a','b']:\n        return 'new'\n    elif u_type == 'c':\n        return 'existing'\n    elif u_type == 'd':\n        return 'loyal_existing'\n    else:\n        return 'error'"
        },
        {
            "cell_type": "markdown",
            "metadata": {},
            "source": "## Generate a Sample Dataset"
        },
        {
            "cell_type": "code",
            "execution_count": 3,
            "metadata": {},
            "outputs": [],
            "source": "df = generate_sample_data(row_count=1000)"
        },
        {
            "cell_type": "markdown",
            "metadata": {},
            "source": "### Describe the Dataset"
        },
        {
            "cell_type": "code",
            "execution_count": 4,
            "metadata": {},
            "outputs": [
                {
                    "name": "stdout",
                    "output_type": "stream",
                    "text": "\n\n\n******************************\nAbout the Data\n******************************\nNumber of rows:: 1000\nNumber of columns:: 7\n\n\nColumn Names:: ['Serial No', 'Date', 'User ID', 'Product ID', 'Quantity Purchased', 'Price', 'User Type']\n\n\nColumn Data Types::\n Serial No               int64\nDate                   object\nUser ID                 int64\nProduct ID              int64\nQuantity Purchased      int64\nPrice                 float64\nUser Type              object\ndtype: object\n\n\nColumns with Missing Values:: ['Date', 'Price']\n\n\nNumber of rows with Missing Values:: 60\n\n\nSample Indices with missing data:: [0, 1, 2, 4, 6]\n\n\nGeneral Stats::\n<class 'pandas.core.frame.DataFrame'>\nRangeIndex: 1000 entries, 0 to 999\nData columns (total 7 columns):\nSerial No             1000 non-null int64\nDate                  969 non-null object\nUser ID               1000 non-null int64\nProduct ID            1000 non-null int64\nQuantity Purchased    1000 non-null int64\nPrice                 969 non-null float64\nUser Type             1000 non-null object\ndtypes: float64(1), int64(4), object(2)\nmemory usage: 54.8+ KB\nNone\n\n\nSummary Stats::\n         Serial No      User ID   Product ID  Quantity Purchased        Price\ncount  1000.000000  1000.000000  1000.000000           1000.0000   969.000000\nmean   1453.847000  5545.352000   590.535000             21.1000  2329.361156\nstd     386.236404   325.878205   301.331262             11.7539  1581.485067\nmin      -1.000000  -101.000000     0.000000              1.0000     9.060000\n25%    1223.750000  5362.000000   307.000000             11.0000  1014.880000\n50%    1488.000000  5566.000000   581.000000             21.0000  2132.790000\n75%    1743.250000  5765.000000   845.000000             31.0000  3352.340000\nmax    1999.000000  5986.000000  1095.000000             41.0000  7671.040000\n\n\nDataframe Sample Rows::\n"
                },
                {
                    "name": "stderr",
                    "output_type": "stream",
                    "text": "/opt/conda/envs/Python36/lib/python3.6/site-packages/ipykernel/__main__.py:98: FutureWarning: Series.nonzero() is deprecated and will be removed in a future version.Use Series.to_numpy().nonzero() instead\n/opt/conda/envs/Python36/lib/python3.6/site-packages/ipykernel/__main__.py:101: FutureWarning: Series.nonzero() is deprecated and will be removed in a future version.Use Series.to_numpy().nonzero() instead\n"
                },
                {
                    "data": {
                        "text/html": "<div>\n<style scoped>\n    .dataframe tbody tr th:only-of-type {\n        vertical-align: middle;\n    }\n\n    .dataframe tbody tr th {\n        vertical-align: top;\n    }\n\n    .dataframe thead th {\n        text-align: right;\n    }\n</style>\n<table border=\"1\" class=\"dataframe\">\n  <thead>\n    <tr style=\"text-align: right;\">\n      <th></th>\n      <th>Serial No</th>\n      <th>Date</th>\n      <th>User ID</th>\n      <th>Product ID</th>\n      <th>Quantity Purchased</th>\n      <th>Price</th>\n      <th>User Type</th>\n    </tr>\n  </thead>\n  <tbody>\n    <tr>\n      <th>0</th>\n      <td>1000</td>\n      <td>NaN</td>\n      <td>-101</td>\n      <td>0</td>\n      <td>17</td>\n      <td>NaN</td>\n      <td>n</td>\n    </tr>\n    <tr>\n      <th>1</th>\n      <td>1001</td>\n      <td>NaN</td>\n      <td>5554</td>\n      <td>323</td>\n      <td>27</td>\n      <td>5683.14</td>\n      <td>n</td>\n    </tr>\n    <tr>\n      <th>2</th>\n      <td>1002</td>\n      <td>NaN</td>\n      <td>5255</td>\n      <td>932</td>\n      <td>29</td>\n      <td>NaN</td>\n      <td>n</td>\n    </tr>\n    <tr>\n      <th>3</th>\n      <td>1003</td>\n      <td>2016-01-21</td>\n      <td>5911</td>\n      <td>812</td>\n      <td>9</td>\n      <td>5174.73</td>\n      <td>n</td>\n    </tr>\n    <tr>\n      <th>4</th>\n      <td>1004</td>\n      <td>NaN</td>\n      <td>5159</td>\n      <td>496</td>\n      <td>17</td>\n      <td>2741.24</td>\n      <td>n</td>\n    </tr>\n  </tbody>\n</table>\n</div>",
                        "text/plain": "   Serial No        Date  User ID  Product ID  Quantity Purchased    Price  \\\n0       1000         NaN     -101           0                  17      NaN   \n1       1001         NaN     5554         323                  27  5683.14   \n2       1002         NaN     5255         932                  29      NaN   \n3       1003  2016-01-21     5911         812                   9  5174.73   \n4       1004         NaN     5159         496                  17  2741.24   \n\n  User Type  \n0         n  \n1         n  \n2         n  \n3         n  \n4         n  "
                    },
                    "metadata": {},
                    "output_type": "display_data"
                }
            ],
            "source": "describe_dataframe(df)"
        },
        {
            "cell_type": "markdown",
            "metadata": {},
            "source": "### Rename Columns"
        },
        {
            "cell_type": "code",
            "execution_count": 5,
            "metadata": {},
            "outputs": [
                {
                    "name": "stdout",
                    "output_type": "stream",
                    "text": "Dataframe columns:\n['Serial No', 'Date', 'User ID', 'Product ID', 'Quantity Purchased', 'Price', 'User Type']\n"
                }
            ],
            "source": "print(\"Dataframe columns:\\n{}\".format(df.columns.tolist()))"
        },
        {
            "cell_type": "code",
            "execution_count": 6,
            "metadata": {},
            "outputs": [],
            "source": "cleanup_column_names(df)"
        },
        {
            "cell_type": "code",
            "execution_count": 7,
            "metadata": {},
            "outputs": [
                {
                    "name": "stdout",
                    "output_type": "stream",
                    "text": "Dataframe columns:\n['serial_no', 'date', 'user_id', 'product_id', 'quantity_purchased', 'price', 'user_type']\n"
                }
            ],
            "source": "print(\"Dataframe columns:\\n{}\".format(df.columns.tolist()))"
        },
        {
            "cell_type": "markdown",
            "metadata": {},
            "source": "### Sort Rows on defined attributes"
        },
        {
            "cell_type": "code",
            "execution_count": 8,
            "metadata": {
                "scrolled": false
            },
            "outputs": [
                {
                    "data": {
                        "text/html": "<div>\n<style scoped>\n    .dataframe tbody tr th:only-of-type {\n        vertical-align: middle;\n    }\n\n    .dataframe tbody tr th {\n        vertical-align: top;\n    }\n\n    .dataframe thead th {\n        text-align: right;\n    }\n</style>\n<table border=\"1\" class=\"dataframe\">\n  <thead>\n    <tr style=\"text-align: right;\">\n      <th></th>\n      <th>serial_no</th>\n      <th>date</th>\n      <th>user_id</th>\n      <th>product_id</th>\n      <th>quantity_purchased</th>\n      <th>price</th>\n      <th>user_type</th>\n    </tr>\n  </thead>\n  <tbody>\n    <tr>\n      <th>648</th>\n      <td>-1</td>\n      <td>2016-10-01</td>\n      <td>5929</td>\n      <td>541</td>\n      <td>23</td>\n      <td>5486.28</td>\n      <td>d</td>\n    </tr>\n    <tr>\n      <th>736</th>\n      <td>-1</td>\n      <td>2016-10-01</td>\n      <td>5928</td>\n      <td>476</td>\n      <td>18</td>\n      <td>5151.47</td>\n      <td>d</td>\n    </tr>\n    <tr>\n      <th>893</th>\n      <td>-1</td>\n      <td>2016-01-14</td>\n      <td>5420</td>\n      <td>137</td>\n      <td>28</td>\n      <td>4168.12</td>\n      <td>c</td>\n    </tr>\n    <tr>\n      <th>447</th>\n      <td>-1</td>\n      <td>2016-01-19</td>\n      <td>5469</td>\n      <td>751</td>\n      <td>1</td>\n      <td>3849.35</td>\n      <td>a</td>\n    </tr>\n    <tr>\n      <th>99</th>\n      <td>-1</td>\n      <td>2016-08-01</td>\n      <td>5743</td>\n      <td>159</td>\n      <td>8</td>\n      <td>3385.55</td>\n      <td>b</td>\n    </tr>\n  </tbody>\n</table>\n</div>",
                        "text/plain": "     serial_no        date  user_id  product_id  quantity_purchased    price  \\\n648         -1  2016-10-01     5929         541                  23  5486.28   \n736         -1  2016-10-01     5928         476                  18  5151.47   \n893         -1  2016-01-14     5420         137                  28  4168.12   \n447         -1  2016-01-19     5469         751                   1  3849.35   \n99          -1  2016-08-01     5743         159                   8  3385.55   \n\n    user_type  \n648         d  \n736         d  \n893         c  \n447         a  \n99          b  "
                    },
                    "metadata": {},
                    "output_type": "display_data"
                }
            ],
            "source": "display(df.sort_values(['serial_no', 'price'], \n                         ascending=[True, False]).head())"
        },
        {
            "cell_type": "markdown",
            "metadata": {},
            "source": "### Rearrange Columns in a Dataframe"
        },
        {
            "cell_type": "code",
            "execution_count": 9,
            "metadata": {},
            "outputs": [
                {
                    "data": {
                        "text/html": "<div>\n<style scoped>\n    .dataframe tbody tr th:only-of-type {\n        vertical-align: middle;\n    }\n\n    .dataframe tbody tr th {\n        vertical-align: top;\n    }\n\n    .dataframe thead th {\n        text-align: right;\n    }\n</style>\n<table border=\"1\" class=\"dataframe\">\n  <thead>\n    <tr style=\"text-align: right;\">\n      <th></th>\n      <th>serial_no</th>\n      <th>date</th>\n      <th>user_id</th>\n      <th>user_type</th>\n      <th>product_id</th>\n      <th>quantity_purchased</th>\n      <th>price</th>\n    </tr>\n  </thead>\n  <tbody>\n    <tr>\n      <th>0</th>\n      <td>1000</td>\n      <td>NaN</td>\n      <td>-101</td>\n      <td>n</td>\n      <td>0</td>\n      <td>17</td>\n      <td>NaN</td>\n    </tr>\n    <tr>\n      <th>1</th>\n      <td>1001</td>\n      <td>NaN</td>\n      <td>5554</td>\n      <td>n</td>\n      <td>323</td>\n      <td>27</td>\n      <td>5683.14</td>\n    </tr>\n    <tr>\n      <th>2</th>\n      <td>1002</td>\n      <td>NaN</td>\n      <td>5255</td>\n      <td>n</td>\n      <td>932</td>\n      <td>29</td>\n      <td>NaN</td>\n    </tr>\n    <tr>\n      <th>3</th>\n      <td>1003</td>\n      <td>2016-01-21</td>\n      <td>5911</td>\n      <td>n</td>\n      <td>812</td>\n      <td>9</td>\n      <td>5174.73</td>\n    </tr>\n    <tr>\n      <th>4</th>\n      <td>1004</td>\n      <td>NaN</td>\n      <td>5159</td>\n      <td>n</td>\n      <td>496</td>\n      <td>17</td>\n      <td>2741.24</td>\n    </tr>\n  </tbody>\n</table>\n</div>",
                        "text/plain": "   serial_no        date  user_id user_type  product_id  quantity_purchased  \\\n0       1000         NaN     -101         n           0                  17   \n1       1001         NaN     5554         n         323                  27   \n2       1002         NaN     5255         n         932                  29   \n3       1003  2016-01-21     5911         n         812                   9   \n4       1004         NaN     5159         n         496                  17   \n\n     price  \n0      NaN  \n1  5683.14  \n2      NaN  \n3  5174.73  \n4  2741.24  "
                    },
                    "metadata": {},
                    "output_type": "display_data"
                }
            ],
            "source": "display(df[['serial_no','date','user_id','user_type',\n              'product_id','quantity_purchased','price']].head())"
        },
        {
            "cell_type": "markdown",
            "metadata": {},
            "source": "### Filtering Columns"
        },
        {
            "cell_type": "markdown",
            "metadata": {},
            "source": "Using Column Index"
        },
        {
            "cell_type": "code",
            "execution_count": 10,
            "metadata": {},
            "outputs": [
                {
                    "name": "stdout",
                    "output_type": "stream",
                    "text": "[  0 323 932 812 496 205 830 199 178 884]\n"
                }
            ],
            "source": "# print 10 values from column at index 3\nprint(df.iloc[:,3].values[0:10])"
        },
        {
            "cell_type": "markdown",
            "metadata": {},
            "source": "Using Column Name"
        },
        {
            "cell_type": "code",
            "execution_count": 11,
            "metadata": {},
            "outputs": [
                {
                    "name": "stdout",
                    "output_type": "stream",
                    "text": "[17 27 29  9 17  7 38 25 31 18]\n"
                }
            ],
            "source": "# print 10 values of quantity purchased\nprint(df.quantity_purchased.values[0:10])"
        },
        {
            "cell_type": "markdown",
            "metadata": {},
            "source": "Using Column Datatype"
        },
        {
            "cell_type": "code",
            "execution_count": 12,
            "metadata": {},
            "outputs": [
                {
                    "name": "stdout",
                    "output_type": "stream",
                    "text": "[    nan 5683.14     nan 5174.73 2741.24 4825.19  699.55 1678.85 1055.88\n 3496.21]\n"
                }
            ],
            "source": "# print 10 values of columns with data type float\nprint(df.select_dtypes(include=['float64']).values[:10,0])"
        },
        {
            "cell_type": "markdown",
            "metadata": {},
            "source": "### Filtering Rows"
        },
        {
            "cell_type": "markdown",
            "metadata": {},
            "source": "Select specific rows"
        },
        {
            "cell_type": "code",
            "execution_count": 13,
            "metadata": {},
            "outputs": [
                {
                    "data": {
                        "text/html": "<div>\n<style scoped>\n    .dataframe tbody tr th:only-of-type {\n        vertical-align: middle;\n    }\n\n    .dataframe tbody tr th {\n        vertical-align: top;\n    }\n\n    .dataframe thead th {\n        text-align: right;\n    }\n</style>\n<table border=\"1\" class=\"dataframe\">\n  <thead>\n    <tr style=\"text-align: right;\">\n      <th></th>\n      <th>serial_no</th>\n      <th>date</th>\n      <th>user_id</th>\n      <th>product_id</th>\n      <th>quantity_purchased</th>\n      <th>price</th>\n      <th>user_type</th>\n    </tr>\n  </thead>\n  <tbody>\n    <tr>\n      <th>10</th>\n      <td>1010</td>\n      <td>2016-01-25</td>\n      <td>5930</td>\n      <td>943</td>\n      <td>18</td>\n      <td>35.85</td>\n      <td>n</td>\n    </tr>\n    <tr>\n      <th>501</th>\n      <td>1501</td>\n      <td>2016-01-02</td>\n      <td>5554</td>\n      <td>323</td>\n      <td>22</td>\n      <td>1936.00</td>\n      <td>c</td>\n    </tr>\n    <tr>\n      <th>20</th>\n      <td>1020</td>\n      <td>2016-01-31</td>\n      <td>5395</td>\n      <td>132</td>\n      <td>41</td>\n      <td>211.02</td>\n      <td>n</td>\n    </tr>\n  </tbody>\n</table>\n</div>",
                        "text/plain": "     serial_no        date  user_id  product_id  quantity_purchased    price  \\\n10        1010  2016-01-25     5930         943                  18    35.85   \n501       1501  2016-01-02     5554         323                  22  1936.00   \n20        1020  2016-01-31     5395         132                  41   211.02   \n\n    user_type  \n10          n  \n501         c  \n20          n  "
                    },
                    "metadata": {},
                    "output_type": "display_data"
                }
            ],
            "source": "display(df.iloc[[10,501,20]])"
        },
        {
            "cell_type": "markdown",
            "metadata": {},
            "source": "Exclude Specific Row indices"
        },
        {
            "cell_type": "code",
            "execution_count": 14,
            "metadata": {},
            "outputs": [
                {
                    "data": {
                        "text/html": "<div>\n<style scoped>\n    .dataframe tbody tr th:only-of-type {\n        vertical-align: middle;\n    }\n\n    .dataframe tbody tr th {\n        vertical-align: top;\n    }\n\n    .dataframe thead th {\n        text-align: right;\n    }\n</style>\n<table border=\"1\" class=\"dataframe\">\n  <thead>\n    <tr style=\"text-align: right;\">\n      <th></th>\n      <th>serial_no</th>\n      <th>date</th>\n      <th>user_id</th>\n      <th>product_id</th>\n      <th>quantity_purchased</th>\n      <th>price</th>\n      <th>user_type</th>\n    </tr>\n  </thead>\n  <tbody>\n    <tr>\n      <th>1</th>\n      <td>1001</td>\n      <td>NaN</td>\n      <td>5554</td>\n      <td>323</td>\n      <td>27</td>\n      <td>5683.14</td>\n      <td>n</td>\n    </tr>\n    <tr>\n      <th>2</th>\n      <td>1002</td>\n      <td>NaN</td>\n      <td>5255</td>\n      <td>932</td>\n      <td>29</td>\n      <td>NaN</td>\n      <td>n</td>\n    </tr>\n    <tr>\n      <th>3</th>\n      <td>1003</td>\n      <td>2016-01-21</td>\n      <td>5911</td>\n      <td>812</td>\n      <td>9</td>\n      <td>5174.73</td>\n      <td>n</td>\n    </tr>\n    <tr>\n      <th>4</th>\n      <td>1004</td>\n      <td>NaN</td>\n      <td>5159</td>\n      <td>496</td>\n      <td>17</td>\n      <td>2741.24</td>\n      <td>n</td>\n    </tr>\n    <tr>\n      <th>5</th>\n      <td>1005</td>\n      <td>2016-01-27</td>\n      <td>5745</td>\n      <td>205</td>\n      <td>7</td>\n      <td>4825.19</td>\n      <td>n</td>\n    </tr>\n  </tbody>\n</table>\n</div>",
                        "text/plain": "   serial_no        date  user_id  product_id  quantity_purchased    price  \\\n1       1001         NaN     5554         323                  27  5683.14   \n2       1002         NaN     5255         932                  29      NaN   \n3       1003  2016-01-21     5911         812                   9  5174.73   \n4       1004         NaN     5159         496                  17  2741.24   \n5       1005  2016-01-27     5745         205                   7  4825.19   \n\n  user_type  \n1         n  \n2         n  \n3         n  \n4         n  \n5         n  "
                    },
                    "metadata": {},
                    "output_type": "display_data"
                }
            ],
            "source": "display(df.drop([0,24,51], axis=0).head())"
        },
        {
            "cell_type": "markdown",
            "metadata": {},
            "source": "Conditional Filtering"
        },
        {
            "cell_type": "code",
            "execution_count": 15,
            "metadata": {},
            "outputs": [
                {
                    "data": {
                        "text/html": "<div>\n<style scoped>\n    .dataframe tbody tr th:only-of-type {\n        vertical-align: middle;\n    }\n\n    .dataframe tbody tr th {\n        vertical-align: top;\n    }\n\n    .dataframe thead th {\n        text-align: right;\n    }\n</style>\n<table border=\"1\" class=\"dataframe\">\n  <thead>\n    <tr style=\"text-align: right;\">\n      <th></th>\n      <th>serial_no</th>\n      <th>date</th>\n      <th>user_id</th>\n      <th>product_id</th>\n      <th>quantity_purchased</th>\n      <th>price</th>\n      <th>user_type</th>\n    </tr>\n  </thead>\n  <tbody>\n    <tr>\n      <th>1</th>\n      <td>1001</td>\n      <td>NaN</td>\n      <td>5554</td>\n      <td>323</td>\n      <td>27</td>\n      <td>5683.14</td>\n      <td>n</td>\n    </tr>\n    <tr>\n      <th>2</th>\n      <td>1002</td>\n      <td>NaN</td>\n      <td>5255</td>\n      <td>932</td>\n      <td>29</td>\n      <td>NaN</td>\n      <td>n</td>\n    </tr>\n    <tr>\n      <th>6</th>\n      <td>1006</td>\n      <td>NaN</td>\n      <td>5825</td>\n      <td>830</td>\n      <td>38</td>\n      <td>699.55</td>\n      <td>n</td>\n    </tr>\n    <tr>\n      <th>8</th>\n      <td>1008</td>\n      <td>NaN</td>\n      <td>5087</td>\n      <td>178</td>\n      <td>31</td>\n      <td>1055.88</td>\n      <td>n</td>\n    </tr>\n    <tr>\n      <th>11</th>\n      <td>1011</td>\n      <td>2016-09-01</td>\n      <td>5363</td>\n      <td>792</td>\n      <td>33</td>\n      <td>1737.31</td>\n      <td>n</td>\n    </tr>\n  </tbody>\n</table>\n</div>",
                        "text/plain": "    serial_no        date  user_id  product_id  quantity_purchased    price  \\\n1        1001         NaN     5554         323                  27  5683.14   \n2        1002         NaN     5255         932                  29      NaN   \n6        1006         NaN     5825         830                  38   699.55   \n8        1008         NaN     5087         178                  31  1055.88   \n11       1011  2016-09-01     5363         792                  33  1737.31   \n\n   user_type  \n1          n  \n2          n  \n6          n  \n8          n  \n11         n  "
                    },
                    "metadata": {},
                    "output_type": "display_data"
                }
            ],
            "source": "display(df[df.quantity_purchased>25].head())"
        },
        {
            "cell_type": "markdown",
            "metadata": {},
            "source": "Offset from top of the dataframe"
        },
        {
            "cell_type": "code",
            "execution_count": 16,
            "metadata": {},
            "outputs": [
                {
                    "data": {
                        "text/html": "<div>\n<style scoped>\n    .dataframe tbody tr th:only-of-type {\n        vertical-align: middle;\n    }\n\n    .dataframe tbody tr th {\n        vertical-align: top;\n    }\n\n    .dataframe thead th {\n        text-align: right;\n    }\n</style>\n<table border=\"1\" class=\"dataframe\">\n  <thead>\n    <tr style=\"text-align: right;\">\n      <th></th>\n      <th>serial_no</th>\n      <th>date</th>\n      <th>user_id</th>\n      <th>product_id</th>\n      <th>quantity_purchased</th>\n      <th>price</th>\n      <th>user_type</th>\n    </tr>\n  </thead>\n  <tbody>\n    <tr>\n      <th>100</th>\n      <td>1100</td>\n      <td>2016-09-01</td>\n      <td>5847</td>\n      <td>1065</td>\n      <td>37</td>\n      <td>2715.61</td>\n      <td>b</td>\n    </tr>\n    <tr>\n      <th>101</th>\n      <td>1101</td>\n      <td>2016-01-14</td>\n      <td>5554</td>\n      <td>323</td>\n      <td>3</td>\n      <td>257.02</td>\n      <td>a</td>\n    </tr>\n    <tr>\n      <th>102</th>\n      <td>1102</td>\n      <td>2016-07-01</td>\n      <td>5255</td>\n      <td>932</td>\n      <td>13</td>\n      <td>579.26</td>\n      <td>b</td>\n    </tr>\n    <tr>\n      <th>103</th>\n      <td>1103</td>\n      <td>NaN</td>\n      <td>5911</td>\n      <td>812</td>\n      <td>19</td>\n      <td>884.73</td>\n      <td>b</td>\n    </tr>\n    <tr>\n      <th>104</th>\n      <td>1104</td>\n      <td>2016-01-29</td>\n      <td>5159</td>\n      <td>496</td>\n      <td>18</td>\n      <td>4629.23</td>\n      <td>c</td>\n    </tr>\n  </tbody>\n</table>\n</div>",
                        "text/plain": "     serial_no        date  user_id  product_id  quantity_purchased    price  \\\n100       1100  2016-09-01     5847        1065                  37  2715.61   \n101       1101  2016-01-14     5554         323                   3   257.02   \n102       1102  2016-07-01     5255         932                  13   579.26   \n103       1103         NaN     5911         812                  19   884.73   \n104       1104  2016-01-29     5159         496                  18  4629.23   \n\n    user_type  \n100         b  \n101         a  \n102         b  \n103         b  \n104         c  "
                    },
                    "metadata": {},
                    "output_type": "display_data"
                }
            ],
            "source": "display(df[100:].head())"
        },
        {
            "cell_type": "markdown",
            "metadata": {},
            "source": "Offset from bottom of the dataframe"
        },
        {
            "cell_type": "code",
            "execution_count": 17,
            "metadata": {},
            "outputs": [
                {
                    "data": {
                        "text/html": "<div>\n<style scoped>\n    .dataframe tbody tr th:only-of-type {\n        vertical-align: middle;\n    }\n\n    .dataframe tbody tr th {\n        vertical-align: top;\n    }\n\n    .dataframe thead th {\n        text-align: right;\n    }\n</style>\n<table border=\"1\" class=\"dataframe\">\n  <thead>\n    <tr style=\"text-align: right;\">\n      <th></th>\n      <th>serial_no</th>\n      <th>date</th>\n      <th>user_id</th>\n      <th>product_id</th>\n      <th>quantity_purchased</th>\n      <th>price</th>\n      <th>user_type</th>\n    </tr>\n  </thead>\n  <tbody>\n    <tr>\n      <th>990</th>\n      <td>1990</td>\n      <td>2016-08-01</td>\n      <td>5612</td>\n      <td>535</td>\n      <td>14</td>\n      <td>4998.85</td>\n      <td>a</td>\n    </tr>\n    <tr>\n      <th>991</th>\n      <td>1991</td>\n      <td>2016-01-13</td>\n      <td>5283</td>\n      <td>524</td>\n      <td>29</td>\n      <td>1119.20</td>\n      <td>a</td>\n    </tr>\n    <tr>\n      <th>992</th>\n      <td>1992</td>\n      <td>2016-09-01</td>\n      <td>5257</td>\n      <td>540</td>\n      <td>29</td>\n      <td>2168.74</td>\n      <td>d</td>\n    </tr>\n    <tr>\n      <th>993</th>\n      <td>1993</td>\n      <td>2016-05-02</td>\n      <td>5420</td>\n      <td>137</td>\n      <td>31</td>\n      <td>1368.62</td>\n      <td>b</td>\n    </tr>\n    <tr>\n      <th>994</th>\n      <td>1994</td>\n      <td>2016-07-01</td>\n      <td>5924</td>\n      <td>842</td>\n      <td>7</td>\n      <td>2012.13</td>\n      <td>b</td>\n    </tr>\n  </tbody>\n</table>\n</div>",
                        "text/plain": "     serial_no        date  user_id  product_id  quantity_purchased    price  \\\n990       1990  2016-08-01     5612         535                  14  4998.85   \n991       1991  2016-01-13     5283         524                  29  1119.20   \n992       1992  2016-09-01     5257         540                  29  2168.74   \n993       1993  2016-05-02     5420         137                  31  1368.62   \n994       1994  2016-07-01     5924         842                   7  2012.13   \n\n    user_type  \n990         a  \n991         a  \n992         d  \n993         b  \n994         b  "
                    },
                    "metadata": {},
                    "output_type": "display_data"
                }
            ],
            "source": "display(df[-10:].head())"
        },
        {
            "cell_type": "markdown",
            "metadata": {},
            "source": "### TypeCasting/Data Type Conversion"
        },
        {
            "cell_type": "code",
            "execution_count": 18,
            "metadata": {},
            "outputs": [
                {
                    "name": "stdout",
                    "output_type": "stream",
                    "text": "serial_no                      int64\ndate                  datetime64[ns]\nuser_id                        int64\nproduct_id                     int64\nquantity_purchased             int64\nprice                        float64\nuser_type                     object\ndtype: object\n"
                }
            ],
            "source": "df['date'] = pd.to_datetime(df.date)\n# compare dtypes of the original df with this one\nprint(df.dtypes)"
        },
        {
            "cell_type": "markdown",
            "metadata": {},
            "source": "### Apply/Map Usage"
        },
        {
            "cell_type": "markdown",
            "metadata": {},
            "source": "Map : Create a derived attribute using map"
        },
        {
            "cell_type": "code",
            "execution_count": 19,
            "metadata": {},
            "outputs": [
                {
                    "data": {
                        "text/html": "<div>\n<style scoped>\n    .dataframe tbody tr th:only-of-type {\n        vertical-align: middle;\n    }\n\n    .dataframe tbody tr th {\n        vertical-align: top;\n    }\n\n    .dataframe thead th {\n        text-align: right;\n    }\n</style>\n<table border=\"1\" class=\"dataframe\">\n  <thead>\n    <tr style=\"text-align: right;\">\n      <th></th>\n      <th>serial_no</th>\n      <th>date</th>\n      <th>user_id</th>\n      <th>product_id</th>\n      <th>quantity_purchased</th>\n      <th>price</th>\n      <th>user_type</th>\n      <th>user_class</th>\n    </tr>\n  </thead>\n  <tbody>\n    <tr>\n      <th>995</th>\n      <td>1995</td>\n      <td>2016-01-19</td>\n      <td>5586</td>\n      <td>618</td>\n      <td>22</td>\n      <td>3938.70</td>\n      <td>a</td>\n      <td>new</td>\n    </tr>\n    <tr>\n      <th>996</th>\n      <td>1996</td>\n      <td>2016-01-22</td>\n      <td>5539</td>\n      <td>212</td>\n      <td>21</td>\n      <td>1829.56</td>\n      <td>d</td>\n      <td>loyal_existing</td>\n    </tr>\n    <tr>\n      <th>997</th>\n      <td>1997</td>\n      <td>2016-01-27</td>\n      <td>5735</td>\n      <td>260</td>\n      <td>32</td>\n      <td>535.73</td>\n      <td>b</td>\n      <td>new</td>\n    </tr>\n    <tr>\n      <th>998</th>\n      <td>1998</td>\n      <td>2016-01-13</td>\n      <td>5159</td>\n      <td>890</td>\n      <td>2</td>\n      <td>2295.37</td>\n      <td>c</td>\n      <td>existing</td>\n    </tr>\n    <tr>\n      <th>999</th>\n      <td>1999</td>\n      <td>2016-01-31</td>\n      <td>5743</td>\n      <td>159</td>\n      <td>11</td>\n      <td>1678.35</td>\n      <td>a</td>\n      <td>new</td>\n    </tr>\n  </tbody>\n</table>\n</div>",
                        "text/plain": "     serial_no       date  user_id  product_id  quantity_purchased    price  \\\n995       1995 2016-01-19     5586         618                  22  3938.70   \n996       1996 2016-01-22     5539         212                  21  1829.56   \n997       1997 2016-01-27     5735         260                  32   535.73   \n998       1998 2016-01-13     5159         890                   2  2295.37   \n999       1999 2016-01-31     5743         159                  11  1678.35   \n\n    user_type      user_class  \n995         a             new  \n996         d  loyal_existing  \n997         b             new  \n998         c        existing  \n999         a             new  "
                    },
                    "metadata": {},
                    "output_type": "display_data"
                }
            ],
            "source": "df['user_class'] = df['user_type'].map(expand_user_type)\ndisplay(df.tail())"
        },
        {
            "cell_type": "markdown",
            "metadata": {},
            "source": "Apply: Using apply to get attribute ranges"
        },
        {
            "cell_type": "code",
            "execution_count": 20,
            "metadata": {},
            "outputs": [
                {
                    "data": {
                        "text/plain": "serial_no             2000.00\nuser_id               6087.00\nproduct_id            1095.00\nquantity_purchased      40.00\nprice                 7661.98\ndtype: float64"
                    },
                    "metadata": {},
                    "output_type": "display_data"
                }
            ],
            "source": "display(df.select_dtypes(include=[np.number]).apply(lambda x: \n                                                        x.max()- x.min()))"
        },
        {
            "cell_type": "markdown",
            "metadata": {},
            "source": "Applymap: Extract week from date"
        },
        {
            "cell_type": "code",
            "execution_count": 21,
            "metadata": {},
            "outputs": [],
            "source": "df['purchase_week'] = df[['date']].applymap(lambda dt:dt.week \n                                                if not pd.isnull(dt.week) \n                                                else 0)"
        },
        {
            "cell_type": "code",
            "execution_count": 22,
            "metadata": {},
            "outputs": [
                {
                    "data": {
                        "text/html": "<div>\n<style scoped>\n    .dataframe tbody tr th:only-of-type {\n        vertical-align: middle;\n    }\n\n    .dataframe tbody tr th {\n        vertical-align: top;\n    }\n\n    .dataframe thead th {\n        text-align: right;\n    }\n</style>\n<table border=\"1\" class=\"dataframe\">\n  <thead>\n    <tr style=\"text-align: right;\">\n      <th></th>\n      <th>serial_no</th>\n      <th>date</th>\n      <th>user_id</th>\n      <th>product_id</th>\n      <th>quantity_purchased</th>\n      <th>price</th>\n      <th>user_type</th>\n      <th>user_class</th>\n      <th>purchase_week</th>\n    </tr>\n  </thead>\n  <tbody>\n    <tr>\n      <th>0</th>\n      <td>1000</td>\n      <td>NaT</td>\n      <td>-101</td>\n      <td>0</td>\n      <td>17</td>\n      <td>NaN</td>\n      <td>n</td>\n      <td>error</td>\n      <td>0</td>\n    </tr>\n    <tr>\n      <th>1</th>\n      <td>1001</td>\n      <td>NaT</td>\n      <td>5554</td>\n      <td>323</td>\n      <td>27</td>\n      <td>5683.14</td>\n      <td>n</td>\n      <td>error</td>\n      <td>0</td>\n    </tr>\n    <tr>\n      <th>2</th>\n      <td>1002</td>\n      <td>NaT</td>\n      <td>5255</td>\n      <td>932</td>\n      <td>29</td>\n      <td>NaN</td>\n      <td>n</td>\n      <td>error</td>\n      <td>0</td>\n    </tr>\n    <tr>\n      <th>3</th>\n      <td>1003</td>\n      <td>2016-01-21</td>\n      <td>5911</td>\n      <td>812</td>\n      <td>9</td>\n      <td>5174.73</td>\n      <td>n</td>\n      <td>error</td>\n      <td>3</td>\n    </tr>\n    <tr>\n      <th>4</th>\n      <td>1004</td>\n      <td>NaT</td>\n      <td>5159</td>\n      <td>496</td>\n      <td>17</td>\n      <td>2741.24</td>\n      <td>n</td>\n      <td>error</td>\n      <td>0</td>\n    </tr>\n  </tbody>\n</table>\n</div>",
                        "text/plain": "   serial_no       date  user_id  product_id  quantity_purchased    price  \\\n0       1000        NaT     -101           0                  17      NaN   \n1       1001        NaT     5554         323                  27  5683.14   \n2       1002        NaT     5255         932                  29      NaN   \n3       1003 2016-01-21     5911         812                   9  5174.73   \n4       1004        NaT     5159         496                  17  2741.24   \n\n  user_type user_class  purchase_week  \n0         n      error              0  \n1         n      error              0  \n2         n      error              0  \n3         n      error              3  \n4         n      error              0  "
                    },
                    "metadata": {},
                    "output_type": "display_data"
                }
            ],
            "source": "display(df.head())"
        },
        {
            "cell_type": "markdown",
            "metadata": {},
            "source": "### Missing Values"
        },
        {
            "cell_type": "markdown",
            "metadata": {},
            "source": "Drop Rows with missing dates"
        },
        {
            "cell_type": "code",
            "execution_count": 23,
            "metadata": {},
            "outputs": [
                {
                    "data": {
                        "text/html": "<div>\n<style scoped>\n    .dataframe tbody tr th:only-of-type {\n        vertical-align: middle;\n    }\n\n    .dataframe tbody tr th {\n        vertical-align: top;\n    }\n\n    .dataframe thead th {\n        text-align: right;\n    }\n</style>\n<table border=\"1\" class=\"dataframe\">\n  <thead>\n    <tr style=\"text-align: right;\">\n      <th></th>\n      <th>serial_no</th>\n      <th>date</th>\n      <th>user_id</th>\n      <th>product_id</th>\n      <th>quantity_purchased</th>\n      <th>price</th>\n      <th>user_type</th>\n      <th>user_class</th>\n      <th>purchase_week</th>\n    </tr>\n  </thead>\n  <tbody>\n    <tr>\n      <th>3</th>\n      <td>1003</td>\n      <td>2016-01-21</td>\n      <td>5911</td>\n      <td>812</td>\n      <td>9</td>\n      <td>5174.73</td>\n      <td>n</td>\n      <td>error</td>\n      <td>3</td>\n    </tr>\n    <tr>\n      <th>5</th>\n      <td>1005</td>\n      <td>2016-01-27</td>\n      <td>5745</td>\n      <td>205</td>\n      <td>7</td>\n      <td>4825.19</td>\n      <td>n</td>\n      <td>error</td>\n      <td>4</td>\n    </tr>\n    <tr>\n      <th>9</th>\n      <td>1009</td>\n      <td>2016-01-19</td>\n      <td>5954</td>\n      <td>884</td>\n      <td>18</td>\n      <td>3496.21</td>\n      <td>n</td>\n      <td>error</td>\n      <td>3</td>\n    </tr>\n    <tr>\n      <th>10</th>\n      <td>1010</td>\n      <td>2016-01-25</td>\n      <td>5930</td>\n      <td>943</td>\n      <td>18</td>\n      <td>35.85</td>\n      <td>n</td>\n      <td>error</td>\n      <td>4</td>\n    </tr>\n    <tr>\n      <th>11</th>\n      <td>1011</td>\n      <td>2016-09-01</td>\n      <td>5363</td>\n      <td>792</td>\n      <td>33</td>\n      <td>1737.31</td>\n      <td>n</td>\n      <td>error</td>\n      <td>35</td>\n    </tr>\n  </tbody>\n</table>\n</div>",
                        "text/plain": "    serial_no       date  user_id  product_id  quantity_purchased    price  \\\n3        1003 2016-01-21     5911         812                   9  5174.73   \n5        1005 2016-01-27     5745         205                   7  4825.19   \n9        1009 2016-01-19     5954         884                  18  3496.21   \n10       1010 2016-01-25     5930         943                  18    35.85   \n11       1011 2016-09-01     5363         792                  33  1737.31   \n\n   user_type user_class  purchase_week  \n3          n      error              3  \n5          n      error              4  \n9          n      error              3  \n10         n      error              4  \n11         n      error             35  "
                    },
                    "metadata": {},
                    "output_type": "display_data"
                }
            ],
            "source": "df_dropped = df.dropna(subset=['date'])\ndisplay(df_dropped.head())"
        },
        {
            "cell_type": "markdown",
            "metadata": {},
            "source": "Fill Missing Price values with mean price"
        },
        {
            "cell_type": "code",
            "execution_count": 24,
            "metadata": {},
            "outputs": [],
            "source": "df_dropped['price'].fillna(value=np.round(df.price.mean(),decimals=2),\n                                inplace=True)"
        },
        {
            "cell_type": "markdown",
            "metadata": {},
            "source": "Fill Missing user_type values with value from previous row (forward fill) "
        },
        {
            "cell_type": "code",
            "execution_count": 25,
            "metadata": {},
            "outputs": [],
            "source": "df_dropped['user_type'].fillna(method='ffill',inplace=True)"
        },
        {
            "cell_type": "markdown",
            "metadata": {},
            "source": "Fill Missing user_type values with value from next row (backward fill)"
        },
        {
            "cell_type": "code",
            "execution_count": 26,
            "metadata": {},
            "outputs": [],
            "source": "df_dropped['user_type'].fillna(method='bfill',inplace=True)"
        },
        {
            "cell_type": "markdown",
            "metadata": {},
            "source": "### Duplicates"
        },
        {
            "cell_type": "markdown",
            "metadata": {},
            "source": "Drop Duplicate serial_no rows"
        },
        {
            "cell_type": "code",
            "execution_count": 27,
            "metadata": {},
            "outputs": [
                {
                    "data": {
                        "text/html": "<div>\n<style scoped>\n    .dataframe tbody tr th:only-of-type {\n        vertical-align: middle;\n    }\n\n    .dataframe tbody tr th {\n        vertical-align: top;\n    }\n\n    .dataframe thead th {\n        text-align: right;\n    }\n</style>\n<table border=\"1\" class=\"dataframe\">\n  <thead>\n    <tr style=\"text-align: right;\">\n      <th></th>\n      <th>serial_no</th>\n      <th>date</th>\n      <th>user_id</th>\n      <th>product_id</th>\n      <th>quantity_purchased</th>\n      <th>price</th>\n      <th>user_type</th>\n      <th>user_class</th>\n      <th>purchase_week</th>\n    </tr>\n  </thead>\n  <tbody>\n    <tr>\n      <th>99</th>\n      <td>-1</td>\n      <td>2016-08-01</td>\n      <td>5743</td>\n      <td>159</td>\n      <td>8</td>\n      <td>3385.55</td>\n      <td>b</td>\n      <td>new</td>\n      <td>31</td>\n    </tr>\n    <tr>\n      <th>195</th>\n      <td>-1</td>\n      <td>2016-01-26</td>\n      <td>5586</td>\n      <td>618</td>\n      <td>13</td>\n      <td>1119.54</td>\n      <td>d</td>\n      <td>loyal_existing</td>\n      <td>4</td>\n    </tr>\n    <tr>\n      <th>218</th>\n      <td>-1</td>\n      <td>2016-10-02</td>\n      <td>5762</td>\n      <td>576</td>\n      <td>18</td>\n      <td>1588.02</td>\n      <td>d</td>\n      <td>loyal_existing</td>\n      <td>39</td>\n    </tr>\n    <tr>\n      <th>236</th>\n      <td>-1</td>\n      <td>2016-01-29</td>\n      <td>5928</td>\n      <td>476</td>\n      <td>33</td>\n      <td>519.56</td>\n      <td>c</td>\n      <td>existing</td>\n      <td>4</td>\n    </tr>\n    <tr>\n      <th>242</th>\n      <td>-1</td>\n      <td>2016-07-02</td>\n      <td>5585</td>\n      <td>765</td>\n      <td>11</td>\n      <td>1658.62</td>\n      <td>d</td>\n      <td>loyal_existing</td>\n      <td>26</td>\n    </tr>\n  </tbody>\n</table>\n</div>",
                        "text/plain": "     serial_no       date  user_id  product_id  quantity_purchased    price  \\\n99          -1 2016-08-01     5743         159                   8  3385.55   \n195         -1 2016-01-26     5586         618                  13  1119.54   \n218         -1 2016-10-02     5762         576                  18  1588.02   \n236         -1 2016-01-29     5928         476                  33   519.56   \n242         -1 2016-07-02     5585         765                  11  1658.62   \n\n    user_type      user_class  purchase_week  \n99          b             new             31  \n195         d  loyal_existing              4  \n218         d  loyal_existing             39  \n236         c        existing              4  \n242         d  loyal_existing             26  "
                    },
                    "metadata": {},
                    "output_type": "display_data"
                },
                {
                    "name": "stdout",
                    "output_type": "stream",
                    "text": "Shape of df=(969, 9)\n"
                }
            ],
            "source": "# sample duplicates\ndisplay(df_dropped[df_dropped.duplicated(subset=['serial_no'])].head())\nprint(\"Shape of df={}\".format(df_dropped.shape))"
        },
        {
            "cell_type": "code",
            "execution_count": 28,
            "metadata": {},
            "outputs": [],
            "source": "df_dropped.drop_duplicates(subset=['serial_no'],inplace=True)"
        },
        {
            "cell_type": "code",
            "execution_count": 29,
            "metadata": {},
            "outputs": [
                {
                    "data": {
                        "text/html": "<div>\n<style scoped>\n    .dataframe tbody tr th:only-of-type {\n        vertical-align: middle;\n    }\n\n    .dataframe tbody tr th {\n        vertical-align: top;\n    }\n\n    .dataframe thead th {\n        text-align: right;\n    }\n</style>\n<table border=\"1\" class=\"dataframe\">\n  <thead>\n    <tr style=\"text-align: right;\">\n      <th></th>\n      <th>serial_no</th>\n      <th>date</th>\n      <th>user_id</th>\n      <th>product_id</th>\n      <th>quantity_purchased</th>\n      <th>price</th>\n      <th>user_type</th>\n      <th>user_class</th>\n      <th>purchase_week</th>\n    </tr>\n  </thead>\n  <tbody>\n    <tr>\n      <th>3</th>\n      <td>1003</td>\n      <td>2016-01-21</td>\n      <td>5911</td>\n      <td>812</td>\n      <td>9</td>\n      <td>5174.73</td>\n      <td>n</td>\n      <td>error</td>\n      <td>3</td>\n    </tr>\n    <tr>\n      <th>5</th>\n      <td>1005</td>\n      <td>2016-01-27</td>\n      <td>5745</td>\n      <td>205</td>\n      <td>7</td>\n      <td>4825.19</td>\n      <td>n</td>\n      <td>error</td>\n      <td>4</td>\n    </tr>\n    <tr>\n      <th>9</th>\n      <td>1009</td>\n      <td>2016-01-19</td>\n      <td>5954</td>\n      <td>884</td>\n      <td>18</td>\n      <td>3496.21</td>\n      <td>n</td>\n      <td>error</td>\n      <td>3</td>\n    </tr>\n    <tr>\n      <th>10</th>\n      <td>1010</td>\n      <td>2016-01-25</td>\n      <td>5930</td>\n      <td>943</td>\n      <td>18</td>\n      <td>35.85</td>\n      <td>n</td>\n      <td>error</td>\n      <td>4</td>\n    </tr>\n    <tr>\n      <th>11</th>\n      <td>1011</td>\n      <td>2016-09-01</td>\n      <td>5363</td>\n      <td>792</td>\n      <td>33</td>\n      <td>1737.31</td>\n      <td>n</td>\n      <td>error</td>\n      <td>35</td>\n    </tr>\n  </tbody>\n</table>\n</div>",
                        "text/plain": "    serial_no       date  user_id  product_id  quantity_purchased    price  \\\n3        1003 2016-01-21     5911         812                   9  5174.73   \n5        1005 2016-01-27     5745         205                   7  4825.19   \n9        1009 2016-01-19     5954         884                  18  3496.21   \n10       1010 2016-01-25     5930         943                  18    35.85   \n11       1011 2016-09-01     5363         792                  33  1737.31   \n\n   user_type user_class  purchase_week  \n3          n      error              3  \n5          n      error              4  \n9          n      error              3  \n10         n      error              4  \n11         n      error             35  "
                    },
                    "metadata": {},
                    "output_type": "display_data"
                },
                {
                    "name": "stdout",
                    "output_type": "stream",
                    "text": "Shape of df=(940, 9)\n"
                }
            ],
            "source": "# updated dataframe\ndisplay(df_dropped.head())\nprint(\"Shape of df={}\".format(df_dropped.shape))"
        },
        {
            "cell_type": "markdown",
            "metadata": {},
            "source": "Remove rows which have less than 3 attributes with non-missing data"
        },
        {
            "cell_type": "code",
            "execution_count": 30,
            "metadata": {},
            "outputs": [
                {
                    "data": {
                        "text/html": "<div>\n<style scoped>\n    .dataframe tbody tr th:only-of-type {\n        vertical-align: middle;\n    }\n\n    .dataframe tbody tr th {\n        vertical-align: top;\n    }\n\n    .dataframe thead th {\n        text-align: right;\n    }\n</style>\n<table border=\"1\" class=\"dataframe\">\n  <thead>\n    <tr style=\"text-align: right;\">\n      <th></th>\n      <th>serial_no</th>\n      <th>date</th>\n      <th>user_id</th>\n      <th>product_id</th>\n      <th>quantity_purchased</th>\n      <th>price</th>\n      <th>user_type</th>\n      <th>user_class</th>\n      <th>purchase_week</th>\n    </tr>\n  </thead>\n  <tbody>\n    <tr>\n      <th>0</th>\n      <td>1000</td>\n      <td>NaT</td>\n      <td>-101</td>\n      <td>0</td>\n      <td>17</td>\n      <td>NaN</td>\n      <td>n</td>\n      <td>error</td>\n      <td>0</td>\n    </tr>\n    <tr>\n      <th>1</th>\n      <td>1001</td>\n      <td>NaT</td>\n      <td>5554</td>\n      <td>323</td>\n      <td>27</td>\n      <td>5683.14</td>\n      <td>n</td>\n      <td>error</td>\n      <td>0</td>\n    </tr>\n    <tr>\n      <th>2</th>\n      <td>1002</td>\n      <td>NaT</td>\n      <td>5255</td>\n      <td>932</td>\n      <td>29</td>\n      <td>NaN</td>\n      <td>n</td>\n      <td>error</td>\n      <td>0</td>\n    </tr>\n    <tr>\n      <th>3</th>\n      <td>1003</td>\n      <td>2016-01-21</td>\n      <td>5911</td>\n      <td>812</td>\n      <td>9</td>\n      <td>5174.73</td>\n      <td>n</td>\n      <td>error</td>\n      <td>3</td>\n    </tr>\n    <tr>\n      <th>4</th>\n      <td>1004</td>\n      <td>NaT</td>\n      <td>5159</td>\n      <td>496</td>\n      <td>17</td>\n      <td>2741.24</td>\n      <td>n</td>\n      <td>error</td>\n      <td>0</td>\n    </tr>\n  </tbody>\n</table>\n</div>",
                        "text/plain": "   serial_no       date  user_id  product_id  quantity_purchased    price  \\\n0       1000        NaT     -101           0                  17      NaN   \n1       1001        NaT     5554         323                  27  5683.14   \n2       1002        NaT     5255         932                  29      NaN   \n3       1003 2016-01-21     5911         812                   9  5174.73   \n4       1004        NaT     5159         496                  17  2741.24   \n\n  user_type user_class  purchase_week  \n0         n      error              0  \n1         n      error              0  \n2         n      error              0  \n3         n      error              3  \n4         n      error              0  "
                    },
                    "metadata": {},
                    "output_type": "display_data"
                },
                {
                    "name": "stdout",
                    "output_type": "stream",
                    "text": "Shape of df=(1000, 9)\n"
                }
            ],
            "source": "display(df.dropna(thresh=3).head())\nprint(\"Shape of df={}\".format(df.dropna(thresh=3).shape))"
        },
        {
            "cell_type": "markdown",
            "metadata": {},
            "source": "### Encode Categoricals"
        },
        {
            "cell_type": "markdown",
            "metadata": {},
            "source": "One Hot Encoding using get_dummies()"
        },
        {
            "cell_type": "code",
            "execution_count": 31,
            "metadata": {},
            "outputs": [
                {
                    "data": {
                        "text/html": "<div>\n<style scoped>\n    .dataframe tbody tr th:only-of-type {\n        vertical-align: middle;\n    }\n\n    .dataframe tbody tr th {\n        vertical-align: top;\n    }\n\n    .dataframe thead th {\n        text-align: right;\n    }\n</style>\n<table border=\"1\" class=\"dataframe\">\n  <thead>\n    <tr style=\"text-align: right;\">\n      <th></th>\n      <th>serial_no</th>\n      <th>date</th>\n      <th>user_id</th>\n      <th>product_id</th>\n      <th>quantity_purchased</th>\n      <th>price</th>\n      <th>user_class</th>\n      <th>purchase_week</th>\n      <th>user_type_a</th>\n      <th>user_type_b</th>\n      <th>user_type_c</th>\n      <th>user_type_d</th>\n      <th>user_type_n</th>\n    </tr>\n  </thead>\n  <tbody>\n    <tr>\n      <th>0</th>\n      <td>1000</td>\n      <td>NaT</td>\n      <td>-101</td>\n      <td>0</td>\n      <td>17</td>\n      <td>NaN</td>\n      <td>error</td>\n      <td>0</td>\n      <td>0</td>\n      <td>0</td>\n      <td>0</td>\n      <td>0</td>\n      <td>1</td>\n    </tr>\n    <tr>\n      <th>1</th>\n      <td>1001</td>\n      <td>NaT</td>\n      <td>5554</td>\n      <td>323</td>\n      <td>27</td>\n      <td>5683.14</td>\n      <td>error</td>\n      <td>0</td>\n      <td>0</td>\n      <td>0</td>\n      <td>0</td>\n      <td>0</td>\n      <td>1</td>\n    </tr>\n    <tr>\n      <th>2</th>\n      <td>1002</td>\n      <td>NaT</td>\n      <td>5255</td>\n      <td>932</td>\n      <td>29</td>\n      <td>NaN</td>\n      <td>error</td>\n      <td>0</td>\n      <td>0</td>\n      <td>0</td>\n      <td>0</td>\n      <td>0</td>\n      <td>1</td>\n    </tr>\n    <tr>\n      <th>3</th>\n      <td>1003</td>\n      <td>2016-01-21</td>\n      <td>5911</td>\n      <td>812</td>\n      <td>9</td>\n      <td>5174.73</td>\n      <td>error</td>\n      <td>3</td>\n      <td>0</td>\n      <td>0</td>\n      <td>0</td>\n      <td>0</td>\n      <td>1</td>\n    </tr>\n    <tr>\n      <th>4</th>\n      <td>1004</td>\n      <td>NaT</td>\n      <td>5159</td>\n      <td>496</td>\n      <td>17</td>\n      <td>2741.24</td>\n      <td>error</td>\n      <td>0</td>\n      <td>0</td>\n      <td>0</td>\n      <td>0</td>\n      <td>0</td>\n      <td>1</td>\n    </tr>\n  </tbody>\n</table>\n</div>",
                        "text/plain": "   serial_no       date  user_id  product_id  quantity_purchased    price  \\\n0       1000        NaT     -101           0                  17      NaN   \n1       1001        NaT     5554         323                  27  5683.14   \n2       1002        NaT     5255         932                  29      NaN   \n3       1003 2016-01-21     5911         812                   9  5174.73   \n4       1004        NaT     5159         496                  17  2741.24   \n\n  user_class  purchase_week  user_type_a  user_type_b  user_type_c  \\\n0      error              0            0            0            0   \n1      error              0            0            0            0   \n2      error              0            0            0            0   \n3      error              3            0            0            0   \n4      error              0            0            0            0   \n\n   user_type_d  user_type_n  \n0            0            1  \n1            0            1  \n2            0            1  \n3            0            1  \n4            0            1  "
                    },
                    "metadata": {},
                    "output_type": "display_data"
                }
            ],
            "source": "display(pd.get_dummies(df,columns=['user_type']).head())"
        },
        {
            "cell_type": "markdown",
            "metadata": {},
            "source": "Label Mapping"
        },
        {
            "cell_type": "code",
            "execution_count": 32,
            "metadata": {},
            "outputs": [
                {
                    "data": {
                        "text/html": "<div>\n<style scoped>\n    .dataframe tbody tr th:only-of-type {\n        vertical-align: middle;\n    }\n\n    .dataframe tbody tr th {\n        vertical-align: top;\n    }\n\n    .dataframe thead th {\n        text-align: right;\n    }\n</style>\n<table border=\"1\" class=\"dataframe\">\n  <thead>\n    <tr style=\"text-align: right;\">\n      <th></th>\n      <th>serial_no</th>\n      <th>date</th>\n      <th>user_id</th>\n      <th>product_id</th>\n      <th>quantity_purchased</th>\n      <th>price</th>\n      <th>user_type</th>\n      <th>user_class</th>\n      <th>purchase_week</th>\n      <th>encoded_user_type</th>\n    </tr>\n  </thead>\n  <tbody>\n    <tr>\n      <th>995</th>\n      <td>1995</td>\n      <td>2016-01-19</td>\n      <td>5586</td>\n      <td>618</td>\n      <td>22</td>\n      <td>3938.70</td>\n      <td>a</td>\n      <td>new</td>\n      <td>3</td>\n      <td>0.0</td>\n    </tr>\n    <tr>\n      <th>996</th>\n      <td>1996</td>\n      <td>2016-01-22</td>\n      <td>5539</td>\n      <td>212</td>\n      <td>21</td>\n      <td>1829.56</td>\n      <td>d</td>\n      <td>loyal_existing</td>\n      <td>3</td>\n      <td>3.0</td>\n    </tr>\n    <tr>\n      <th>997</th>\n      <td>1997</td>\n      <td>2016-01-27</td>\n      <td>5735</td>\n      <td>260</td>\n      <td>32</td>\n      <td>535.73</td>\n      <td>b</td>\n      <td>new</td>\n      <td>4</td>\n      <td>1.0</td>\n    </tr>\n    <tr>\n      <th>998</th>\n      <td>1998</td>\n      <td>2016-01-13</td>\n      <td>5159</td>\n      <td>890</td>\n      <td>2</td>\n      <td>2295.37</td>\n      <td>c</td>\n      <td>existing</td>\n      <td>2</td>\n      <td>2.0</td>\n    </tr>\n    <tr>\n      <th>999</th>\n      <td>1999</td>\n      <td>2016-01-31</td>\n      <td>5743</td>\n      <td>159</td>\n      <td>11</td>\n      <td>1678.35</td>\n      <td>a</td>\n      <td>new</td>\n      <td>4</td>\n      <td>0.0</td>\n    </tr>\n  </tbody>\n</table>\n</div>",
                        "text/plain": "     serial_no       date  user_id  product_id  quantity_purchased    price  \\\n995       1995 2016-01-19     5586         618                  22  3938.70   \n996       1996 2016-01-22     5539         212                  21  1829.56   \n997       1997 2016-01-27     5735         260                  32   535.73   \n998       1998 2016-01-13     5159         890                   2  2295.37   \n999       1999 2016-01-31     5743         159                  11  1678.35   \n\n    user_type      user_class  purchase_week  encoded_user_type  \n995         a             new              3                0.0  \n996         d  loyal_existing              3                3.0  \n997         b             new              4                1.0  \n998         c        existing              2                2.0  \n999         a             new              4                0.0  "
                    },
                    "metadata": {},
                    "output_type": "display_data"
                }
            ],
            "source": "type_map={'a':0,'b':1,'c':2,'d':3,np.NAN:-1}\ndf['encoded_user_type'] = df.user_type.map(type_map)\ndisplay((df.tail()))"
        },
        {
            "cell_type": "markdown",
            "metadata": {},
            "source": "### Random Sampling data from DataFrame"
        },
        {
            "cell_type": "code",
            "execution_count": 33,
            "metadata": {},
            "outputs": [
                {
                    "data": {
                        "text/html": "<div>\n<style scoped>\n    .dataframe tbody tr th:only-of-type {\n        vertical-align: middle;\n    }\n\n    .dataframe tbody tr th {\n        vertical-align: top;\n    }\n\n    .dataframe thead th {\n        text-align: right;\n    }\n</style>\n<table border=\"1\" class=\"dataframe\">\n  <thead>\n    <tr style=\"text-align: right;\">\n      <th></th>\n      <th>serial_no</th>\n      <th>date</th>\n      <th>user_id</th>\n      <th>product_id</th>\n      <th>quantity_purchased</th>\n      <th>price</th>\n      <th>user_type</th>\n      <th>user_class</th>\n      <th>purchase_week</th>\n      <th>encoded_user_type</th>\n    </tr>\n  </thead>\n  <tbody>\n    <tr>\n      <th>102</th>\n      <td>1102</td>\n      <td>2016-07-01</td>\n      <td>5255</td>\n      <td>932</td>\n      <td>13</td>\n      <td>579.26</td>\n      <td>b</td>\n      <td>new</td>\n      <td>26</td>\n      <td>1.0</td>\n    </tr>\n    <tr>\n      <th>435</th>\n      <td>1435</td>\n      <td>2016-01-20</td>\n      <td>5431</td>\n      <td>776</td>\n      <td>40</td>\n      <td>1714.68</td>\n      <td>c</td>\n      <td>existing</td>\n      <td>3</td>\n      <td>2.0</td>\n    </tr>\n    <tr>\n      <th>860</th>\n      <td>1860</td>\n      <td>2016-11-01</td>\n      <td>5901</td>\n      <td>228</td>\n      <td>34</td>\n      <td>2732.73</td>\n      <td>a</td>\n      <td>new</td>\n      <td>44</td>\n      <td>0.0</td>\n    </tr>\n    <tr>\n      <th>270</th>\n      <td>1270</td>\n      <td>2016-01-19</td>\n      <td>5251</td>\n      <td>978</td>\n      <td>16</td>\n      <td>71.51</td>\n      <td>b</td>\n      <td>new</td>\n      <td>3</td>\n      <td>1.0</td>\n    </tr>\n    <tr>\n      <th>106</th>\n      <td>1106</td>\n      <td>2016-01-30</td>\n      <td>5825</td>\n      <td>830</td>\n      <td>18</td>\n      <td>5101.04</td>\n      <td>c</td>\n      <td>existing</td>\n      <td>4</td>\n      <td>2.0</td>\n    </tr>\n  </tbody>\n</table>\n</div>",
                        "text/plain": "     serial_no       date  user_id  product_id  quantity_purchased    price  \\\n102       1102 2016-07-01     5255         932                  13   579.26   \n435       1435 2016-01-20     5431         776                  40  1714.68   \n860       1860 2016-11-01     5901         228                  34  2732.73   \n270       1270 2016-01-19     5251         978                  16    71.51   \n106       1106 2016-01-30     5825         830                  18  5101.04   \n\n    user_type user_class  purchase_week  encoded_user_type  \n102         b        new             26                1.0  \n435         c   existing              3                2.0  \n860         a        new             44                0.0  \n270         b        new              3                1.0  \n106         c   existing              4                2.0  "
                    },
                    "metadata": {},
                    "output_type": "display_data"
                }
            ],
            "source": "display(df.sample(frac=0.2, replace=True, random_state=42).head())"
        },
        {
            "cell_type": "markdown",
            "metadata": {},
            "source": "### Normalizing Numeric Values"
        },
        {
            "cell_type": "markdown",
            "metadata": {},
            "source": "Normalize price values using  **Min-Max Scaler**"
        },
        {
            "cell_type": "code",
            "execution_count": 34,
            "metadata": {},
            "outputs": [],
            "source": "df_normalized = df.dropna().copy()\nmin_max_scaler = preprocessing.MinMaxScaler()\nnp_scaled = min_max_scaler.fit_transform(df_normalized['price'].values.reshape(-1,1))\ndf_normalized['price'] = np_scaled.reshape(-1,1)"
        },
        {
            "cell_type": "code",
            "execution_count": 35,
            "metadata": {},
            "outputs": [
                {
                    "data": {
                        "text/html": "<div>\n<style scoped>\n    .dataframe tbody tr th:only-of-type {\n        vertical-align: middle;\n    }\n\n    .dataframe tbody tr th {\n        vertical-align: top;\n    }\n\n    .dataframe thead th {\n        text-align: right;\n    }\n</style>\n<table border=\"1\" class=\"dataframe\">\n  <thead>\n    <tr style=\"text-align: right;\">\n      <th></th>\n      <th>serial_no</th>\n      <th>date</th>\n      <th>user_id</th>\n      <th>product_id</th>\n      <th>quantity_purchased</th>\n      <th>price</th>\n      <th>user_type</th>\n      <th>user_class</th>\n      <th>purchase_week</th>\n      <th>encoded_user_type</th>\n    </tr>\n  </thead>\n  <tbody>\n    <tr>\n      <th>16</th>\n      <td>1016</td>\n      <td>2016-01-23</td>\n      <td>5556</td>\n      <td>916</td>\n      <td>18</td>\n      <td>0.261772</td>\n      <td>a</td>\n      <td>new</td>\n      <td>3</td>\n      <td>0.0</td>\n    </tr>\n    <tr>\n      <th>21</th>\n      <td>1021</td>\n      <td>2016-01-27</td>\n      <td>5553</td>\n      <td>674</td>\n      <td>35</td>\n      <td>0.319355</td>\n      <td>a</td>\n      <td>new</td>\n      <td>4</td>\n      <td>0.0</td>\n    </tr>\n    <tr>\n      <th>25</th>\n      <td>-1</td>\n      <td>2016-01-21</td>\n      <td>5024</td>\n      <td>726</td>\n      <td>10</td>\n      <td>0.289372</td>\n      <td>b</td>\n      <td>new</td>\n      <td>3</td>\n      <td>1.0</td>\n    </tr>\n    <tr>\n      <th>28</th>\n      <td>1028</td>\n      <td>2016-06-02</td>\n      <td>5847</td>\n      <td>832</td>\n      <td>25</td>\n      <td>0.510547</td>\n      <td>c</td>\n      <td>existing</td>\n      <td>22</td>\n      <td>2.0</td>\n    </tr>\n    <tr>\n      <th>32</th>\n      <td>1032</td>\n      <td>2016-12-01</td>\n      <td>5475</td>\n      <td>680</td>\n      <td>36</td>\n      <td>0.963800</td>\n      <td>b</td>\n      <td>new</td>\n      <td>48</td>\n      <td>1.0</td>\n    </tr>\n  </tbody>\n</table>\n</div>",
                        "text/plain": "    serial_no       date  user_id  product_id  quantity_purchased     price  \\\n16       1016 2016-01-23     5556         916                  18  0.261772   \n21       1021 2016-01-27     5553         674                  35  0.319355   \n25         -1 2016-01-21     5024         726                  10  0.289372   \n28       1028 2016-06-02     5847         832                  25  0.510547   \n32       1032 2016-12-01     5475         680                  36  0.963800   \n\n   user_type user_class  purchase_week  encoded_user_type  \n16         a        new              3                0.0  \n21         a        new              4                0.0  \n25         b        new              3                1.0  \n28         c   existing             22                2.0  \n32         b        new             48                1.0  "
                    },
                    "metadata": {},
                    "output_type": "display_data"
                }
            ],
            "source": "display(df_normalized.head())"
        },
        {
            "cell_type": "markdown",
            "metadata": {},
            "source": "Normalize quantity purchased values using  **Robust Scaler**"
        },
        {
            "cell_type": "code",
            "execution_count": 36,
            "metadata": {},
            "outputs": [],
            "source": "df_normalized = df.dropna().copy()\nrobust_scaler = preprocessing.RobustScaler()\nrs_scaled = robust_scaler.fit_transform(df_normalized['quantity_purchased'].values.reshape(-1,1))\ndf_normalized['quantity_purchased'] = rs_scaled.reshape(-1,1)"
        },
        {
            "cell_type": "code",
            "execution_count": 37,
            "metadata": {},
            "outputs": [
                {
                    "data": {
                        "text/html": "<div>\n<style scoped>\n    .dataframe tbody tr th:only-of-type {\n        vertical-align: middle;\n    }\n\n    .dataframe tbody tr th {\n        vertical-align: top;\n    }\n\n    .dataframe thead th {\n        text-align: right;\n    }\n</style>\n<table border=\"1\" class=\"dataframe\">\n  <thead>\n    <tr style=\"text-align: right;\">\n      <th></th>\n      <th>serial_no</th>\n      <th>date</th>\n      <th>user_id</th>\n      <th>product_id</th>\n      <th>quantity_purchased</th>\n      <th>price</th>\n      <th>user_type</th>\n      <th>user_class</th>\n      <th>purchase_week</th>\n      <th>encoded_user_type</th>\n    </tr>\n  </thead>\n  <tbody>\n    <tr>\n      <th>16</th>\n      <td>1016</td>\n      <td>2016-01-23</td>\n      <td>5556</td>\n      <td>916</td>\n      <td>-0.15</td>\n      <td>2014.75</td>\n      <td>a</td>\n      <td>new</td>\n      <td>3</td>\n      <td>0.0</td>\n    </tr>\n    <tr>\n      <th>21</th>\n      <td>1021</td>\n      <td>2016-01-27</td>\n      <td>5553</td>\n      <td>674</td>\n      <td>0.70</td>\n      <td>2455.95</td>\n      <td>a</td>\n      <td>new</td>\n      <td>4</td>\n      <td>0.0</td>\n    </tr>\n    <tr>\n      <th>25</th>\n      <td>-1</td>\n      <td>2016-01-21</td>\n      <td>5024</td>\n      <td>726</td>\n      <td>-0.55</td>\n      <td>2226.22</td>\n      <td>b</td>\n      <td>new</td>\n      <td>3</td>\n      <td>1.0</td>\n    </tr>\n    <tr>\n      <th>28</th>\n      <td>1028</td>\n      <td>2016-06-02</td>\n      <td>5847</td>\n      <td>832</td>\n      <td>0.20</td>\n      <td>3920.86</td>\n      <td>c</td>\n      <td>existing</td>\n      <td>22</td>\n      <td>2.0</td>\n    </tr>\n    <tr>\n      <th>32</th>\n      <td>1032</td>\n      <td>2016-12-01</td>\n      <td>5475</td>\n      <td>680</td>\n      <td>0.75</td>\n      <td>7393.68</td>\n      <td>b</td>\n      <td>new</td>\n      <td>48</td>\n      <td>1.0</td>\n    </tr>\n  </tbody>\n</table>\n</div>",
                        "text/plain": "    serial_no       date  user_id  product_id  quantity_purchased    price  \\\n16       1016 2016-01-23     5556         916               -0.15  2014.75   \n21       1021 2016-01-27     5553         674                0.70  2455.95   \n25         -1 2016-01-21     5024         726               -0.55  2226.22   \n28       1028 2016-06-02     5847         832                0.20  3920.86   \n32       1032 2016-12-01     5475         680                0.75  7393.68   \n\n   user_type user_class  purchase_week  encoded_user_type  \n16         a        new              3                0.0  \n21         a        new              4                0.0  \n25         b        new              3                1.0  \n28         c   existing             22                2.0  \n32         b        new             48                1.0  "
                    },
                    "metadata": {},
                    "output_type": "display_data"
                }
            ],
            "source": "display(df_normalized.head())"
        },
        {
            "cell_type": "markdown",
            "metadata": {},
            "source": "### Data Summarization"
        },
        {
            "cell_type": "markdown",
            "metadata": {},
            "source": "Condition based aggregation"
        },
        {
            "cell_type": "code",
            "execution_count": 38,
            "metadata": {},
            "outputs": [
                {
                    "name": "stdout",
                    "output_type": "stream",
                    "text": "Mean price of items purchased by user_type=a :: 2363.954686192467\n"
                }
            ],
            "source": "print(\"Mean price of items purchased by user_type=a :: {}\".format(df['price'][df['user_type']=='a'].mean()))"
        },
        {
            "cell_type": "markdown",
            "metadata": {},
            "source": "Condtion based counts"
        },
        {
            "cell_type": "code",
            "execution_count": 39,
            "metadata": {},
            "outputs": [
                {
                    "name": "stdout",
                    "output_type": "stream",
                    "text": "4     172\n3     163\n2      96\n35     61\n44     58\n5      55\n26     47\n53     45\n31     45\n39     44\n22     41\n9      38\n13     36\n0      31\n17     24\n48     24\n18     20\nName: purchase_week, dtype: int64\n"
                }
            ],
            "source": "print(df['purchase_week'].value_counts())"
        },
        {
            "cell_type": "markdown",
            "metadata": {},
            "source": "### Group By"
        },
        {
            "cell_type": "markdown",
            "metadata": {},
            "source": "Group By certain attributes"
        },
        {
            "cell_type": "code",
            "execution_count": 40,
            "metadata": {},
            "outputs": [
                {
                    "name": "stdout",
                    "output_type": "stream",
                    "text": "user_class\nerror               689\nexisting           4357\nloyal_existing     5633\nnew               10421\nName: quantity_purchased, dtype: int64\n"
                }
            ],
            "source": "print(df.groupby(['user_class'])['quantity_purchased'].sum())"
        },
        {
            "cell_type": "markdown",
            "metadata": {},
            "source": "Group By with different aggregate functions"
        },
        {
            "cell_type": "code",
            "execution_count": 41,
            "metadata": {},
            "outputs": [
                {
                    "data": {
                        "text/html": "<div>\n<style scoped>\n    .dataframe tbody tr th:only-of-type {\n        vertical-align: middle;\n    }\n\n    .dataframe tbody tr th {\n        vertical-align: top;\n    }\n\n    .dataframe thead th {\n        text-align: right;\n    }\n</style>\n<table border=\"1\" class=\"dataframe\">\n  <thead>\n    <tr style=\"text-align: right;\">\n      <th></th>\n      <th>sum</th>\n      <th>mean</th>\n      <th>count_nonzero</th>\n    </tr>\n    <tr>\n      <th>user_class</th>\n      <th></th>\n      <th></th>\n      <th></th>\n    </tr>\n  </thead>\n  <tbody>\n    <tr>\n      <th>error</th>\n      <td>689</td>\n      <td>22.966667</td>\n      <td>30</td>\n    </tr>\n    <tr>\n      <th>existing</th>\n      <td>4357</td>\n      <td>19.894977</td>\n      <td>219</td>\n    </tr>\n    <tr>\n      <th>loyal_existing</th>\n      <td>5633</td>\n      <td>19.975177</td>\n      <td>282</td>\n    </tr>\n    <tr>\n      <th>new</th>\n      <td>10421</td>\n      <td>22.219616</td>\n      <td>469</td>\n    </tr>\n  </tbody>\n</table>\n</div>",
                        "text/plain": "                  sum       mean  count_nonzero\nuser_class                                     \nerror             689  22.966667             30\nexisting         4357  19.894977            219\nloyal_existing   5633  19.975177            282\nnew             10421  22.219616            469"
                    },
                    "metadata": {},
                    "output_type": "display_data"
                }
            ],
            "source": "display(df.groupby(['user_class'])['quantity_purchased'].agg([np.sum,\n                                                                np.mean,\n                                                                np.count_nonzero]))"
        },
        {
            "cell_type": "markdown",
            "metadata": {},
            "source": "Group by specific aggregate functions for each attribute"
        },
        {
            "cell_type": "code",
            "execution_count": 42,
            "metadata": {},
            "outputs": [
                {
                    "data": {
                        "text/html": "<div>\n<style scoped>\n    .dataframe tbody tr th:only-of-type {\n        vertical-align: middle;\n    }\n\n    .dataframe tbody tr th {\n        vertical-align: top;\n    }\n\n    .dataframe thead th {\n        text-align: right;\n    }\n</style>\n<table border=\"1\" class=\"dataframe\">\n  <thead>\n    <tr style=\"text-align: right;\">\n      <th></th>\n      <th></th>\n      <th>price</th>\n      <th>quantity_purchased</th>\n    </tr>\n    <tr>\n      <th>user_class</th>\n      <th>user_type</th>\n      <th></th>\n      <th></th>\n    </tr>\n  </thead>\n  <tbody>\n    <tr>\n      <th>error</th>\n      <th>n</th>\n      <td>2253.755714</td>\n      <td>41</td>\n    </tr>\n    <tr>\n      <th>existing</th>\n      <th>c</th>\n      <td>2265.795628</td>\n      <td>41</td>\n    </tr>\n    <tr>\n      <th>loyal_existing</th>\n      <th>d</th>\n      <td>2367.868860</td>\n      <td>41</td>\n    </tr>\n    <tr>\n      <th rowspan=\"2\" valign=\"top\">new</th>\n      <th>a</th>\n      <td>2363.954686</td>\n      <td>41</td>\n    </tr>\n    <tr>\n      <th>b</th>\n      <td>2315.601116</td>\n      <td>41</td>\n    </tr>\n  </tbody>\n</table>\n</div>",
                        "text/plain": "                                price  quantity_purchased\nuser_class     user_type                                 \nerror          n          2253.755714                  41\nexisting       c          2265.795628                  41\nloyal_existing d          2367.868860                  41\nnew            a          2363.954686                  41\n               b          2315.601116                  41"
                    },
                    "metadata": {},
                    "output_type": "display_data"
                }
            ],
            "source": "display(df.groupby(['user_class','user_type']).agg({'price':np.mean,\n                                                        'quantity_purchased':np.max}))"
        },
        {
            "cell_type": "markdown",
            "metadata": {},
            "source": "Group by with multiple agg for each attribute"
        },
        {
            "cell_type": "code",
            "execution_count": 43,
            "metadata": {},
            "outputs": [
                {
                    "name": "stderr",
                    "output_type": "stream",
                    "text": "/opt/conda/envs/Python36/lib/python3.6/site-packages/pandas/core/groupby/generic.py:1315: FutureWarning: using a dict with renaming is deprecated and will be removed in a future version\n  return super(DataFrameGroupBy, self).aggregate(arg, *args, **kwargs)\n"
                },
                {
                    "data": {
                        "text/html": "<div>\n<style scoped>\n    .dataframe tbody tr th:only-of-type {\n        vertical-align: middle;\n    }\n\n    .dataframe tbody tr th {\n        vertical-align: top;\n    }\n\n    .dataframe thead tr th {\n        text-align: left;\n    }\n\n    .dataframe thead tr:last-of-type th {\n        text-align: right;\n    }\n</style>\n<table border=\"1\" class=\"dataframe\">\n  <thead>\n    <tr>\n      <th></th>\n      <th></th>\n      <th colspan=\"4\" halign=\"left\">price</th>\n      <th>quantity_purchased</th>\n    </tr>\n    <tr>\n      <th></th>\n      <th></th>\n      <th>total_price</th>\n      <th>mean_price</th>\n      <th>variance_price</th>\n      <th>count</th>\n      <th>sum</th>\n    </tr>\n    <tr>\n      <th>user_class</th>\n      <th>user_type</th>\n      <th></th>\n      <th></th>\n      <th></th>\n      <th></th>\n      <th></th>\n    </tr>\n  </thead>\n  <tbody>\n    <tr>\n      <th>error</th>\n      <th>n</th>\n      <td>63105.16</td>\n      <td>2253.755714</td>\n      <td>1831.066027</td>\n      <td>30.0</td>\n      <td>689</td>\n    </tr>\n    <tr>\n      <th>existing</th>\n      <th>c</th>\n      <td>487146.06</td>\n      <td>2265.795628</td>\n      <td>1570.048192</td>\n      <td>219.0</td>\n      <td>4357</td>\n    </tr>\n    <tr>\n      <th>loyal_existing</th>\n      <th>d</th>\n      <td>644060.33</td>\n      <td>2367.868860</td>\n      <td>1561.379157</td>\n      <td>282.0</td>\n      <td>5633</td>\n    </tr>\n    <tr>\n      <th rowspan=\"2\" valign=\"top\">new</th>\n      <th>a</th>\n      <td>564985.17</td>\n      <td>2363.954686</td>\n      <td>1647.208092</td>\n      <td>244.0</td>\n      <td>5362</td>\n    </tr>\n    <tr>\n      <th>b</th>\n      <td>497854.24</td>\n      <td>2315.601116</td>\n      <td>1520.603322</td>\n      <td>225.0</td>\n      <td>5059</td>\n    </tr>\n  </tbody>\n</table>\n</div>",
                        "text/plain": "                               price                                     \\\n                         total_price   mean_price variance_price  count   \nuser_class     user_type                                                  \nerror          n            63105.16  2253.755714    1831.066027   30.0   \nexisting       c           487146.06  2265.795628    1570.048192  219.0   \nloyal_existing d           644060.33  2367.868860    1561.379157  282.0   \nnew            a           564985.17  2363.954686    1647.208092  244.0   \n               b           497854.24  2315.601116    1520.603322  225.0   \n\n                         quantity_purchased  \n                                        sum  \nuser_class     user_type                     \nerror          n                        689  \nexisting       c                       4357  \nloyal_existing d                       5633  \nnew            a                       5362  \n               b                       5059  "
                    },
                    "metadata": {},
                    "output_type": "display_data"
                }
            ],
            "source": "display(df.groupby(['user_class','user_type']).agg({'price':{\n                                                                'total_price':np.sum,\n                                                                'mean_price':np.mean,\n                                                                'variance_price':np.std,\n                                                                'count':np.count_nonzero},\n                                                   'quantity_purchased':np.sum}))  "
        },
        {
            "cell_type": "markdown",
            "metadata": {},
            "source": "### Pivot Tables"
        },
        {
            "cell_type": "code",
            "execution_count": 44,
            "metadata": {},
            "outputs": [
                {
                    "data": {
                        "text/html": "<div>\n<style scoped>\n    .dataframe tbody tr th:only-of-type {\n        vertical-align: middle;\n    }\n\n    .dataframe tbody tr th {\n        vertical-align: top;\n    }\n\n    .dataframe thead th {\n        text-align: right;\n    }\n</style>\n<table border=\"1\" class=\"dataframe\">\n  <thead>\n    <tr style=\"text-align: right;\">\n      <th>user_type</th>\n      <th>a</th>\n      <th>b</th>\n      <th>c</th>\n      <th>d</th>\n      <th>n</th>\n    </tr>\n    <tr>\n      <th>date</th>\n      <th></th>\n      <th></th>\n      <th></th>\n      <th></th>\n      <th></th>\n    </tr>\n  </thead>\n  <tbody>\n    <tr>\n      <th>2016-01-01</th>\n      <td>3224.676667</td>\n      <td>1019.416000</td>\n      <td>1949.403333</td>\n      <td>3745.146667</td>\n      <td>NaN</td>\n    </tr>\n    <tr>\n      <th>2016-01-02</th>\n      <td>1623.212857</td>\n      <td>2338.280000</td>\n      <td>1520.405000</td>\n      <td>2173.094545</td>\n      <td>NaN</td>\n    </tr>\n    <tr>\n      <th>2016-01-13</th>\n      <td>2082.502000</td>\n      <td>1003.850000</td>\n      <td>2360.626667</td>\n      <td>1875.572857</td>\n      <td>NaN</td>\n    </tr>\n    <tr>\n      <th>2016-01-14</th>\n      <td>3017.952000</td>\n      <td>1974.005000</td>\n      <td>1970.871667</td>\n      <td>2288.596667</td>\n      <td>649.190</td>\n    </tr>\n    <tr>\n      <th>2016-01-15</th>\n      <td>1563.687143</td>\n      <td>2212.843333</td>\n      <td>2424.177500</td>\n      <td>3604.202000</td>\n      <td>NaN</td>\n    </tr>\n    <tr>\n      <th>2016-01-16</th>\n      <td>1442.952500</td>\n      <td>2384.233750</td>\n      <td>2944.070000</td>\n      <td>1606.576667</td>\n      <td>NaN</td>\n    </tr>\n    <tr>\n      <th>2016-01-17</th>\n      <td>969.536667</td>\n      <td>2028.758333</td>\n      <td>873.580000</td>\n      <td>2947.130000</td>\n      <td>NaN</td>\n    </tr>\n    <tr>\n      <th>2016-01-18</th>\n      <td>2307.803333</td>\n      <td>1895.987143</td>\n      <td>2881.228571</td>\n      <td>1623.364000</td>\n      <td>942.460</td>\n    </tr>\n    <tr>\n      <th>2016-01-19</th>\n      <td>4024.035000</td>\n      <td>1854.923333</td>\n      <td>2935.028000</td>\n      <td>2456.080000</td>\n      <td>3496.210</td>\n    </tr>\n    <tr>\n      <th>2016-01-20</th>\n      <td>2094.698000</td>\n      <td>2098.082000</td>\n      <td>2153.286000</td>\n      <td>2129.092000</td>\n      <td>NaN</td>\n    </tr>\n    <tr>\n      <th>2016-01-21</th>\n      <td>1845.316667</td>\n      <td>3355.060000</td>\n      <td>2779.926667</td>\n      <td>1859.104000</td>\n      <td>5174.730</td>\n    </tr>\n    <tr>\n      <th>2016-01-22</th>\n      <td>2196.041250</td>\n      <td>2834.075000</td>\n      <td>2437.018750</td>\n      <td>2431.463333</td>\n      <td>NaN</td>\n    </tr>\n    <tr>\n      <th>2016-01-23</th>\n      <td>3633.214000</td>\n      <td>2381.570000</td>\n      <td>2681.605000</td>\n      <td>2441.661111</td>\n      <td>NaN</td>\n    </tr>\n    <tr>\n      <th>2016-01-24</th>\n      <td>2868.928571</td>\n      <td>4626.430000</td>\n      <td>3656.777500</td>\n      <td>2762.916667</td>\n      <td>1014.880</td>\n    </tr>\n    <tr>\n      <th>2016-01-25</th>\n      <td>2272.254000</td>\n      <td>2900.506667</td>\n      <td>957.502500</td>\n      <td>3149.583333</td>\n      <td>722.715</td>\n    </tr>\n    <tr>\n      <th>2016-01-26</th>\n      <td>2557.262000</td>\n      <td>2757.722500</td>\n      <td>1993.460000</td>\n      <td>872.670000</td>\n      <td>1395.390</td>\n    </tr>\n    <tr>\n      <th>2016-01-27</th>\n      <td>2326.137778</td>\n      <td>1275.770000</td>\n      <td>3020.330000</td>\n      <td>2580.838000</td>\n      <td>4825.190</td>\n    </tr>\n    <tr>\n      <th>2016-01-28</th>\n      <td>NaN</td>\n      <td>2078.068333</td>\n      <td>2123.976000</td>\n      <td>2206.392000</td>\n      <td>3566.650</td>\n    </tr>\n    <tr>\n      <th>2016-01-29</th>\n      <td>3526.773333</td>\n      <td>3934.000000</td>\n      <td>3057.256364</td>\n      <td>2645.113750</td>\n      <td>NaN</td>\n    </tr>\n    <tr>\n      <th>2016-01-30</th>\n      <td>1482.946667</td>\n      <td>2757.106667</td>\n      <td>3446.287500</td>\n      <td>1775.960000</td>\n      <td>NaN</td>\n    </tr>\n    <tr>\n      <th>2016-01-31</th>\n      <td>2939.432222</td>\n      <td>2070.561667</td>\n      <td>1522.130000</td>\n      <td>3437.320000</td>\n      <td>2225.080</td>\n    </tr>\n    <tr>\n      <th>2016-02-01</th>\n      <td>1344.455000</td>\n      <td>2451.143333</td>\n      <td>1838.196000</td>\n      <td>1393.815000</td>\n      <td>NaN</td>\n    </tr>\n    <tr>\n      <th>2016-02-02</th>\n      <td>2337.548333</td>\n      <td>2671.084000</td>\n      <td>1728.252222</td>\n      <td>3021.393333</td>\n      <td>NaN</td>\n    </tr>\n    <tr>\n      <th>2016-03-01</th>\n      <td>1395.431250</td>\n      <td>1580.615000</td>\n      <td>3730.022000</td>\n      <td>2491.035000</td>\n      <td>NaN</td>\n    </tr>\n    <tr>\n      <th>2016-03-02</th>\n      <td>2796.620000</td>\n      <td>1435.110000</td>\n      <td>1682.756667</td>\n      <td>2674.967500</td>\n      <td>4154.630</td>\n    </tr>\n    <tr>\n      <th>2016-04-01</th>\n      <td>2967.063333</td>\n      <td>2836.356667</td>\n      <td>1123.426667</td>\n      <td>2648.114286</td>\n      <td>NaN</td>\n    </tr>\n    <tr>\n      <th>2016-04-02</th>\n      <td>3996.072500</td>\n      <td>1415.140000</td>\n      <td>744.156667</td>\n      <td>1324.662000</td>\n      <td>NaN</td>\n    </tr>\n    <tr>\n      <th>2016-05-01</th>\n      <td>1863.432000</td>\n      <td>3291.656000</td>\n      <td>1536.043333</td>\n      <td>3409.586000</td>\n      <td>5593.880</td>\n    </tr>\n    <tr>\n      <th>2016-05-02</th>\n      <td>2478.960000</td>\n      <td>2313.520000</td>\n      <td>1672.504000</td>\n      <td>1772.750000</td>\n      <td>NaN</td>\n    </tr>\n    <tr>\n      <th>2016-06-01</th>\n      <td>1516.173333</td>\n      <td>1249.340000</td>\n      <td>1021.200000</td>\n      <td>1420.436000</td>\n      <td>NaN</td>\n    </tr>\n    <tr>\n      <th>2016-06-02</th>\n      <td>1884.686250</td>\n      <td>2051.380000</td>\n      <td>2664.248889</td>\n      <td>2954.966667</td>\n      <td>NaN</td>\n    </tr>\n    <tr>\n      <th>2016-07-01</th>\n      <td>3111.550000</td>\n      <td>1788.617500</td>\n      <td>2324.901429</td>\n      <td>1135.591429</td>\n      <td>NaN</td>\n    </tr>\n    <tr>\n      <th>2016-07-02</th>\n      <td>3546.135000</td>\n      <td>1834.974000</td>\n      <td>1938.924000</td>\n      <td>2462.573750</td>\n      <td>NaN</td>\n    </tr>\n    <tr>\n      <th>2016-08-01</th>\n      <td>1907.453333</td>\n      <td>3020.190000</td>\n      <td>2466.964000</td>\n      <td>1784.926250</td>\n      <td>NaN</td>\n    </tr>\n    <tr>\n      <th>2016-08-02</th>\n      <td>1562.863750</td>\n      <td>2682.825000</td>\n      <td>3861.156667</td>\n      <td>2579.830000</td>\n      <td>NaN</td>\n    </tr>\n    <tr>\n      <th>2016-09-01</th>\n      <td>3091.880000</td>\n      <td>2395.413333</td>\n      <td>2466.836000</td>\n      <td>3669.787500</td>\n      <td>1737.310</td>\n    </tr>\n    <tr>\n      <th>2016-09-02</th>\n      <td>2212.380000</td>\n      <td>2919.595000</td>\n      <td>2235.254286</td>\n      <td>2554.161000</td>\n      <td>NaN</td>\n    </tr>\n    <tr>\n      <th>2016-10-01</th>\n      <td>1380.402857</td>\n      <td>1487.405000</td>\n      <td>2174.318571</td>\n      <td>3946.293750</td>\n      <td>NaN</td>\n    </tr>\n    <tr>\n      <th>2016-10-02</th>\n      <td>3837.742500</td>\n      <td>3722.335000</td>\n      <td>2430.262857</td>\n      <td>794.736667</td>\n      <td>NaN</td>\n    </tr>\n    <tr>\n      <th>2016-11-01</th>\n      <td>3218.653333</td>\n      <td>1029.526667</td>\n      <td>2372.105000</td>\n      <td>1722.746250</td>\n      <td>4635.590</td>\n    </tr>\n    <tr>\n      <th>2016-11-02</th>\n      <td>2542.628889</td>\n      <td>2417.362500</td>\n      <td>2374.272000</td>\n      <td>2765.231000</td>\n      <td>NaN</td>\n    </tr>\n    <tr>\n      <th>2016-12-01</th>\n      <td>4701.150000</td>\n      <td>3277.857273</td>\n      <td>2055.038333</td>\n      <td>2228.382500</td>\n      <td>NaN</td>\n    </tr>\n  </tbody>\n</table>\n</div>",
                        "text/plain": "user_type             a            b            c            d         n\ndate                                                                    \n2016-01-01  3224.676667  1019.416000  1949.403333  3745.146667       NaN\n2016-01-02  1623.212857  2338.280000  1520.405000  2173.094545       NaN\n2016-01-13  2082.502000  1003.850000  2360.626667  1875.572857       NaN\n2016-01-14  3017.952000  1974.005000  1970.871667  2288.596667   649.190\n2016-01-15  1563.687143  2212.843333  2424.177500  3604.202000       NaN\n2016-01-16  1442.952500  2384.233750  2944.070000  1606.576667       NaN\n2016-01-17   969.536667  2028.758333   873.580000  2947.130000       NaN\n2016-01-18  2307.803333  1895.987143  2881.228571  1623.364000   942.460\n2016-01-19  4024.035000  1854.923333  2935.028000  2456.080000  3496.210\n2016-01-20  2094.698000  2098.082000  2153.286000  2129.092000       NaN\n2016-01-21  1845.316667  3355.060000  2779.926667  1859.104000  5174.730\n2016-01-22  2196.041250  2834.075000  2437.018750  2431.463333       NaN\n2016-01-23  3633.214000  2381.570000  2681.605000  2441.661111       NaN\n2016-01-24  2868.928571  4626.430000  3656.777500  2762.916667  1014.880\n2016-01-25  2272.254000  2900.506667   957.502500  3149.583333   722.715\n2016-01-26  2557.262000  2757.722500  1993.460000   872.670000  1395.390\n2016-01-27  2326.137778  1275.770000  3020.330000  2580.838000  4825.190\n2016-01-28          NaN  2078.068333  2123.976000  2206.392000  3566.650\n2016-01-29  3526.773333  3934.000000  3057.256364  2645.113750       NaN\n2016-01-30  1482.946667  2757.106667  3446.287500  1775.960000       NaN\n2016-01-31  2939.432222  2070.561667  1522.130000  3437.320000  2225.080\n2016-02-01  1344.455000  2451.143333  1838.196000  1393.815000       NaN\n2016-02-02  2337.548333  2671.084000  1728.252222  3021.393333       NaN\n2016-03-01  1395.431250  1580.615000  3730.022000  2491.035000       NaN\n2016-03-02  2796.620000  1435.110000  1682.756667  2674.967500  4154.630\n2016-04-01  2967.063333  2836.356667  1123.426667  2648.114286       NaN\n2016-04-02  3996.072500  1415.140000   744.156667  1324.662000       NaN\n2016-05-01  1863.432000  3291.656000  1536.043333  3409.586000  5593.880\n2016-05-02  2478.960000  2313.520000  1672.504000  1772.750000       NaN\n2016-06-01  1516.173333  1249.340000  1021.200000  1420.436000       NaN\n2016-06-02  1884.686250  2051.380000  2664.248889  2954.966667       NaN\n2016-07-01  3111.550000  1788.617500  2324.901429  1135.591429       NaN\n2016-07-02  3546.135000  1834.974000  1938.924000  2462.573750       NaN\n2016-08-01  1907.453333  3020.190000  2466.964000  1784.926250       NaN\n2016-08-02  1562.863750  2682.825000  3861.156667  2579.830000       NaN\n2016-09-01  3091.880000  2395.413333  2466.836000  3669.787500  1737.310\n2016-09-02  2212.380000  2919.595000  2235.254286  2554.161000       NaN\n2016-10-01  1380.402857  1487.405000  2174.318571  3946.293750       NaN\n2016-10-02  3837.742500  3722.335000  2430.262857   794.736667       NaN\n2016-11-01  3218.653333  1029.526667  2372.105000  1722.746250  4635.590\n2016-11-02  2542.628889  2417.362500  2374.272000  2765.231000       NaN\n2016-12-01  4701.150000  3277.857273  2055.038333  2228.382500       NaN"
                    },
                    "metadata": {},
                    "output_type": "display_data"
                }
            ],
            "source": "display(df.pivot_table(index='date', columns='user_type', \n                         values='price',aggfunc=np.mean))"
        },
        {
            "cell_type": "markdown",
            "metadata": {},
            "source": "### Stack a Dataframe"
        },
        {
            "cell_type": "code",
            "execution_count": 45,
            "metadata": {},
            "outputs": [
                {
                    "name": "stdout",
                    "output_type": "stream",
                    "text": "0    serial_no                            1000\n     user_id                              -101\n     product_id                              0\n     quantity_purchased                     17\n     user_type                               n\n     user_class                          error\n     purchase_week                           0\n1    serial_no                            1001\n     user_id                              5554\n     product_id                            323\n     quantity_purchased                     27\n     price                             5683.14\n     user_type                               n\n     user_class                          error\n     purchase_week                           0\n2    serial_no                            1002\n     user_id                              5255\n     product_id                            932\n     quantity_purchased                     29\n     user_type                               n\n     user_class                          error\n     purchase_week                           0\n3    serial_no                            1003\n     date                  2016-01-21 00:00:00\n     user_id                              5911\n     product_id                            812\n     quantity_purchased                      9\n     price                             5174.73\n     user_type                               n\n     user_class                          error\n                                  ...         \n997  serial_no                            1997\n     date                  2016-01-27 00:00:00\n     user_id                              5735\n     product_id                            260\n     quantity_purchased                     32\n     price                              535.73\n     user_type                               b\n     user_class                            new\n     purchase_week                           4\n     encoded_user_type                       1\n998  serial_no                            1998\n     date                  2016-01-13 00:00:00\n     user_id                              5159\n     product_id                            890\n     quantity_purchased                      2\n     price                             2295.37\n     user_type                               c\n     user_class                       existing\n     purchase_week                           2\n     encoded_user_type                       2\n999  serial_no                            1999\n     date                  2016-01-31 00:00:00\n     user_id                              5743\n     product_id                            159\n     quantity_purchased                     11\n     price                             1678.35\n     user_type                               a\n     user_class                            new\n     purchase_week                           4\n     encoded_user_type                       0\nLength: 9908, dtype: object\n"
                }
            ],
            "source": "print(df.stack())"
        }
    ],
    "metadata": {
        "kernelspec": {
            "display_name": "Python 3.6",
            "language": "python",
            "name": "python3"
        },
        "language_info": {
            "codemirror_mode": {
                "name": "ipython",
                "version": 3
            },
            "file_extension": ".py",
            "mimetype": "text/x-python",
            "name": "python",
            "nbconvert_exporter": "python",
            "pygments_lexer": "ipython3",
            "version": "3.6.9"
        }
    },
    "nbformat": 4,
    "nbformat_minor": 2
}