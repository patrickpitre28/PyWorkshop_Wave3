{
    "cells": [
        {
            "metadata": {},
            "cell_type": "markdown",
            "source": "# Import packages and verify versions"
        },
        {
            "metadata": {},
            "cell_type": "code",
            "source": "import pandas as pd\nimport sklearn\nprint('The pandas version is {}.'.format(pd.__version__))\nprint('The scikit-learn version is {}.'.format(sklearn.__version__))",
            "execution_count": 1,
            "outputs": [
                {
                    "output_type": "stream",
                    "text": "The pandas version is 0.24.1.\nThe scikit-learn version is 0.20.3.\n",
                    "name": "stdout"
                }
            ]
        },
        {
            "metadata": {},
            "cell_type": "markdown",
            "source": "# Load data"
        },
        {
            "metadata": {},
            "cell_type": "markdown",
            "source": "### Insert credentials for customer.csv\n\nThis is typically a hidden cell for the purposes of sharing the notebook."
        },
        {
            "metadata": {},
            "cell_type": "code",
            "source": "# @hidden_cell\n# The following code contains the credentials for a file in your IBM Cloud Object Storage.\n# You might want to remove those credentials before you share your notebook.\ncredentials_1 = {\n    'IAM_SERVICE_ID': 'iam-ServiceId-210be2d3-af5e-43b6-9d74-0427ae8ae81a',\n    'IBM_API_KEY_ID': '9FthwkkdExB6wrCH1HafvISYEZEeKAKEKpWfPg9TV2hM',\n    'ENDPOINT': 'https://s3-api.us-geo.objectstorage.service.networklayer.com',\n    'IBM_AUTH_ENDPOINT': 'https://iam.bluemix.net/oidc/token',\n    'BUCKET': 'pyrlabtest-donotdelete-pr-ecn1gj2kpu5dli',\n    'FILE': 'customers.csv'\n}\n",
            "execution_count": 2,
            "outputs": []
        },
        {
            "metadata": {},
            "cell_type": "markdown",
            "source": "### Insert credentials for transactions.csv\n\nThis is typically a hidden cell for the purposes of sharing the notebook."
        },
        {
            "metadata": {},
            "cell_type": "code",
            "source": "# @hidden_cell\n# The following code contains the credentials for a file in your IBM Cloud Object Storage.\n# You might want to remove those credentials before you share your notebook.\ncredentials_2 = {\n    'IAM_SERVICE_ID': 'iam-ServiceId-210be2d3-af5e-43b6-9d74-0427ae8ae81a',\n    'IBM_API_KEY_ID': '9FthwkkdExB6wrCH1HafvISYEZEeKAKEKpWfPg9TV2hM',\n    'ENDPOINT': 'https://s3-api.us-geo.objectstorage.service.networklayer.com',\n    'IBM_AUTH_ENDPOINT': 'https://iam.bluemix.net/oidc/token',\n    'BUCKET': 'pyrlabtest-donotdelete-pr-ecn1gj2kpu5dli',\n    'FILE': 'transactions.csv'\n}\n",
            "execution_count": 3,
            "outputs": []
        },
        {
            "metadata": {},
            "cell_type": "markdown",
            "source": "### Import necessary IBM CoS libraries and insert customers.csv into the data frame.\n\nThis can be accomplished within Watson Studio on the right hand menu, find the applicable file and chose Pandas Data Frame\n\n*Default is to insert into a data frame named df_data_1. When using a templated notebook, make sure that the cells below reference the correct data frame name OR change this cell to name the data frame in the same name used below*"
        },
        {
            "metadata": {},
            "cell_type": "code",
            "source": "import types\nfrom botocore.client import Config\nimport ibm_boto3\n\ndef __iter__(self): return 0;\n\n# @hidden_cell\n# The following code accesses a file in your IBM Cloud Object Storage. It includes your credentials.\n# You might want to remove those credentials before you share your notebook.\nclient_b6ce1d66a23747c685affa13595b2acb = ibm_boto3.client(service_name ='s3',\n    ibm_api_key_id='9FthwkkdExB6wrCH1HafvISYEZEeKAKEKpWfPg9TV2hM',\n    ibm_auth_endpoint=\"https://iam.bluemix.net/oidc/token\",\n    config=Config(signature_version='oauth'),\n    endpoint_url='https://s3-api.us-geo.objectstorage.service.networklayer.com')\n\nbody = client_b6ce1d66a23747c685affa13595b2acb.get_object(Bucket='pyrlabtest-donotdelete-pr-ecn1gj2kpu5dli',Key='customers.csv')['Body']\n# add missing __iter__ method, so pandas accepts body as file-like object\nif not hasattr(body, \"__iter__\"): body.__iter__ = types.MethodType( __iter__, body )\n\ncustomers = pd.read_csv(body)\ncustomers.head()\n\n",
            "execution_count": 4,
            "outputs": [
                {
                    "output_type": "execute_result",
                    "execution_count": 4,
                    "data": {
                        "text/plain": "   CustomerID  Retire Invest Educ Mortgage LOC  GENDER    MARITAL CHILDREN  \\\n0         787     0.0     No   No       No  No    Male     Single       No   \n1         789     0.0     No   No       No  No    Male     Single       No   \n2           1     NaN     No   No      Yes  No  Female    Widowed       No   \n3           2     NaN     No  Yes       No  No  Female  Separated       No   \n4           3     1.0     No  Yes      Yes  No    Male     Single       No   \n\n  WORKING HighMonVal  AgeRange  \n0     Yes         No  17 to 22  \n1     Yes         No  17 to 22  \n2     Yes        Yes  17 to 22  \n3     Yes        Yes  17 to 22  \n4     Yes         No  17 to 22  ",
                        "text/html": "<div>\n<style scoped>\n    .dataframe tbody tr th:only-of-type {\n        vertical-align: middle;\n    }\n\n    .dataframe tbody tr th {\n        vertical-align: top;\n    }\n\n    .dataframe thead th {\n        text-align: right;\n    }\n</style>\n<table border=\"1\" class=\"dataframe\">\n  <thead>\n    <tr style=\"text-align: right;\">\n      <th></th>\n      <th>CustomerID</th>\n      <th>Retire</th>\n      <th>Invest</th>\n      <th>Educ</th>\n      <th>Mortgage</th>\n      <th>LOC</th>\n      <th>GENDER</th>\n      <th>MARITAL</th>\n      <th>CHILDREN</th>\n      <th>WORKING</th>\n      <th>HighMonVal</th>\n      <th>AgeRange</th>\n    </tr>\n  </thead>\n  <tbody>\n    <tr>\n      <th>0</th>\n      <td>787</td>\n      <td>0.0</td>\n      <td>No</td>\n      <td>No</td>\n      <td>No</td>\n      <td>No</td>\n      <td>Male</td>\n      <td>Single</td>\n      <td>No</td>\n      <td>Yes</td>\n      <td>No</td>\n      <td>17 to 22</td>\n    </tr>\n    <tr>\n      <th>1</th>\n      <td>789</td>\n      <td>0.0</td>\n      <td>No</td>\n      <td>No</td>\n      <td>No</td>\n      <td>No</td>\n      <td>Male</td>\n      <td>Single</td>\n      <td>No</td>\n      <td>Yes</td>\n      <td>No</td>\n      <td>17 to 22</td>\n    </tr>\n    <tr>\n      <th>2</th>\n      <td>1</td>\n      <td>NaN</td>\n      <td>No</td>\n      <td>No</td>\n      <td>Yes</td>\n      <td>No</td>\n      <td>Female</td>\n      <td>Widowed</td>\n      <td>No</td>\n      <td>Yes</td>\n      <td>Yes</td>\n      <td>17 to 22</td>\n    </tr>\n    <tr>\n      <th>3</th>\n      <td>2</td>\n      <td>NaN</td>\n      <td>No</td>\n      <td>Yes</td>\n      <td>No</td>\n      <td>No</td>\n      <td>Female</td>\n      <td>Separated</td>\n      <td>No</td>\n      <td>Yes</td>\n      <td>Yes</td>\n      <td>17 to 22</td>\n    </tr>\n    <tr>\n      <th>4</th>\n      <td>3</td>\n      <td>1.0</td>\n      <td>No</td>\n      <td>Yes</td>\n      <td>Yes</td>\n      <td>No</td>\n      <td>Male</td>\n      <td>Single</td>\n      <td>No</td>\n      <td>Yes</td>\n      <td>No</td>\n      <td>17 to 22</td>\n    </tr>\n  </tbody>\n</table>\n</div>"
                    },
                    "metadata": {}
                }
            ]
        },
        {
            "metadata": {},
            "cell_type": "code",
            "source": "pd.set_option('display.max_columns', None)\ncustomers.head()",
            "execution_count": 5,
            "outputs": [
                {
                    "output_type": "execute_result",
                    "execution_count": 5,
                    "data": {
                        "text/plain": "   CustomerID  Retire Invest Educ Mortgage LOC  GENDER    MARITAL CHILDREN  \\\n0         787     0.0     No   No       No  No    Male     Single       No   \n1         789     0.0     No   No       No  No    Male     Single       No   \n2           1     NaN     No   No      Yes  No  Female    Widowed       No   \n3           2     NaN     No  Yes       No  No  Female  Separated       No   \n4           3     1.0     No  Yes      Yes  No    Male     Single       No   \n\n  WORKING HighMonVal  AgeRange  \n0     Yes         No  17 to 22  \n1     Yes         No  17 to 22  \n2     Yes        Yes  17 to 22  \n3     Yes        Yes  17 to 22  \n4     Yes         No  17 to 22  ",
                        "text/html": "<div>\n<style scoped>\n    .dataframe tbody tr th:only-of-type {\n        vertical-align: middle;\n    }\n\n    .dataframe tbody tr th {\n        vertical-align: top;\n    }\n\n    .dataframe thead th {\n        text-align: right;\n    }\n</style>\n<table border=\"1\" class=\"dataframe\">\n  <thead>\n    <tr style=\"text-align: right;\">\n      <th></th>\n      <th>CustomerID</th>\n      <th>Retire</th>\n      <th>Invest</th>\n      <th>Educ</th>\n      <th>Mortgage</th>\n      <th>LOC</th>\n      <th>GENDER</th>\n      <th>MARITAL</th>\n      <th>CHILDREN</th>\n      <th>WORKING</th>\n      <th>HighMonVal</th>\n      <th>AgeRange</th>\n    </tr>\n  </thead>\n  <tbody>\n    <tr>\n      <th>0</th>\n      <td>787</td>\n      <td>0.0</td>\n      <td>No</td>\n      <td>No</td>\n      <td>No</td>\n      <td>No</td>\n      <td>Male</td>\n      <td>Single</td>\n      <td>No</td>\n      <td>Yes</td>\n      <td>No</td>\n      <td>17 to 22</td>\n    </tr>\n    <tr>\n      <th>1</th>\n      <td>789</td>\n      <td>0.0</td>\n      <td>No</td>\n      <td>No</td>\n      <td>No</td>\n      <td>No</td>\n      <td>Male</td>\n      <td>Single</td>\n      <td>No</td>\n      <td>Yes</td>\n      <td>No</td>\n      <td>17 to 22</td>\n    </tr>\n    <tr>\n      <th>2</th>\n      <td>1</td>\n      <td>NaN</td>\n      <td>No</td>\n      <td>No</td>\n      <td>Yes</td>\n      <td>No</td>\n      <td>Female</td>\n      <td>Widowed</td>\n      <td>No</td>\n      <td>Yes</td>\n      <td>Yes</td>\n      <td>17 to 22</td>\n    </tr>\n    <tr>\n      <th>3</th>\n      <td>2</td>\n      <td>NaN</td>\n      <td>No</td>\n      <td>Yes</td>\n      <td>No</td>\n      <td>No</td>\n      <td>Female</td>\n      <td>Separated</td>\n      <td>No</td>\n      <td>Yes</td>\n      <td>Yes</td>\n      <td>17 to 22</td>\n    </tr>\n    <tr>\n      <th>4</th>\n      <td>3</td>\n      <td>1.0</td>\n      <td>No</td>\n      <td>Yes</td>\n      <td>Yes</td>\n      <td>No</td>\n      <td>Male</td>\n      <td>Single</td>\n      <td>No</td>\n      <td>Yes</td>\n      <td>No</td>\n      <td>17 to 22</td>\n    </tr>\n  </tbody>\n</table>\n</div>"
                    },
                    "metadata": {}
                }
            ]
        },
        {
            "metadata": {},
            "cell_type": "markdown",
            "source": "### Insert the transactions.csv into a data frame\n\nThe same note regarding the default data frame name applies here. The libraries do not need to be re-imported (though the insert to code from the right hand menu may still add the import statement.)"
        },
        {
            "metadata": {},
            "cell_type": "code",
            "source": "body = client_b6ce1d66a23747c685affa13595b2acb.get_object(Bucket='pyrlabtest-donotdelete-pr-ecn1gj2kpu5dli',Key='transactions.csv')['Body']\n# add missing __iter__ method, so pandas accepts body as file-like object\nif not hasattr(body, \"__iter__\"): body.__iter__ = types.MethodType( __iter__, body )\n\ntransactions = pd.read_csv(body)\ntransactions.head()",
            "execution_count": 6,
            "outputs": [
                {
                    "output_type": "execute_result",
                    "execution_count": 6,
                    "data": {
                        "text/plain": "   CustomerID  TimeYears   lasttrans  current Frequency_score  Monetary_score  \\\n0         787          7  117.393407        1               1           55541   \n1         789          7  117.393407        1             six               1   \n2           1          6  137.165304        1               2               2   \n3           2          8   72.997904        1               1               3   \n4           3         13  105.156650        1               2               3   \n\n  Churn  \n0     T  \n1     T  \n2     F  \n3     F  \n4     F  ",
                        "text/html": "<div>\n<style scoped>\n    .dataframe tbody tr th:only-of-type {\n        vertical-align: middle;\n    }\n\n    .dataframe tbody tr th {\n        vertical-align: top;\n    }\n\n    .dataframe thead th {\n        text-align: right;\n    }\n</style>\n<table border=\"1\" class=\"dataframe\">\n  <thead>\n    <tr style=\"text-align: right;\">\n      <th></th>\n      <th>CustomerID</th>\n      <th>TimeYears</th>\n      <th>lasttrans</th>\n      <th>current</th>\n      <th>Frequency_score</th>\n      <th>Monetary_score</th>\n      <th>Churn</th>\n    </tr>\n  </thead>\n  <tbody>\n    <tr>\n      <th>0</th>\n      <td>787</td>\n      <td>7</td>\n      <td>117.393407</td>\n      <td>1</td>\n      <td>1</td>\n      <td>55541</td>\n      <td>T</td>\n    </tr>\n    <tr>\n      <th>1</th>\n      <td>789</td>\n      <td>7</td>\n      <td>117.393407</td>\n      <td>1</td>\n      <td>six</td>\n      <td>1</td>\n      <td>T</td>\n    </tr>\n    <tr>\n      <th>2</th>\n      <td>1</td>\n      <td>6</td>\n      <td>137.165304</td>\n      <td>1</td>\n      <td>2</td>\n      <td>2</td>\n      <td>F</td>\n    </tr>\n    <tr>\n      <th>3</th>\n      <td>2</td>\n      <td>8</td>\n      <td>72.997904</td>\n      <td>1</td>\n      <td>1</td>\n      <td>3</td>\n      <td>F</td>\n    </tr>\n    <tr>\n      <th>4</th>\n      <td>3</td>\n      <td>13</td>\n      <td>105.156650</td>\n      <td>1</td>\n      <td>2</td>\n      <td>3</td>\n      <td>F</td>\n    </tr>\n  </tbody>\n</table>\n</div>"
                    },
                    "metadata": {}
                }
            ]
        },
        {
            "metadata": {},
            "cell_type": "markdown",
            "source": "### Print the number of rows for the customer data frame & transaction data frame\nThis is to confirm that the two data frames will join (same # of rows)\n(hint: use the same key column to ensure the same number of rows)"
        },
        {
            "metadata": {},
            "cell_type": "code",
            "source": "print('Number of rows in customers = {}'.format(customers.CustomerID.count()))\nprint('Number of rows in trips = {}'.format(transactions.CustomerID.count()))",
            "execution_count": 7,
            "outputs": [
                {
                    "output_type": "stream",
                    "text": "Number of rows in customers = 788\nNumber of rows in trips = 788\n",
                    "name": "stdout"
                }
            ]
        },
        {
            "metadata": {},
            "cell_type": "markdown",
            "source": "# Join Data"
        },
        {
            "metadata": {},
            "cell_type": "markdown",
            "source": "Join the Customer and Transaction Data Frames together. Identify which key should be used and the type of join (inner, outer) to be used. *Do not forget to drop the index*"
        },
        {
            "metadata": {},
            "cell_type": "code",
            "source": "joined = customers.join(transactions.set_index('CustomerID'), on='CustomerID', how='inner').reset_index(drop=True)",
            "execution_count": 8,
            "outputs": []
        },
        {
            "metadata": {},
            "cell_type": "markdown",
            "source": "Display the number of rows joined and examine the newly joined data set. \n*Number of rows joined should be 788*"
        },
        {
            "metadata": {},
            "cell_type": "code",
            "source": "print('Number of rows in joined = {}'.format(joined.CustomerID.count()))\njoined.head()",
            "execution_count": 9,
            "outputs": [
                {
                    "output_type": "stream",
                    "text": "Number of rows in joined = 788\n",
                    "name": "stdout"
                },
                {
                    "output_type": "execute_result",
                    "execution_count": 9,
                    "data": {
                        "text/plain": "   CustomerID  Retire Invest Educ Mortgage LOC  GENDER    MARITAL CHILDREN  \\\n0         787     0.0     No   No       No  No    Male     Single       No   \n1         789     0.0     No   No       No  No    Male     Single       No   \n2           1     NaN     No   No      Yes  No  Female    Widowed       No   \n3           2     NaN     No  Yes       No  No  Female  Separated       No   \n4           3     1.0     No  Yes      Yes  No    Male     Single       No   \n\n  WORKING HighMonVal  AgeRange  TimeYears   lasttrans  current  \\\n0     Yes         No  17 to 22          7  117.393407        1   \n1     Yes         No  17 to 22          7  117.393407        1   \n2     Yes        Yes  17 to 22          6  137.165304        1   \n3     Yes        Yes  17 to 22          8   72.997904        1   \n4     Yes         No  17 to 22         13  105.156650        1   \n\n  Frequency_score  Monetary_score Churn  \n0               1           55541     T  \n1             six               1     T  \n2               2               2     F  \n3               1               3     F  \n4               2               3     F  ",
                        "text/html": "<div>\n<style scoped>\n    .dataframe tbody tr th:only-of-type {\n        vertical-align: middle;\n    }\n\n    .dataframe tbody tr th {\n        vertical-align: top;\n    }\n\n    .dataframe thead th {\n        text-align: right;\n    }\n</style>\n<table border=\"1\" class=\"dataframe\">\n  <thead>\n    <tr style=\"text-align: right;\">\n      <th></th>\n      <th>CustomerID</th>\n      <th>Retire</th>\n      <th>Invest</th>\n      <th>Educ</th>\n      <th>Mortgage</th>\n      <th>LOC</th>\n      <th>GENDER</th>\n      <th>MARITAL</th>\n      <th>CHILDREN</th>\n      <th>WORKING</th>\n      <th>HighMonVal</th>\n      <th>AgeRange</th>\n      <th>TimeYears</th>\n      <th>lasttrans</th>\n      <th>current</th>\n      <th>Frequency_score</th>\n      <th>Monetary_score</th>\n      <th>Churn</th>\n    </tr>\n  </thead>\n  <tbody>\n    <tr>\n      <th>0</th>\n      <td>787</td>\n      <td>0.0</td>\n      <td>No</td>\n      <td>No</td>\n      <td>No</td>\n      <td>No</td>\n      <td>Male</td>\n      <td>Single</td>\n      <td>No</td>\n      <td>Yes</td>\n      <td>No</td>\n      <td>17 to 22</td>\n      <td>7</td>\n      <td>117.393407</td>\n      <td>1</td>\n      <td>1</td>\n      <td>55541</td>\n      <td>T</td>\n    </tr>\n    <tr>\n      <th>1</th>\n      <td>789</td>\n      <td>0.0</td>\n      <td>No</td>\n      <td>No</td>\n      <td>No</td>\n      <td>No</td>\n      <td>Male</td>\n      <td>Single</td>\n      <td>No</td>\n      <td>Yes</td>\n      <td>No</td>\n      <td>17 to 22</td>\n      <td>7</td>\n      <td>117.393407</td>\n      <td>1</td>\n      <td>six</td>\n      <td>1</td>\n      <td>T</td>\n    </tr>\n    <tr>\n      <th>2</th>\n      <td>1</td>\n      <td>NaN</td>\n      <td>No</td>\n      <td>No</td>\n      <td>Yes</td>\n      <td>No</td>\n      <td>Female</td>\n      <td>Widowed</td>\n      <td>No</td>\n      <td>Yes</td>\n      <td>Yes</td>\n      <td>17 to 22</td>\n      <td>6</td>\n      <td>137.165304</td>\n      <td>1</td>\n      <td>2</td>\n      <td>2</td>\n      <td>F</td>\n    </tr>\n    <tr>\n      <th>3</th>\n      <td>2</td>\n      <td>NaN</td>\n      <td>No</td>\n      <td>Yes</td>\n      <td>No</td>\n      <td>No</td>\n      <td>Female</td>\n      <td>Separated</td>\n      <td>No</td>\n      <td>Yes</td>\n      <td>Yes</td>\n      <td>17 to 22</td>\n      <td>8</td>\n      <td>72.997904</td>\n      <td>1</td>\n      <td>1</td>\n      <td>3</td>\n      <td>F</td>\n    </tr>\n    <tr>\n      <th>4</th>\n      <td>3</td>\n      <td>1.0</td>\n      <td>No</td>\n      <td>Yes</td>\n      <td>Yes</td>\n      <td>No</td>\n      <td>Male</td>\n      <td>Single</td>\n      <td>No</td>\n      <td>Yes</td>\n      <td>No</td>\n      <td>17 to 22</td>\n      <td>13</td>\n      <td>105.156650</td>\n      <td>1</td>\n      <td>2</td>\n      <td>3</td>\n      <td>F</td>\n    </tr>\n  </tbody>\n</table>\n</div>"
                    },
                    "metadata": {}
                }
            ]
        },
        {
            "metadata": {},
            "cell_type": "markdown",
            "source": "# Analyze Data\n\nLook for column outliers or other quality issues, such as data type, that will affect the end model\n\n*Should be clear to see that one of the columns contains data outliers*"
        },
        {
            "metadata": {},
            "cell_type": "code",
            "source": "joined.describe()\n#Clear to see that the Monetary_score column contains data outliers",
            "execution_count": 10,
            "outputs": [
                {
                    "output_type": "execute_result",
                    "execution_count": 10,
                    "data": {
                        "text/plain": "       CustomerID      Retire   TimeYears   lasttrans  current  Monetary_score\ncount  788.000000  786.000000  788.000000  788.000000    788.0      788.000000\nmean   394.501269    0.489822    8.383249   99.768204      1.0       73.489848\nstd    227.622497    0.500215    2.945127   28.537232      0.0     1978.459460\nmin      1.000000    0.000000    0.000000   21.604358      1.0        1.000000\n25%    197.750000    0.000000    6.000000   79.443208      1.0        2.000000\n50%    394.500000    0.000000    8.000000   99.772848      1.0        3.000000\n75%    591.250000    1.000000   10.000000  118.688207      1.0        4.000000\nmax    789.000000    1.000000   16.000000  201.579985      1.0    55541.000000",
                        "text/html": "<div>\n<style scoped>\n    .dataframe tbody tr th:only-of-type {\n        vertical-align: middle;\n    }\n\n    .dataframe tbody tr th {\n        vertical-align: top;\n    }\n\n    .dataframe thead th {\n        text-align: right;\n    }\n</style>\n<table border=\"1\" class=\"dataframe\">\n  <thead>\n    <tr style=\"text-align: right;\">\n      <th></th>\n      <th>CustomerID</th>\n      <th>Retire</th>\n      <th>TimeYears</th>\n      <th>lasttrans</th>\n      <th>current</th>\n      <th>Monetary_score</th>\n    </tr>\n  </thead>\n  <tbody>\n    <tr>\n      <th>count</th>\n      <td>788.000000</td>\n      <td>786.000000</td>\n      <td>788.000000</td>\n      <td>788.000000</td>\n      <td>788.0</td>\n      <td>788.000000</td>\n    </tr>\n    <tr>\n      <th>mean</th>\n      <td>394.501269</td>\n      <td>0.489822</td>\n      <td>8.383249</td>\n      <td>99.768204</td>\n      <td>1.0</td>\n      <td>73.489848</td>\n    </tr>\n    <tr>\n      <th>std</th>\n      <td>227.622497</td>\n      <td>0.500215</td>\n      <td>2.945127</td>\n      <td>28.537232</td>\n      <td>0.0</td>\n      <td>1978.459460</td>\n    </tr>\n    <tr>\n      <th>min</th>\n      <td>1.000000</td>\n      <td>0.000000</td>\n      <td>0.000000</td>\n      <td>21.604358</td>\n      <td>1.0</td>\n      <td>1.000000</td>\n    </tr>\n    <tr>\n      <th>25%</th>\n      <td>197.750000</td>\n      <td>0.000000</td>\n      <td>6.000000</td>\n      <td>79.443208</td>\n      <td>1.0</td>\n      <td>2.000000</td>\n    </tr>\n    <tr>\n      <th>50%</th>\n      <td>394.500000</td>\n      <td>0.000000</td>\n      <td>8.000000</td>\n      <td>99.772848</td>\n      <td>1.0</td>\n      <td>3.000000</td>\n    </tr>\n    <tr>\n      <th>75%</th>\n      <td>591.250000</td>\n      <td>1.000000</td>\n      <td>10.000000</td>\n      <td>118.688207</td>\n      <td>1.0</td>\n      <td>4.000000</td>\n    </tr>\n    <tr>\n      <th>max</th>\n      <td>789.000000</td>\n      <td>1.000000</td>\n      <td>16.000000</td>\n      <td>201.579985</td>\n      <td>1.0</td>\n      <td>55541.000000</td>\n    </tr>\n  </tbody>\n</table>\n</div>"
                    },
                    "metadata": {}
                }
            ]
        },
        {
            "metadata": {},
            "cell_type": "markdown",
            "source": "### Check your data frame's data types\n\nAre the types correct? You can either check the entire data frame, or specific columns that may have been identified from the df.head() command ran earlier following the join"
        },
        {
            "metadata": {},
            "cell_type": "code",
            "source": "# CHecking the entire data frame data types\njoined.dtypes",
            "execution_count": 11,
            "outputs": [
                {
                    "output_type": "execute_result",
                    "execution_count": 11,
                    "data": {
                        "text/plain": "CustomerID           int64\nRetire             float64\nInvest              object\nEduc                object\nMortgage            object\nLOC                 object\nGENDER              object\nMARITAL             object\nCHILDREN            object\nWORKING             object\nHighMonVal          object\nAgeRange            object\nTimeYears            int64\nlasttrans          float64\ncurrent              int64\nFrequency_score     object\nMonetary_score       int64\nChurn               object\ndtype: object"
                    },
                    "metadata": {}
                }
            ]
        },
        {
            "metadata": {},
            "cell_type": "code",
            "source": "# The Frequency_score column should have been inferred as a numeric, so it may contain some unwanted non-numeric data\njoined.dtypes.filter(items=['Frequency_score'])",
            "execution_count": 12,
            "outputs": [
                {
                    "output_type": "execute_result",
                    "execution_count": 12,
                    "data": {
                        "text/plain": "Frequency_score    object\ndtype: object"
                    },
                    "metadata": {}
                }
            ]
        },
        {
            "metadata": {},
            "cell_type": "markdown",
            "source": "# Data Cleansing\n\n### Let's start with dropping rows that have invalid data\n\nWe do this so that we don't use resources cleansing rows that we will ultimately discard due to invalid data\n\n*We may also want to save the rows with invalid data for correction and then re adding them. For the purpose of this lab, the data will just be dropped*"
        },
        {
            "metadata": {},
            "cell_type": "markdown",
            "source": "Show rows with invalid data"
        },
        {
            "metadata": {
                "scrolled": true
            },
            "cell_type": "code",
            "source": "# Show rows with invalid data\nprint('Number of rows with invalid values = {}'.format(len(joined[joined.isnull().any(axis=1)])))\njoined[joined.isnull().any(axis=1)]",
            "execution_count": 20,
            "outputs": [
                {
                    "output_type": "stream",
                    "text": "Number of rows with invalid values = 1\n",
                    "name": "stdout"
                },
                {
                    "output_type": "execute_result",
                    "execution_count": 20,
                    "data": {
                        "text/plain": "   CustomerID  Retire Invest Educ Mortgage LOC GENDER MARITAL CHILDREN  \\\n1         789     0.0     No   No       No  No   Male  Single       No   \n\n  WORKING HighMonVal  AgeRange  TimeYears   lasttrans  current  \\\n1     Yes         No  17 to 22          7  117.393407        1   \n\n   Frequency_score  Monetary_score Churn  \n1              NaN               1     T  ",
                        "text/html": "<div>\n<style scoped>\n    .dataframe tbody tr th:only-of-type {\n        vertical-align: middle;\n    }\n\n    .dataframe tbody tr th {\n        vertical-align: top;\n    }\n\n    .dataframe thead th {\n        text-align: right;\n    }\n</style>\n<table border=\"1\" class=\"dataframe\">\n  <thead>\n    <tr style=\"text-align: right;\">\n      <th></th>\n      <th>CustomerID</th>\n      <th>Retire</th>\n      <th>Invest</th>\n      <th>Educ</th>\n      <th>Mortgage</th>\n      <th>LOC</th>\n      <th>GENDER</th>\n      <th>MARITAL</th>\n      <th>CHILDREN</th>\n      <th>WORKING</th>\n      <th>HighMonVal</th>\n      <th>AgeRange</th>\n      <th>TimeYears</th>\n      <th>lasttrans</th>\n      <th>current</th>\n      <th>Frequency_score</th>\n      <th>Monetary_score</th>\n      <th>Churn</th>\n    </tr>\n  </thead>\n  <tbody>\n    <tr>\n      <th>1</th>\n      <td>789</td>\n      <td>0.0</td>\n      <td>No</td>\n      <td>No</td>\n      <td>No</td>\n      <td>No</td>\n      <td>Male</td>\n      <td>Single</td>\n      <td>No</td>\n      <td>Yes</td>\n      <td>No</td>\n      <td>17 to 22</td>\n      <td>7</td>\n      <td>117.393407</td>\n      <td>1</td>\n      <td>NaN</td>\n      <td>1</td>\n      <td>T</td>\n    </tr>\n  </tbody>\n</table>\n</div>"
                    },
                    "metadata": {}
                }
            ]
        },
        {
            "metadata": {},
            "cell_type": "markdown",
            "source": "Drop the rows with invalid data\n\nDisplay the remaining number of rows in the data set. *Should be 761*"
        },
        {
            "metadata": {},
            "cell_type": "code",
            "source": "#Drop rows with invalid data\njoined = joined.dropna(axis=0)\nprint('Number of rows in joined = {}'.format(joined.CustomerID.count()))",
            "execution_count": 21,
            "outputs": [
                {
                    "output_type": "stream",
                    "text": "Number of rows in joined = 761\n",
                    "name": "stdout"
                }
            ]
        },
        {
            "metadata": {},
            "cell_type": "markdown",
            "source": "### Now we want to correct the data type of the column identified above.\n\nConvert String Data to Numeric data using the .to_numeric function of pandas."
        },
        {
            "metadata": {},
            "cell_type": "code",
            "source": "# Force the Frequency_score column to a numeric data type as it should be\njoined[['Frequency_score']] = joined[['Frequency_score']].apply(pd.to_numeric, errors='coerce')",
            "execution_count": 22,
            "outputs": []
        },
        {
            "metadata": {},
            "cell_type": "markdown",
            "source": "### Check the new data type of the column we changed \n\nWe want to make sure that the new data type is inline with similar columns"
        },
        {
            "metadata": {},
            "cell_type": "code",
            "source": "#Frequency_score is float data type, but should be integer\njoined.dtypes.filter(items=['Frequency_score'])",
            "execution_count": 23,
            "outputs": [
                {
                    "output_type": "execute_result",
                    "execution_count": 23,
                    "data": {
                        "text/plain": "Frequency_score    float64\ndtype: object"
                    },
                    "metadata": {}
                }
            ]
        },
        {
            "metadata": {},
            "cell_type": "markdown",
            "source": "### Cast the column to the correct data type \n*hint - should be the same dat type as a similarly named column*"
        },
        {
            "metadata": {},
            "cell_type": "code",
            "source": "# Cast Frequency_score as integer\njoined[['Frequency_score']] = joined[['Frequency_score']].astype(int)\njoined.dtypes.filter(items=['Frequency_score'])",
            "execution_count": 24,
            "outputs": [
                {
                    "output_type": "execute_result",
                    "execution_count": 24,
                    "data": {
                        "text/plain": "Frequency_score    int64\ndtype: object"
                    },
                    "metadata": {}
                }
            ]
        },
        {
            "metadata": {},
            "cell_type": "markdown",
            "source": "### Now we want to remove the outliers from the column identified above in the .decribe() command\nwe can see that 75% of the rows fall within the 1-4 number range. We want to capture as much of the data as applicable, so let's drop any rows that are less than 5"
        },
        {
            "metadata": {},
            "cell_type": "code",
            "source": "# Remove the rows with outliers in Monetary_score that we previously identified\njoined = joined[joined['Monetary_score'] <=5]",
            "execution_count": 25,
            "outputs": []
        },
        {
            "metadata": {},
            "cell_type": "markdown",
            "source": "### Let's spot check the new data frame and the specific column we removed the outliers from"
        },
        {
            "metadata": {},
            "cell_type": "code",
            "source": "joined.head()",
            "execution_count": 26,
            "outputs": [
                {
                    "output_type": "execute_result",
                    "execution_count": 26,
                    "data": {
                        "text/plain": "   CustomerID  Retire Invest Educ Mortgage  LOC  GENDER    MARITAL CHILDREN  \\\n4           3     1.0     No  Yes      Yes   No    Male     Single       No   \n5           4     1.0     No   No       No   No  Female    Widowed       No   \n6           5     1.0     No   No       No   No  Female  Separated       No   \n7           6     1.0     No   No      Yes  Yes    Male     Single       No   \n8           7     1.0     No   No       No   No  Female     Single       No   \n\n  WORKING HighMonVal  AgeRange  TimeYears   lasttrans  current  \\\n4     Yes         No  17 to 22         13  105.156650        1   \n5     Yes        Yes  17 to 22          7   75.530619        1   \n6     Yes         No  17 to 22         13   86.580787        1   \n7      No         No  17 to 22         11  122.074913        1   \n8      No        Yes  17 to 22          8  128.547682        1   \n\n   Frequency_score  Monetary_score Churn  \n4                2               3     F  \n5                2               3     F  \n6                1               5     F  \n7                3               4     F  \n8                1               5     F  ",
                        "text/html": "<div>\n<style scoped>\n    .dataframe tbody tr th:only-of-type {\n        vertical-align: middle;\n    }\n\n    .dataframe tbody tr th {\n        vertical-align: top;\n    }\n\n    .dataframe thead th {\n        text-align: right;\n    }\n</style>\n<table border=\"1\" class=\"dataframe\">\n  <thead>\n    <tr style=\"text-align: right;\">\n      <th></th>\n      <th>CustomerID</th>\n      <th>Retire</th>\n      <th>Invest</th>\n      <th>Educ</th>\n      <th>Mortgage</th>\n      <th>LOC</th>\n      <th>GENDER</th>\n      <th>MARITAL</th>\n      <th>CHILDREN</th>\n      <th>WORKING</th>\n      <th>HighMonVal</th>\n      <th>AgeRange</th>\n      <th>TimeYears</th>\n      <th>lasttrans</th>\n      <th>current</th>\n      <th>Frequency_score</th>\n      <th>Monetary_score</th>\n      <th>Churn</th>\n    </tr>\n  </thead>\n  <tbody>\n    <tr>\n      <th>4</th>\n      <td>3</td>\n      <td>1.0</td>\n      <td>No</td>\n      <td>Yes</td>\n      <td>Yes</td>\n      <td>No</td>\n      <td>Male</td>\n      <td>Single</td>\n      <td>No</td>\n      <td>Yes</td>\n      <td>No</td>\n      <td>17 to 22</td>\n      <td>13</td>\n      <td>105.156650</td>\n      <td>1</td>\n      <td>2</td>\n      <td>3</td>\n      <td>F</td>\n    </tr>\n    <tr>\n      <th>5</th>\n      <td>4</td>\n      <td>1.0</td>\n      <td>No</td>\n      <td>No</td>\n      <td>No</td>\n      <td>No</td>\n      <td>Female</td>\n      <td>Widowed</td>\n      <td>No</td>\n      <td>Yes</td>\n      <td>Yes</td>\n      <td>17 to 22</td>\n      <td>7</td>\n      <td>75.530619</td>\n      <td>1</td>\n      <td>2</td>\n      <td>3</td>\n      <td>F</td>\n    </tr>\n    <tr>\n      <th>6</th>\n      <td>5</td>\n      <td>1.0</td>\n      <td>No</td>\n      <td>No</td>\n      <td>No</td>\n      <td>No</td>\n      <td>Female</td>\n      <td>Separated</td>\n      <td>No</td>\n      <td>Yes</td>\n      <td>No</td>\n      <td>17 to 22</td>\n      <td>13</td>\n      <td>86.580787</td>\n      <td>1</td>\n      <td>1</td>\n      <td>5</td>\n      <td>F</td>\n    </tr>\n    <tr>\n      <th>7</th>\n      <td>6</td>\n      <td>1.0</td>\n      <td>No</td>\n      <td>No</td>\n      <td>Yes</td>\n      <td>Yes</td>\n      <td>Male</td>\n      <td>Single</td>\n      <td>No</td>\n      <td>No</td>\n      <td>No</td>\n      <td>17 to 22</td>\n      <td>11</td>\n      <td>122.074913</td>\n      <td>1</td>\n      <td>3</td>\n      <td>4</td>\n      <td>F</td>\n    </tr>\n    <tr>\n      <th>8</th>\n      <td>7</td>\n      <td>1.0</td>\n      <td>No</td>\n      <td>No</td>\n      <td>No</td>\n      <td>No</td>\n      <td>Female</td>\n      <td>Single</td>\n      <td>No</td>\n      <td>No</td>\n      <td>Yes</td>\n      <td>17 to 22</td>\n      <td>8</td>\n      <td>128.547682</td>\n      <td>1</td>\n      <td>1</td>\n      <td>5</td>\n      <td>F</td>\n    </tr>\n  </tbody>\n</table>\n</div>"
                    },
                    "metadata": {}
                }
            ]
        },
        {
            "metadata": {},
            "cell_type": "code",
            "source": "joined['Monetary_score'].describe()",
            "execution_count": 27,
            "outputs": [
                {
                    "output_type": "execute_result",
                    "execution_count": 27,
                    "data": {
                        "text/plain": "count    760.000000\nmean       3.026316\nstd        1.396152\nmin        1.000000\n25%        2.000000\n50%        3.000000\n75%        4.000000\nmax        5.000000\nName: Monetary_score, dtype: float64"
                    },
                    "metadata": {}
                }
            ]
        },
        {
            "metadata": {},
            "cell_type": "markdown",
            "source": "# Now lets drop columns not being used as features\n*The columns not being used are CustomerID, Invest, Educ, MARTIAL, TimeYears, Lasttrans, current, Monetary_score*\n\nOnce dropped, we will want to check the new data frame"
        },
        {
            "metadata": {},
            "cell_type": "code",
            "source": "dropCols = (['CustomerID', 'Invest', 'Educ', 'MARITAL', 'TimeYears', 'lasttrans', 'current', 'Monetary_score'])\njoined.drop(dropCols, axis=1, inplace=True)\njoined.head()",
            "execution_count": 28,
            "outputs": [
                {
                    "output_type": "execute_result",
                    "execution_count": 28,
                    "data": {
                        "text/plain": "   Retire Mortgage  LOC  GENDER CHILDREN WORKING HighMonVal  AgeRange  \\\n4     1.0      Yes   No    Male       No     Yes         No  17 to 22   \n5     1.0       No   No  Female       No     Yes        Yes  17 to 22   \n6     1.0       No   No  Female       No     Yes         No  17 to 22   \n7     1.0      Yes  Yes    Male       No      No         No  17 to 22   \n8     1.0       No   No  Female       No      No        Yes  17 to 22   \n\n   Frequency_score Churn  \n4                2     F  \n5                2     F  \n6                1     F  \n7                3     F  \n8                1     F  ",
                        "text/html": "<div>\n<style scoped>\n    .dataframe tbody tr th:only-of-type {\n        vertical-align: middle;\n    }\n\n    .dataframe tbody tr th {\n        vertical-align: top;\n    }\n\n    .dataframe thead th {\n        text-align: right;\n    }\n</style>\n<table border=\"1\" class=\"dataframe\">\n  <thead>\n    <tr style=\"text-align: right;\">\n      <th></th>\n      <th>Retire</th>\n      <th>Mortgage</th>\n      <th>LOC</th>\n      <th>GENDER</th>\n      <th>CHILDREN</th>\n      <th>WORKING</th>\n      <th>HighMonVal</th>\n      <th>AgeRange</th>\n      <th>Frequency_score</th>\n      <th>Churn</th>\n    </tr>\n  </thead>\n  <tbody>\n    <tr>\n      <th>4</th>\n      <td>1.0</td>\n      <td>Yes</td>\n      <td>No</td>\n      <td>Male</td>\n      <td>No</td>\n      <td>Yes</td>\n      <td>No</td>\n      <td>17 to 22</td>\n      <td>2</td>\n      <td>F</td>\n    </tr>\n    <tr>\n      <th>5</th>\n      <td>1.0</td>\n      <td>No</td>\n      <td>No</td>\n      <td>Female</td>\n      <td>No</td>\n      <td>Yes</td>\n      <td>Yes</td>\n      <td>17 to 22</td>\n      <td>2</td>\n      <td>F</td>\n    </tr>\n    <tr>\n      <th>6</th>\n      <td>1.0</td>\n      <td>No</td>\n      <td>No</td>\n      <td>Female</td>\n      <td>No</td>\n      <td>Yes</td>\n      <td>No</td>\n      <td>17 to 22</td>\n      <td>1</td>\n      <td>F</td>\n    </tr>\n    <tr>\n      <th>7</th>\n      <td>1.0</td>\n      <td>Yes</td>\n      <td>Yes</td>\n      <td>Male</td>\n      <td>No</td>\n      <td>No</td>\n      <td>No</td>\n      <td>17 to 22</td>\n      <td>3</td>\n      <td>F</td>\n    </tr>\n    <tr>\n      <th>8</th>\n      <td>1.0</td>\n      <td>No</td>\n      <td>No</td>\n      <td>Female</td>\n      <td>No</td>\n      <td>No</td>\n      <td>Yes</td>\n      <td>17 to 22</td>\n      <td>1</td>\n      <td>F</td>\n    </tr>\n  </tbody>\n</table>\n</div>"
                    },
                    "metadata": {}
                }
            ]
        },
        {
            "metadata": {},
            "cell_type": "markdown",
            "source": "# Convert numeric data to integer (some numeric columns were inferred as float64)\nFirst, lets check the data type of the column(s)."
        },
        {
            "metadata": {},
            "cell_type": "code",
            "source": "# Retire column was infered as a float data type\njoined['Retire'].dtypes",
            "execution_count": 29,
            "outputs": [
                {
                    "output_type": "execute_result",
                    "execution_count": 29,
                    "data": {
                        "text/plain": "dtype('float64')"
                    },
                    "metadata": {}
                }
            ]
        },
        {
            "metadata": {},
            "cell_type": "markdown",
            "source": "Let's create a list of column names based on numeric data types (*hint float64 & int64). We also want to create a list of the correct data type to correspond with the list of column names"
        },
        {
            "metadata": {
                "scrolled": true
            },
            "cell_type": "code",
            "source": "joinedColNames = joined.columns.values.tolist()\nintList = []\nnumericCols = []\nfor col in joinedColNames:\n    if joined[col].dtypes == 'float64' or joined[col].dtypes == 'int64':\n        numericCols.append(col)\n        intList.append('int')\nprint(numericCols)\nprint(intList)",
            "execution_count": 30,
            "outputs": [
                {
                    "output_type": "stream",
                    "text": "['Retire', 'Frequency_score']\n['int', 'int']\n",
                    "name": "stdout"
                }
            ]
        },
        {
            "metadata": {},
            "cell_type": "markdown",
            "source": "Create a dictionary that will be used to set the numeric columns to integer type & Print the dictionary"
        },
        {
            "metadata": {},
            "cell_type": "code",
            "source": "intDict = dict(zip(numericCols, intList))\nprint(\"Show columns of integer data type\")\nintDict",
            "execution_count": 31,
            "outputs": [
                {
                    "output_type": "stream",
                    "text": "Show columns of integer data type\n",
                    "name": "stdout"
                },
                {
                    "output_type": "execute_result",
                    "execution_count": 31,
                    "data": {
                        "text/plain": "{'Retire': 'int', 'Frequency_score': 'int'}"
                    },
                    "metadata": {}
                }
            ]
        },
        {
            "metadata": {},
            "cell_type": "markdown",
            "source": "Convert the numeric columns to integer"
        },
        {
            "metadata": {},
            "cell_type": "code",
            "source": "# Convert the numeric columns to integer\njoined = joined.astype(intDict)",
            "execution_count": 32,
            "outputs": []
        },
        {
            "metadata": {},
            "cell_type": "markdown",
            "source": "Check the data types to insure all numeric data is int64"
        },
        {
            "metadata": {},
            "cell_type": "code",
            "source": "# All numeric data is now int64\njoined.dtypes",
            "execution_count": 33,
            "outputs": [
                {
                    "output_type": "execute_result",
                    "execution_count": 33,
                    "data": {
                        "text/plain": "Retire              int64\nMortgage           object\nLOC                object\nGENDER             object\nCHILDREN           object\nWORKING            object\nHighMonVal         object\nAgeRange           object\nFrequency_score     int64\nChurn              object\ndtype: object"
                    },
                    "metadata": {}
                }
            ]
        },
        {
            "metadata": {},
            "cell_type": "markdown",
            "source": "# Encode the string data"
        },
        {
            "metadata": {},
            "cell_type": "code",
            "source": "#install sklearn-pandas package that will be used to encode the categorical features\n!pip install sklearn-pandas\nfrom sklearn.preprocessing import LabelEncoder\nfrom sklearn_pandas import DataFrameMapper",
            "execution_count": 34,
            "outputs": [
                {
                    "output_type": "stream",
                    "text": "Collecting sklearn-pandas\n  Downloading https://files.pythonhosted.org/packages/1f/48/4e1461d828baf41d609efaa720d20090ac6ec346b5daad3c88e243e2207e/sklearn_pandas-1.8.0-py2.py3-none-any.whl\nRequirement already satisfied: pandas>=0.11.0 in /opt/conda/envs/Python36/lib/python3.6/site-packages (from sklearn-pandas) (0.24.1)\nRequirement already satisfied: scikit-learn>=0.15.0 in /opt/conda/envs/Python36/lib/python3.6/site-packages (from sklearn-pandas) (0.20.3)\nRequirement already satisfied: numpy>=1.6.1 in /opt/conda/envs/Python36/lib/python3.6/site-packages (from sklearn-pandas) (1.15.4)\nRequirement already satisfied: scipy>=0.14 in /opt/conda/envs/Python36/lib/python3.6/site-packages (from sklearn-pandas) (1.2.0)\nRequirement already satisfied: python-dateutil>=2.5.0 in /opt/conda/envs/Python36/lib/python3.6/site-packages (from pandas>=0.11.0->sklearn-pandas) (2.7.5)\nRequirement already satisfied: pytz>=2011k in /opt/conda/envs/Python36/lib/python3.6/site-packages (from pandas>=0.11.0->sklearn-pandas) (2018.9)\nRequirement already satisfied: six>=1.5 in /opt/conda/envs/Python36/lib/python3.6/site-packages (from python-dateutil>=2.5.0->pandas>=0.11.0->sklearn-pandas) (1.12.0)\nInstalling collected packages: sklearn-pandas\nSuccessfully installed sklearn-pandas-1.8.0\n",
                    "name": "stdout"
                }
            ]
        },
        {
            "metadata": {},
            "cell_type": "markdown",
            "source": "Encode the Churn label calling the new column CHURN and drop the original Churn column"
        },
        {
            "metadata": {},
            "cell_type": "code",
            "source": "#Encode the Churn label calling the new column CHURN and drop the original Churn column\nle = LabelEncoder()\njoined['CHURN']= le.fit_transform(joined['Churn'])\njoined = joined.drop(['Churn'], axis = 1)\njoined.head()",
            "execution_count": 35,
            "outputs": [
                {
                    "output_type": "execute_result",
                    "execution_count": 35,
                    "data": {
                        "text/plain": "   Retire Mortgage  LOC  GENDER CHILDREN WORKING HighMonVal  AgeRange  \\\n4       1      Yes   No    Male       No     Yes         No  17 to 22   \n5       1       No   No  Female       No     Yes        Yes  17 to 22   \n6       1       No   No  Female       No     Yes         No  17 to 22   \n7       1      Yes  Yes    Male       No      No         No  17 to 22   \n8       1       No   No  Female       No      No        Yes  17 to 22   \n\n   Frequency_score  CHURN  \n4                2      0  \n5                2      0  \n6                1      0  \n7                3      0  \n8                1      0  ",
                        "text/html": "<div>\n<style scoped>\n    .dataframe tbody tr th:only-of-type {\n        vertical-align: middle;\n    }\n\n    .dataframe tbody tr th {\n        vertical-align: top;\n    }\n\n    .dataframe thead th {\n        text-align: right;\n    }\n</style>\n<table border=\"1\" class=\"dataframe\">\n  <thead>\n    <tr style=\"text-align: right;\">\n      <th></th>\n      <th>Retire</th>\n      <th>Mortgage</th>\n      <th>LOC</th>\n      <th>GENDER</th>\n      <th>CHILDREN</th>\n      <th>WORKING</th>\n      <th>HighMonVal</th>\n      <th>AgeRange</th>\n      <th>Frequency_score</th>\n      <th>CHURN</th>\n    </tr>\n  </thead>\n  <tbody>\n    <tr>\n      <th>4</th>\n      <td>1</td>\n      <td>Yes</td>\n      <td>No</td>\n      <td>Male</td>\n      <td>No</td>\n      <td>Yes</td>\n      <td>No</td>\n      <td>17 to 22</td>\n      <td>2</td>\n      <td>0</td>\n    </tr>\n    <tr>\n      <th>5</th>\n      <td>1</td>\n      <td>No</td>\n      <td>No</td>\n      <td>Female</td>\n      <td>No</td>\n      <td>Yes</td>\n      <td>Yes</td>\n      <td>17 to 22</td>\n      <td>2</td>\n      <td>0</td>\n    </tr>\n    <tr>\n      <th>6</th>\n      <td>1</td>\n      <td>No</td>\n      <td>No</td>\n      <td>Female</td>\n      <td>No</td>\n      <td>Yes</td>\n      <td>No</td>\n      <td>17 to 22</td>\n      <td>1</td>\n      <td>0</td>\n    </tr>\n    <tr>\n      <th>7</th>\n      <td>1</td>\n      <td>Yes</td>\n      <td>Yes</td>\n      <td>Male</td>\n      <td>No</td>\n      <td>No</td>\n      <td>No</td>\n      <td>17 to 22</td>\n      <td>3</td>\n      <td>0</td>\n    </tr>\n    <tr>\n      <th>8</th>\n      <td>1</td>\n      <td>No</td>\n      <td>No</td>\n      <td>Female</td>\n      <td>No</td>\n      <td>No</td>\n      <td>Yes</td>\n      <td>17 to 22</td>\n      <td>1</td>\n      <td>0</td>\n    </tr>\n  </tbody>\n</table>\n</div>"
                    },
                    "metadata": {}
                }
            ]
        },
        {
            "metadata": {},
            "cell_type": "markdown",
            "source": "Apply the LabelEncoder to encode the categorical features"
        },
        {
            "metadata": {},
            "cell_type": "code",
            "source": "# Apply the LabelEncoder to encode the categorical features\n\nmapper = DataFrameMapper(\n    [('Retire', None),\n     ('Mortgage', LabelEncoder()),\n     ('LOC', LabelEncoder()),\n     ('GENDER', LabelEncoder()),\n     ('CHILDREN',LabelEncoder()),\n     ('WORKING', LabelEncoder()),\n     ('HighMonVal',LabelEncoder()),\n     ('AgeRange',LabelEncoder()),\n     ('Frequency_score',None)\n    ])",
            "execution_count": 36,
            "outputs": []
        },
        {
            "metadata": {},
            "cell_type": "markdown",
            "source": "# Prepare the data for machine learning\n\n1. Split the label column out from the features dataframe\n2. Sample the indexed DataFrame\n3. Create a separate DataFrame from the label column and sample"
        },
        {
            "metadata": {},
            "cell_type": "code",
            "source": "# Split the label column out from the features dataframe\nX = joined.drop('CHURN', axis = 1)\ny = joined['CHURN']\n# Sample the indexed DataFrame\nX.sample(n=5, random_state=2)",
            "execution_count": 37,
            "outputs": [
                {
                    "output_type": "execute_result",
                    "execution_count": 37,
                    "data": {
                        "text/plain": "     Retire Mortgage  LOC  GENDER CHILDREN WORKING HighMonVal  AgeRange  \\\n266       0       No  Yes    Male      Yes      No         No  23 to 30   \n365       1      Yes  Yes  Female       No     Yes        Yes  17 to 22   \n673       0       No   No    Male       No     Yes         No  23 to 30   \n318       1      Yes  Yes  Female       No     Yes        Yes  31 to 40   \n73        1       No  Yes  Female       No     Yes        Yes  23 to 30   \n\n     Frequency_score  \n266                5  \n365                3  \n673                1  \n318                2  \n73                 4  ",
                        "text/html": "<div>\n<style scoped>\n    .dataframe tbody tr th:only-of-type {\n        vertical-align: middle;\n    }\n\n    .dataframe tbody tr th {\n        vertical-align: top;\n    }\n\n    .dataframe thead th {\n        text-align: right;\n    }\n</style>\n<table border=\"1\" class=\"dataframe\">\n  <thead>\n    <tr style=\"text-align: right;\">\n      <th></th>\n      <th>Retire</th>\n      <th>Mortgage</th>\n      <th>LOC</th>\n      <th>GENDER</th>\n      <th>CHILDREN</th>\n      <th>WORKING</th>\n      <th>HighMonVal</th>\n      <th>AgeRange</th>\n      <th>Frequency_score</th>\n    </tr>\n  </thead>\n  <tbody>\n    <tr>\n      <th>266</th>\n      <td>0</td>\n      <td>No</td>\n      <td>Yes</td>\n      <td>Male</td>\n      <td>Yes</td>\n      <td>No</td>\n      <td>No</td>\n      <td>23 to 30</td>\n      <td>5</td>\n    </tr>\n    <tr>\n      <th>365</th>\n      <td>1</td>\n      <td>Yes</td>\n      <td>Yes</td>\n      <td>Female</td>\n      <td>No</td>\n      <td>Yes</td>\n      <td>Yes</td>\n      <td>17 to 22</td>\n      <td>3</td>\n    </tr>\n    <tr>\n      <th>673</th>\n      <td>0</td>\n      <td>No</td>\n      <td>No</td>\n      <td>Male</td>\n      <td>No</td>\n      <td>Yes</td>\n      <td>No</td>\n      <td>23 to 30</td>\n      <td>1</td>\n    </tr>\n    <tr>\n      <th>318</th>\n      <td>1</td>\n      <td>Yes</td>\n      <td>Yes</td>\n      <td>Female</td>\n      <td>No</td>\n      <td>Yes</td>\n      <td>Yes</td>\n      <td>31 to 40</td>\n      <td>2</td>\n    </tr>\n    <tr>\n      <th>73</th>\n      <td>1</td>\n      <td>No</td>\n      <td>Yes</td>\n      <td>Female</td>\n      <td>No</td>\n      <td>Yes</td>\n      <td>Yes</td>\n      <td>23 to 30</td>\n      <td>4</td>\n    </tr>\n  </tbody>\n</table>\n</div>"
                    },
                    "metadata": {}
                }
            ]
        },
        {
            "metadata": {},
            "cell_type": "code",
            "source": "y.to_frame().sample(n=5, random_state=10)",
            "execution_count": 38,
            "outputs": [
                {
                    "output_type": "execute_result",
                    "execution_count": 38,
                    "data": {
                        "text/plain": "     CHURN\n390      1\n243      1\n180      1\n766      0\n47       0",
                        "text/html": "<div>\n<style scoped>\n    .dataframe tbody tr th:only-of-type {\n        vertical-align: middle;\n    }\n\n    .dataframe tbody tr th {\n        vertical-align: top;\n    }\n\n    .dataframe thead th {\n        text-align: right;\n    }\n</style>\n<table border=\"1\" class=\"dataframe\">\n  <thead>\n    <tr style=\"text-align: right;\">\n      <th></th>\n      <th>CHURN</th>\n    </tr>\n  </thead>\n  <tbody>\n    <tr>\n      <th>390</th>\n      <td>1</td>\n    </tr>\n    <tr>\n      <th>243</th>\n      <td>1</td>\n    </tr>\n    <tr>\n      <th>180</th>\n      <td>1</td>\n    </tr>\n    <tr>\n      <th>766</th>\n      <td>0</td>\n    </tr>\n    <tr>\n      <th>47</th>\n      <td>0</td>\n    </tr>\n  </tbody>\n</table>\n</div>"
                    },
                    "metadata": {}
                }
            ]
        },
        {
            "metadata": {},
            "cell_type": "markdown",
            "source": "# Create training and test datasets\u00b6\n\nSplit X and y Data Frames into training and testing sets - accomplished by importing test_train_split from the sklearn.model_selection library (code already included)"
        },
        {
            "metadata": {},
            "cell_type": "code",
            "source": "# split X and y into training and testing sets\nfrom sklearn.model_selection import train_test_split\nX_train, X_test, y_train, y_test = train_test_split(X, y, test_size=0.1, random_state=0)\nX_test.head(5)",
            "execution_count": 39,
            "outputs": [
                {
                    "output_type": "execute_result",
                    "execution_count": 39,
                    "data": {
                        "text/plain": "     Retire Mortgage  LOC  GENDER CHILDREN WORKING HighMonVal  AgeRange  \\\n774       0       No   No    Male       No      No         No  17 to 22   \n594       0       No   No    Male       No     Yes         No  17 to 22   \n586       1      Yes   No    Male      Yes     Yes        Yes  23 to 30   \n44        1       No   No  Female       No     Yes         No  17 to 22   \n251       0       No  Yes    Male      Yes      No         No  60 to 70   \n\n     Frequency_score  \n774                3  \n594                3  \n586                3  \n44                 4  \n251                4  ",
                        "text/html": "<div>\n<style scoped>\n    .dataframe tbody tr th:only-of-type {\n        vertical-align: middle;\n    }\n\n    .dataframe tbody tr th {\n        vertical-align: top;\n    }\n\n    .dataframe thead th {\n        text-align: right;\n    }\n</style>\n<table border=\"1\" class=\"dataframe\">\n  <thead>\n    <tr style=\"text-align: right;\">\n      <th></th>\n      <th>Retire</th>\n      <th>Mortgage</th>\n      <th>LOC</th>\n      <th>GENDER</th>\n      <th>CHILDREN</th>\n      <th>WORKING</th>\n      <th>HighMonVal</th>\n      <th>AgeRange</th>\n      <th>Frequency_score</th>\n    </tr>\n  </thead>\n  <tbody>\n    <tr>\n      <th>774</th>\n      <td>0</td>\n      <td>No</td>\n      <td>No</td>\n      <td>Male</td>\n      <td>No</td>\n      <td>No</td>\n      <td>No</td>\n      <td>17 to 22</td>\n      <td>3</td>\n    </tr>\n    <tr>\n      <th>594</th>\n      <td>0</td>\n      <td>No</td>\n      <td>No</td>\n      <td>Male</td>\n      <td>No</td>\n      <td>Yes</td>\n      <td>No</td>\n      <td>17 to 22</td>\n      <td>3</td>\n    </tr>\n    <tr>\n      <th>586</th>\n      <td>1</td>\n      <td>Yes</td>\n      <td>No</td>\n      <td>Male</td>\n      <td>Yes</td>\n      <td>Yes</td>\n      <td>Yes</td>\n      <td>23 to 30</td>\n      <td>3</td>\n    </tr>\n    <tr>\n      <th>44</th>\n      <td>1</td>\n      <td>No</td>\n      <td>No</td>\n      <td>Female</td>\n      <td>No</td>\n      <td>Yes</td>\n      <td>No</td>\n      <td>17 to 22</td>\n      <td>4</td>\n    </tr>\n    <tr>\n      <th>251</th>\n      <td>0</td>\n      <td>No</td>\n      <td>Yes</td>\n      <td>Male</td>\n      <td>Yes</td>\n      <td>No</td>\n      <td>No</td>\n      <td>60 to 70</td>\n      <td>4</td>\n    </tr>\n  </tbody>\n</table>\n</div>"
                    },
                    "metadata": {}
                }
            ]
        },
        {
            "metadata": {},
            "cell_type": "markdown",
            "source": "Show the number of rows in each data set"
        },
        {
            "metadata": {},
            "cell_type": "code",
            "source": "# Show the number of rows in each data set\nprint('Number of rows in X_train is {}.'.format(X_train.shape[0]))\nprint('Number of rows in X_test is {}.'.format(X_test.shape[0]))\nprint('Number of rows in y_train is {}.'.format(y_train.shape[0]))\nprint('Number of rows in y_test is {}.'.format(y_test.shape[0]))",
            "execution_count": 40,
            "outputs": [
                {
                    "output_type": "stream",
                    "text": "Number of rows in X_train is 684.\nNumber of rows in X_test is 76.\nNumber of rows in y_train is 684.\nNumber of rows in y_test is 76.\n",
                    "name": "stdout"
                }
            ]
        },
        {
            "metadata": {},
            "cell_type": "markdown",
            "source": "# Train the model\n\nThe eval_metric parameter specifies the evaluation metrics for validation data\nWe will be using a Binary classification error rate. It is calculated as # of wrong cases divided by # of all cases. *(#wrong/#all)*\nFor the predicitons, the evaluation will regard the instances with prediction value larger than 0.5 as positive instances and\nthe others as negative instances. "
        },
        {
            "metadata": {},
            "cell_type": "code",
            "source": "import sklearn.pipeline\nfrom xgboost import XGBClassifier\n\nXGBClassifier = XGBClassifier()\nsteps = [('mapper', mapper),('XGBClassifier', XGBClassifier)]\npipeline = sklearn.pipeline.Pipeline(steps)\n#model=pipeline.fit( X_train, y_train )\n\n#Train the model\nmodel = (pipeline.fit(X_train, y_train, XGBClassifier__eval_metric='error', \n        XGBClassifier__eval_set=[((mapper.fit_transform(X_train), y_train)),(mapper.fit_transform(X_test), y_test)]))\n\n# The eval_metric parameter specifies the evaluation metrics for validation data \n# Here we are using a Binary classification error rate. It is calculated as #(wrong cases)/#(all cases).\n# For the predictions, the evaluation will regard the instances with prediction value larger than 0.5 as positive instances,\n# and the others as negative instances.",
            "execution_count": 41,
            "outputs": [
                {
                    "output_type": "stream",
                    "text": "[0]\tvalidation_0-error:0.22076\tvalidation_1-error:0.263158\n[1]\tvalidation_0-error:0.209064\tvalidation_1-error:0.236842\n[2]\tvalidation_0-error:0.209064\tvalidation_1-error:0.236842\n[3]\tvalidation_0-error:0.209064\tvalidation_1-error:0.236842\n[4]\tvalidation_0-error:0.175439\tvalidation_1-error:0.184211\n[5]\tvalidation_0-error:0.194444\tvalidation_1-error:0.210526\n[6]\tvalidation_0-error:0.172515\tvalidation_1-error:0.157895\n[7]\tvalidation_0-error:0.168129\tvalidation_1-error:0.144737\n[8]\tvalidation_0-error:0.182749\tvalidation_1-error:0.157895\n[9]\tvalidation_0-error:0.160819\tvalidation_1-error:0.105263\n[10]\tvalidation_0-error:0.166667\tvalidation_1-error:0.131579\n[11]\tvalidation_0-error:0.166667\tvalidation_1-error:0.131579\n[12]\tvalidation_0-error:0.162281\tvalidation_1-error:0.105263\n[13]\tvalidation_0-error:0.165205\tvalidation_1-error:0.105263\n[14]\tvalidation_0-error:0.160819\tvalidation_1-error:0.105263\n[15]\tvalidation_0-error:0.154971\tvalidation_1-error:0.105263\n[16]\tvalidation_0-error:0.159357\tvalidation_1-error:0.105263\n[17]\tvalidation_0-error:0.149123\tvalidation_1-error:0.105263\n[18]\tvalidation_0-error:0.152047\tvalidation_1-error:0.105263\n[19]\tvalidation_0-error:0.149123\tvalidation_1-error:0.105263\n[20]\tvalidation_0-error:0.150585\tvalidation_1-error:0.105263\n[21]\tvalidation_0-error:0.149123\tvalidation_1-error:0.105263\n[22]\tvalidation_0-error:0.149123\tvalidation_1-error:0.105263\n[23]\tvalidation_0-error:0.149123\tvalidation_1-error:0.105263\n[24]\tvalidation_0-error:0.144737\tvalidation_1-error:0.105263\n[25]\tvalidation_0-error:0.146199\tvalidation_1-error:0.105263\n[26]\tvalidation_0-error:0.143275\tvalidation_1-error:0.105263\n[27]\tvalidation_0-error:0.144737\tvalidation_1-error:0.118421\n[28]\tvalidation_0-error:0.143275\tvalidation_1-error:0.105263\n[29]\tvalidation_0-error:0.141813\tvalidation_1-error:0.118421\n[30]\tvalidation_0-error:0.141813\tvalidation_1-error:0.118421\n[31]\tvalidation_0-error:0.138889\tvalidation_1-error:0.118421\n[32]\tvalidation_0-error:0.135965\tvalidation_1-error:0.105263\n[33]\tvalidation_0-error:0.137427\tvalidation_1-error:0.105263\n[34]\tvalidation_0-error:0.134503\tvalidation_1-error:0.118421\n[35]\tvalidation_0-error:0.133041\tvalidation_1-error:0.118421\n[36]\tvalidation_0-error:0.133041\tvalidation_1-error:0.131579\n[37]\tvalidation_0-error:0.133041\tvalidation_1-error:0.118421\n[38]\tvalidation_0-error:0.133041\tvalidation_1-error:0.105263\n[39]\tvalidation_0-error:0.133041\tvalidation_1-error:0.118421\n[40]\tvalidation_0-error:0.134503\tvalidation_1-error:0.131579\n[41]\tvalidation_0-error:0.128655\tvalidation_1-error:0.118421\n[42]\tvalidation_0-error:0.130117\tvalidation_1-error:0.131579\n[43]\tvalidation_0-error:0.125731\tvalidation_1-error:0.131579\n[44]\tvalidation_0-error:0.127193\tvalidation_1-error:0.131579\n[45]\tvalidation_0-error:0.122807\tvalidation_1-error:0.131579\n[46]\tvalidation_0-error:0.124269\tvalidation_1-error:0.118421\n[47]\tvalidation_0-error:0.122807\tvalidation_1-error:0.118421\n[48]\tvalidation_0-error:0.119883\tvalidation_1-error:0.131579\n[49]\tvalidation_0-error:0.121345\tvalidation_1-error:0.118421\n[50]\tvalidation_0-error:0.119883\tvalidation_1-error:0.105263\n[51]\tvalidation_0-error:0.121345\tvalidation_1-error:0.118421\n[52]\tvalidation_0-error:0.121345\tvalidation_1-error:0.105263\n[53]\tvalidation_0-error:0.119883\tvalidation_1-error:0.105263\n[54]\tvalidation_0-error:0.119883\tvalidation_1-error:0.105263\n[55]\tvalidation_0-error:0.118421\tvalidation_1-error:0.105263\n[56]\tvalidation_0-error:0.116959\tvalidation_1-error:0.105263\n[57]\tvalidation_0-error:0.116959\tvalidation_1-error:0.118421\n[58]\tvalidation_0-error:0.116959\tvalidation_1-error:0.118421\n[59]\tvalidation_0-error:0.115497\tvalidation_1-error:0.118421\n[60]\tvalidation_0-error:0.116959\tvalidation_1-error:0.105263\n[61]\tvalidation_0-error:0.115497\tvalidation_1-error:0.105263\n[62]\tvalidation_0-error:0.115497\tvalidation_1-error:0.105263\n[63]\tvalidation_0-error:0.115497\tvalidation_1-error:0.105263\n[64]\tvalidation_0-error:0.114035\tvalidation_1-error:0.105263\n[65]\tvalidation_0-error:0.114035\tvalidation_1-error:0.105263\n[66]\tvalidation_0-error:0.115497\tvalidation_1-error:0.105263\n[67]\tvalidation_0-error:0.115497\tvalidation_1-error:0.105263\n[68]\tvalidation_0-error:0.114035\tvalidation_1-error:0.105263\n[69]\tvalidation_0-error:0.112573\tvalidation_1-error:0.105263\n[70]\tvalidation_0-error:0.115497\tvalidation_1-error:0.118421\n[71]\tvalidation_0-error:0.115497\tvalidation_1-error:0.118421\n[72]\tvalidation_0-error:0.116959\tvalidation_1-error:0.118421\n[73]\tvalidation_0-error:0.116959\tvalidation_1-error:0.118421\n[74]\tvalidation_0-error:0.116959\tvalidation_1-error:0.118421\n[75]\tvalidation_0-error:0.115497\tvalidation_1-error:0.118421\n[76]\tvalidation_0-error:0.118421\tvalidation_1-error:0.118421\n[77]\tvalidation_0-error:0.115497\tvalidation_1-error:0.118421\n[78]\tvalidation_0-error:0.115497\tvalidation_1-error:0.118421\n[79]\tvalidation_0-error:0.116959\tvalidation_1-error:0.118421\n[80]\tvalidation_0-error:0.116959\tvalidation_1-error:0.118421\n[81]\tvalidation_0-error:0.116959\tvalidation_1-error:0.118421\n[82]\tvalidation_0-error:0.115497\tvalidation_1-error:0.118421\n[83]\tvalidation_0-error:0.116959\tvalidation_1-error:0.118421\n[84]\tvalidation_0-error:0.116959\tvalidation_1-error:0.118421\n[85]\tvalidation_0-error:0.116959\tvalidation_1-error:0.118421\n[86]\tvalidation_0-error:0.116959\tvalidation_1-error:0.131579\n[87]\tvalidation_0-error:0.116959\tvalidation_1-error:0.131579\n[88]\tvalidation_0-error:0.115497\tvalidation_1-error:0.131579\n[89]\tvalidation_0-error:0.115497\tvalidation_1-error:0.131579\n[90]\tvalidation_0-error:0.115497\tvalidation_1-error:0.131579\n[91]\tvalidation_0-error:0.115497\tvalidation_1-error:0.131579\n[92]\tvalidation_0-error:0.115497\tvalidation_1-error:0.131579\n[93]\tvalidation_0-error:0.114035\tvalidation_1-error:0.131579\n[94]\tvalidation_0-error:0.115497\tvalidation_1-error:0.131579\n[95]\tvalidation_0-error:0.115497\tvalidation_1-error:0.131579\n[96]\tvalidation_0-error:0.114035\tvalidation_1-error:0.131579\n[97]\tvalidation_0-error:0.114035\tvalidation_1-error:0.131579\n[98]\tvalidation_0-error:0.114035\tvalidation_1-error:0.131579\n[99]\tvalidation_0-error:0.114035\tvalidation_1-error:0.131579\n",
                    "name": "stdout"
                }
            ]
        },
        {
            "metadata": {},
            "cell_type": "markdown",
            "source": "### Show model training parameters "
        },
        {
            "metadata": {},
            "cell_type": "code",
            "source": "# Show model training parameters\nmodel.get_params()",
            "execution_count": 42,
            "outputs": [
                {
                    "output_type": "execute_result",
                    "execution_count": 42,
                    "data": {
                        "text/plain": "{'memory': None,\n 'steps': [('mapper', DataFrameMapper(default=False, df_out=False,\n           features=[('Retire', None), ('Mortgage', LabelEncoder()), ('LOC', LabelEncoder()), ('GENDER', LabelEncoder()), ('CHILDREN', LabelEncoder()), ('WORKING', LabelEncoder()), ('HighMonVal', LabelEncoder()), ('AgeRange', LabelEncoder()), ('Frequency_score', None)],\n           input_df=False, sparse=False)),\n  ('XGBClassifier',\n   XGBClassifier(base_score=0.5, booster='gbtree', colsample_bylevel=1,\n          colsample_bytree=1, gamma=0, learning_rate=0.1, max_delta_step=0,\n          max_depth=3, min_child_weight=1, missing=None, n_estimators=100,\n          n_jobs=1, nthread=None, objective='binary:logistic', random_state=0,\n          reg_alpha=0, reg_lambda=1, scale_pos_weight=1, seed=None,\n          silent=True, subsample=1))],\n 'mapper': DataFrameMapper(default=False, df_out=False,\n         features=[('Retire', None), ('Mortgage', LabelEncoder()), ('LOC', LabelEncoder()), ('GENDER', LabelEncoder()), ('CHILDREN', LabelEncoder()), ('WORKING', LabelEncoder()), ('HighMonVal', LabelEncoder()), ('AgeRange', LabelEncoder()), ('Frequency_score', None)],\n         input_df=False, sparse=False),\n 'XGBClassifier': XGBClassifier(base_score=0.5, booster='gbtree', colsample_bylevel=1,\n        colsample_bytree=1, gamma=0, learning_rate=0.1, max_delta_step=0,\n        max_depth=3, min_child_weight=1, missing=None, n_estimators=100,\n        n_jobs=1, nthread=None, objective='binary:logistic', random_state=0,\n        reg_alpha=0, reg_lambda=1, scale_pos_weight=1, seed=None,\n        silent=True, subsample=1),\n 'mapper__default': False,\n 'mapper__df_out': False,\n 'mapper__features': [('Retire', None),\n  ('Mortgage', LabelEncoder()),\n  ('LOC', LabelEncoder()),\n  ('GENDER', LabelEncoder()),\n  ('CHILDREN', LabelEncoder()),\n  ('WORKING', LabelEncoder()),\n  ('HighMonVal', LabelEncoder()),\n  ('AgeRange', LabelEncoder()),\n  ('Frequency_score', None)],\n 'mapper__input_df': False,\n 'mapper__sparse': False,\n 'XGBClassifier__base_score': 0.5,\n 'XGBClassifier__booster': 'gbtree',\n 'XGBClassifier__colsample_bylevel': 1,\n 'XGBClassifier__colsample_bytree': 1,\n 'XGBClassifier__gamma': 0,\n 'XGBClassifier__learning_rate': 0.1,\n 'XGBClassifier__max_delta_step': 0,\n 'XGBClassifier__max_depth': 3,\n 'XGBClassifier__min_child_weight': 1,\n 'XGBClassifier__missing': None,\n 'XGBClassifier__n_estimators': 100,\n 'XGBClassifier__n_jobs': 1,\n 'XGBClassifier__nthread': None,\n 'XGBClassifier__objective': 'binary:logistic',\n 'XGBClassifier__random_state': 0,\n 'XGBClassifier__reg_alpha': 0,\n 'XGBClassifier__reg_lambda': 1,\n 'XGBClassifier__scale_pos_weight': 1,\n 'XGBClassifier__seed': None,\n 'XGBClassifier__silent': True,\n 'XGBClassifier__subsample': 1}"
                    },
                    "metadata": {}
                }
            ]
        },
        {
            "metadata": {},
            "cell_type": "markdown",
            "source": "# Check model accuracy\n\n1. import the required modules from the scikit-learn metrics package *(provided)*\n2. make predictions for the test data\n3. convert the numpy array provided the from the precit function to a list\n4. evaluate the predictions"
        },
        {
            "metadata": {},
            "cell_type": "code",
            "source": "#import required modules from the scikit-learn metrics package\nfrom sklearn.metrics import accuracy_score, confusion_matrix, roc_curve, roc_auc_score",
            "execution_count": 43,
            "outputs": []
        },
        {
            "metadata": {},
            "cell_type": "code",
            "source": "# make predictions for test data\ny_pred = model.predict(X_test)\n# Convert numpy array to list\npredictions = y_pred.tolist()",
            "execution_count": 44,
            "outputs": []
        },
        {
            "metadata": {},
            "cell_type": "code",
            "source": "# evaluate predictions\naccuracy = accuracy_score(y_test, predictions)\nprint('Accuracy: {:.1f}%'.format(accuracy * 100.0))",
            "execution_count": 45,
            "outputs": [
                {
                    "output_type": "stream",
                    "text": "Accuracy: 86.8%\n",
                    "name": "stdout"
                }
            ]
        },
        {
            "metadata": {},
            "cell_type": "markdown",
            "source": "# Analyze Model - Feature Importance and Trees"
        },
        {
            "metadata": {},
            "cell_type": "code",
            "source": "print(XGBClassifier.feature_importances_)",
            "execution_count": 46,
            "outputs": [
                {
                    "output_type": "stream",
                    "text": "[0.09169055 0.09885387 0.09455588 0.04297994 0.06160459 0.03438395\n 0.13896848 0.18911175 0.247851  ]\n",
                    "name": "stdout"
                }
            ]
        },
        {
            "metadata": {},
            "cell_type": "code",
            "source": "[print('{0} importance = {1:.2f}'.format(X_train.columns.tolist()[x], XGBClassifier.feature_importances_[x])) for x in range(len(X_train.columns))]",
            "execution_count": 47,
            "outputs": [
                {
                    "output_type": "stream",
                    "text": "Retire importance = 0.09\nMortgage importance = 0.10\nLOC importance = 0.09\nGENDER importance = 0.04\nCHILDREN importance = 0.06\nWORKING importance = 0.03\nHighMonVal importance = 0.14\nAgeRange importance = 0.19\nFrequency_score importance = 0.25\n",
                    "name": "stdout"
                },
                {
                    "output_type": "execute_result",
                    "execution_count": 47,
                    "data": {
                        "text/plain": "[None, None, None, None, None, None, None, None, None]"
                    },
                    "metadata": {}
                }
            ]
        },
        {
            "metadata": {},
            "cell_type": "code",
            "source": "from xgboost import plot_importance\nplot_importance(XGBClassifier)",
            "execution_count": 48,
            "outputs": [
                {
                    "output_type": "execute_result",
                    "execution_count": 48,
                    "data": {
                        "text/plain": "<matplotlib.axes._subplots.AxesSubplot at 0x7f29ad3c8908>"
                    },
                    "metadata": {}
                }
            ]
        },
        {
            "metadata": {},
            "cell_type": "markdown",
            "source": "### Install graphviz for visual analysis & import matplotlib.pylot *(provided)* "
        },
        {
            "metadata": {},
            "cell_type": "code",
            "source": "!pip install graphviz\nimport matplotlib.pyplot as plt\n%matplotlib inline",
            "execution_count": 49,
            "outputs": [
                {
                    "output_type": "stream",
                    "text": "Collecting graphviz\n  Downloading https://files.pythonhosted.org/packages/83/cc/c62100906d30f95d46451c15eb407da7db201e30f42008f3643945910373/graphviz-0.14-py2.py3-none-any.whl\nInstalling collected packages: graphviz\nSuccessfully installed graphviz-0.14\n",
                    "name": "stdout"
                }
            ]
        },
        {
            "metadata": {},
            "cell_type": "markdown",
            "source": "# Investigate model"
        },
        {
            "metadata": {},
            "cell_type": "code",
            "source": "# Plot and display the performance evaluation\neval = model.named_steps['XGBClassifier'].evals_result()\neval_steps = range(len(eval['validation_0']['error']))\n\n# Set the figure for matplotlib figures\nfig, ax = plt.subplots(1, 1, sharex=True, figsize=(8, 6))\n\nax.plot(eval_steps, [1-x for x in eval['validation_0']['error']], label='Train')\nax.plot(eval_steps, [1-x for x in eval['validation_1']['error']], label='Test')\nax.legend()\nax.set_title('Accuracy')\nax.set_xlabel('Number of iterations')",
            "execution_count": 50,
            "outputs": [
                {
                    "output_type": "execute_result",
                    "execution_count": 50,
                    "data": {
                        "text/plain": "Text(0.5, 0, 'Number of iterations')"
                    },
                    "metadata": {}
                },
                {
                    "output_type": "display_data",
                    "data": {
                        "text/plain": "<Figure size 576x432 with 1 Axes>",
                        "image/png": "[encoded data removed]"
                    },
                    "metadata": {
                        "needs_background": "light"
                    }
                }
            ]
        },
        {
            "metadata": {},
            "cell_type": "markdown",
            "source": "# Avoid Overfitting By Limiting Number of Trees"
        },
        {
            "metadata": {},
            "cell_type": "code",
            "source": "# ntree_limits the number of trees in the prediction; defaults to 0 (use all trees)\nn_trees = 10\ny_pred = model.named_steps['XGBClassifier'].predict(mapper.fit_transform(X_test), ntree_limit= n_trees)",
            "execution_count": 51,
            "outputs": []
        },
        {
            "metadata": {},
            "cell_type": "code",
            "source": "# Check the accuracy of the trained model\naccuracy = accuracy_score(y_test, y_pred)\n\nprint('Accuracy: {:.1f}%'.format(accuracy * 100.0))",
            "execution_count": 52,
            "outputs": [
                {
                    "output_type": "stream",
                    "text": "Accuracy: 89.5%\n",
                    "name": "stdout"
                }
            ]
        },
        {
            "metadata": {},
            "cell_type": "markdown",
            "source": "# Avoid Overfitting By Early Stopping"
        },
        {
            "metadata": {},
            "cell_type": "code",
            "source": "# Validation error needs to decrease at least every <early_stopping_rounds> round(s) to continue training\n# Returns the model from the last iteration (not the best one) \nrounds = 10\nsteps = [('mapper', mapper),('XGBClassifier', XGBClassifier)]\npipeline = sklearn.pipeline.Pipeline(steps)\nmodel = (pipeline.fit(X_train, y_train, XGBClassifier__eval_metric='error', XGBClassifier__early_stopping_rounds=rounds,\n        XGBClassifier__eval_set=[((mapper.fit_transform(X_train), y_train)),(mapper.fit_transform(X_test), y_test)]))",
            "execution_count": 53,
            "outputs": [
                {
                    "output_type": "stream",
                    "text": "[0]\tvalidation_0-error:0.22076\tvalidation_1-error:0.263158\nMultiple eval metrics have been passed: 'validation_1-error' will be used for early stopping.\n\nWill train until validation_1-error hasn't improved in 10 rounds.\n[1]\tvalidation_0-error:0.209064\tvalidation_1-error:0.236842\n[2]\tvalidation_0-error:0.209064\tvalidation_1-error:0.236842\n[3]\tvalidation_0-error:0.209064\tvalidation_1-error:0.236842\n[4]\tvalidation_0-error:0.175439\tvalidation_1-error:0.184211\n[5]\tvalidation_0-error:0.194444\tvalidation_1-error:0.210526\n[6]\tvalidation_0-error:0.172515\tvalidation_1-error:0.157895\n[7]\tvalidation_0-error:0.168129\tvalidation_1-error:0.144737\n[8]\tvalidation_0-error:0.182749\tvalidation_1-error:0.157895\n[9]\tvalidation_0-error:0.160819\tvalidation_1-error:0.105263\n[10]\tvalidation_0-error:0.166667\tvalidation_1-error:0.131579\n[11]\tvalidation_0-error:0.166667\tvalidation_1-error:0.131579\n[12]\tvalidation_0-error:0.162281\tvalidation_1-error:0.105263\n[13]\tvalidation_0-error:0.165205\tvalidation_1-error:0.105263\n[14]\tvalidation_0-error:0.160819\tvalidation_1-error:0.105263\n[15]\tvalidation_0-error:0.154971\tvalidation_1-error:0.105263\n[16]\tvalidation_0-error:0.159357\tvalidation_1-error:0.105263\n[17]\tvalidation_0-error:0.149123\tvalidation_1-error:0.105263\n[18]\tvalidation_0-error:0.152047\tvalidation_1-error:0.105263\n[19]\tvalidation_0-error:0.149123\tvalidation_1-error:0.105263\nStopping. Best iteration:\n[9]\tvalidation_0-error:0.160819\tvalidation_1-error:0.105263\n\n",
                    "name": "stdout"
                }
            ]
        },
        {
            "metadata": {},
            "cell_type": "code",
            "source": "# Show best score\nprint('Best Score: {:.3f}'.format(XGBClassifier.best_score))\nprint('Best Iteration: {}'.format(XGBClassifier.best_iteration))",
            "execution_count": 54,
            "outputs": [
                {
                    "output_type": "stream",
                    "text": "Best Score: 0.105\nBest Iteration: 9\n",
                    "name": "stdout"
                }
            ]
        },
        {
            "metadata": {},
            "cell_type": "code",
            "source": "# Show best number of trees\nprint('Best Score: {}'.format(XGBClassifier.best_ntree_limit))",
            "execution_count": 55,
            "outputs": [
                {
                    "output_type": "stream",
                    "text": "Best Score: 10\n",
                    "name": "stdout"
                }
            ]
        },
        {
            "metadata": {},
            "cell_type": "code",
            "source": "# Check the accuracy of the trained model with early stopping\naccuracy = accuracy_score(y_test, y_pred)\n\nprint('Accuracy: {:.1f}%.'.format(accuracy * 100.0))",
            "execution_count": 56,
            "outputs": [
                {
                    "output_type": "stream",
                    "text": "Accuracy: 89.5%.\n",
                    "name": "stdout"
                }
            ]
        },
        {
            "metadata": {},
            "cell_type": "markdown",
            "source": "# Plot Model Performance"
        },
        {
            "metadata": {},
            "cell_type": "code",
            "source": "# Print the confusion matrix\ncm = confusion_matrix(y_test, y_pred)\nprint(cm)",
            "execution_count": 59,
            "outputs": [
                {
                    "output_type": "stream",
                    "text": "[[23  3]\n [ 5 45]]\n",
                    "name": "stdout"
                }
            ]
        },
        {
            "metadata": {},
            "cell_type": "code",
            "source": "# Plot the confusion matrix\nplt.matshow(cm)\nplt.title('Confusion matrix')\nplt.colorbar()\nplt.ylabel('True label')\nplt.xlabel('Predicted label')\nplt.show()",
            "execution_count": 60,
            "outputs": [
                {
                    "output_type": "display_data",
                    "data": {
                        "text/plain": "<Figure size 288x288 with 2 Axes>",
                        "image/png": "[encoded data removed]"
                    },
                    "metadata": {
                        "needs_background": "light"
                    }
                }
            ]
        },
        {
            "metadata": {},
            "cell_type": "code",
            "source": "# Plot the ROC curve\nfpr, tpr, thresholds = roc_curve(y_test, y_pred)\nplt.plot(fpr, tpr)\nplt.xlim([0.0, 1.0])\nplt.ylim([0.0, 1.0])\nplt.title('ROC curve (Logistic Regression)')\nplt.xlabel('False Positive Rate')\nplt.ylabel('True Positive Rate')\nplt.grid(True)",
            "execution_count": 61,
            "outputs": [
                {
                    "output_type": "display_data",
                    "data": {
                        "text/plain": "<Figure size 432x288 with 1 Axes>",
                        "image/png": "[encoded data removed]"
                    },
                    "metadata": {
                        "needs_background": "light"
                    }
                }
            ]
        },
        {
            "metadata": {},
            "cell_type": "code",
            "source": "# Print out AUC, the percentage of the ROC plot that is underneath the curve\nprint('AUC using XGBoost = {:.2f}'.format(roc_auc_score(y_test, y_pred)))",
            "execution_count": 62,
            "outputs": [
                {
                    "output_type": "stream",
                    "text": "AUC using XGBoost = 0.89\n",
                    "name": "stdout"
                }
            ]
        },
        {
            "metadata": {},
            "cell_type": "markdown",
            "source": "# Save and Deploy Model"
        },
        {
            "metadata": {},
            "cell_type": "code",
            "source": "#Import WML API\nfrom watson_machine_learning_client import WatsonMachineLearningAPIClient",
            "execution_count": 63,
            "outputs": [
                {
                    "output_type": "stream",
                    "text": "2020-05-18 22:53:50,846 - watson_machine_learning_client.metanames - WARNING - 'AUTHOR_EMAIL' meta prop is deprecated. It will be ignored.\n",
                    "name": "stderr"
                }
            ]
        },
        {
            "metadata": {},
            "cell_type": "code",
            "source": "wml_credentials={\n  \"apikey\": \"iZ0kha1IQxdAI239b92utWHTkWhPdS2JwCIGH90nOIKU\",\n  \"iam_apikey_description\": \"Auto-generated for key 065ebbd2-9b64-4479-b0fe-e6c1d9054cd1\",\n  \"iam_apikey_name\": \"wdp-writer\",\n  \"iam_role_crn\": \"crn:v1:bluemix:public:iam::::serviceRole:Writer\",\n  \"iam_serviceid_crn\": \"crn:v1:bluemix:public:iam-identity::a/d8ec35232337194375b709e39ae4e4e5::serviceid:ServiceId-5b9bf5c6-b42b-423b-a0ac-045ccb154d9e\",\n  \"instance_id\": \"12199dc8-c416-4bce-b27e-f3cde36d59ac\",\n  \"password\": \"296e26c3-fc25-47fe-8a88-1b4660ba81ed\",\n  \"url\": \"https://us-south.ml.cloud.ibm.com\",\n  \"username\": \"065ebbd2-9b64-4479-b0fe-e6c1d9054cd1\"  \n}",
            "execution_count": 64,
            "outputs": []
        },
        {
            "metadata": {},
            "cell_type": "code",
            "source": "wml_client = WatsonMachineLearningAPIClient(wml_credentials)",
            "execution_count": 65,
            "outputs": []
        },
        {
            "metadata": {},
            "cell_type": "code",
            "source": "model_props = {wml_client.repository.ModelMetaNames.AUTHOR_NAME: \"Patrick Pitre\", \n               wml_client.repository.ModelMetaNames.AUTHOR_EMAIL: \"mail@us.ibm.com\", \n               wml_client.repository.ModelMetaNames.NAME: \"RetailChurnXGBoost\"}\n\npublished_model = wml_client.repository.store_model(model=model, meta_props=model_props,training_data=X_train, training_target=y_train)",
            "execution_count": 66,
            "outputs": []
        },
        {
            "metadata": {},
            "cell_type": "code",
            "source": "published_model",
            "execution_count": 67,
            "outputs": [
                {
                    "output_type": "execute_result",
                    "execution_count": 67,
                    "data": {
                        "text/plain": "{'metadata': {'guid': '430b7441-9a51-42ba-9c5c-a19126c55ca6',\n  'url': 'https://us-south.ml.cloud.ibm.com/v3/wml_instances/12199dc8-c416-4bce-b27e-f3cde36d59ac/published_models/430b7441-9a51-42ba-9c5c-a19126c55ca6',\n  'created_at': '2020-05-18T22:53:52.038Z',\n  'modified_at': '2020-05-18T22:53:52.110Z'},\n 'entity': {'runtime_environment': 'python-3.6',\n  'learning_configuration_url': 'https://us-south.ml.cloud.ibm.com/v3/wml_instances/12199dc8-c416-4bce-b27e-f3cde36d59ac/published_models/430b7441-9a51-42ba-9c5c-a19126c55ca6/learning_configuration',\n  'author': {'name': 'Patrick Pitre'},\n  'name': 'RetailChurnXGBoost',\n  'label_col': 'CHURN',\n  'learning_iterations_url': 'https://us-south.ml.cloud.ibm.com/v3/wml_instances/12199dc8-c416-4bce-b27e-f3cde36d59ac/published_models/430b7441-9a51-42ba-9c5c-a19126c55ca6/learning_iterations',\n  'training_data_schema': {'features': {'type': 'DataFrame',\n    'fields': [{'name': 'Retire', 'type': 'int64'},\n     {'name': 'Mortgage', 'type': 'object'},\n     {'name': 'LOC', 'type': 'object'},\n     {'name': 'GENDER', 'type': 'object'},\n     {'name': 'CHILDREN', 'type': 'object'},\n     {'name': 'WORKING', 'type': 'object'},\n     {'name': 'HighMonVal', 'type': 'object'},\n     {'name': 'AgeRange', 'type': 'object'},\n     {'name': 'Frequency_score', 'type': 'int64'}]},\n   'labels': {'type': 'Series',\n    'fields': [{'name': 'CHURN', 'type': 'int64'}]}},\n  'feedback_url': 'https://us-south.ml.cloud.ibm.com/v3/wml_instances/12199dc8-c416-4bce-b27e-f3cde36d59ac/published_models/430b7441-9a51-42ba-9c5c-a19126c55ca6/feedback',\n  'latest_version': {'url': 'https://us-south.ml.cloud.ibm.com/v3/ml_assets/models/430b7441-9a51-42ba-9c5c-a19126c55ca6/versions/ce82baa9-559b-4f5d-9207-b22b4f4c9483',\n   'guid': 'ce82baa9-559b-4f5d-9207-b22b4f4c9483',\n   'created_at': '2020-05-18T22:53:52.110Z'},\n  'model_type': 'scikit-learn-0.20',\n  'deployments': {'count': 0,\n   'url': 'https://us-south.ml.cloud.ibm.com/v3/wml_instances/12199dc8-c416-4bce-b27e-f3cde36d59ac/published_models/430b7441-9a51-42ba-9c5c-a19126c55ca6/deployments'},\n  'evaluation_metrics_url': 'https://us-south.ml.cloud.ibm.com/v3/wml_instances/12199dc8-c416-4bce-b27e-f3cde36d59ac/published_models/430b7441-9a51-42ba-9c5c-a19126c55ca6/evaluation_metrics',\n  'input_data_schema': {'features': {'type': 'DataFrame',\n    'fields': [{'name': 'Retire', 'type': 'int64'},\n     {'name': 'Mortgage', 'type': 'object'},\n     {'name': 'LOC', 'type': 'object'},\n     {'name': 'GENDER', 'type': 'object'},\n     {'name': 'CHILDREN', 'type': 'object'},\n     {'name': 'WORKING', 'type': 'object'},\n     {'name': 'HighMonVal', 'type': 'object'},\n     {'name': 'AgeRange', 'type': 'object'},\n     {'name': 'Frequency_score', 'type': 'int64'}]},\n   'labels': {'type': 'Series',\n    'fields': [{'name': 'CHURN', 'type': 'int64'}]}}}}"
                    },
                    "metadata": {}
                }
            ]
        },
        {
            "metadata": {},
            "cell_type": "markdown",
            "source": "![IBM Logo](http://www-03.ibm.com/press/img/Large_IBM_Logo_TN.jpg)"
        },
        {
            "metadata": {},
            "cell_type": "code",
            "source": "",
            "execution_count": null,
            "outputs": []
        }
    ],
    "metadata": {
        "kernelspec": {
            "name": "python3",
            "display_name": "Python 3.6",
            "language": "python"
        },
        "language_info": {
            "name": "python",
            "version": "3.6.9",
            "mimetype": "text/x-python",
            "codemirror_mode": {
                "name": "ipython",
                "version": 3
            },
            "pygments_lexer": "ipython3",
            "nbconvert_exporter": "python",
            "file_extension": ".py"
        }
    },
    "nbformat": 4,
    "nbformat_minor": 1
}